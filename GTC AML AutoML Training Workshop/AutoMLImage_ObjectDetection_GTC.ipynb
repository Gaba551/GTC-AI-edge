{
 "cells": [
  {
   "cell_type": "markdown",
   "metadata": {},
   "source": [
    "Copyright (c) Microsoft Corporation. All rights reserved.\n",
    "\n",
    "Licensed under the MIT License.\n",
    "\n",
    "# Training an Object Detection model using AutoML\n",
    "In this notebook, we go over how you can use AutoML for training an Object Detection model. We will use a small dataset to train the model, demonstrate how you can tune hyperparameters of the model to optimize model performance and deploy the model to use in inference scenarios. For detailed information please refer to the [documentation of AutoML for Images](https://docs.microsoft.com/en-us/azure/machine-learning/how-to-auto-train-image-models)."
   ]
  },
  {
   "cell_type": "markdown",
   "metadata": {},
   "source": [
    "![img](example_object_detection_predictions.jpg)"
   ]
  },
  {
   "cell_type": "markdown",
   "metadata": {},
   "source": [
    "**Important:** This feature is currently in public preview. This preview version is provided without a service-level agreement. Certain features might not be supported or might have constrained capabilities. For more information, see [Supplemental Terms of Use for Microsoft Azure Previews](https://azure.microsoft.com/en-us/support/legal/preview-supplemental-terms/)."
   ]
  },
  {
   "cell_type": "markdown",
   "metadata": {},
   "source": [
    "## Environment Setup\n",
    "Please follow the [\"Setup a new conda environment\"](https://github.com/Azure/azureml-examples/tree/main/python-sdk/tutorials/automl-with-azureml#3-setup-a-new-conda-environment) instructions to get started."
   ]
  },
  {
   "cell_type": "code",
   "execution_count": 121,
   "metadata": {},
   "outputs": [
    {
     "name": "stdout",
     "output_type": "stream",
     "text": [
      "Requirement already up-to-date: azureml-sdk in /anaconda/envs/azureml_py36/lib/python3.6/site-packages (1.38.0)\n",
      "Requirement already satisfied, skipping upgrade: azureml-dataset-runtime[fuse]~=1.38.0 in /anaconda/envs/azureml_py36/lib/python3.6/site-packages (from azureml-sdk) (1.38.0)\n",
      "Requirement already satisfied, skipping upgrade: azureml-train-core~=1.38.0 in /anaconda/envs/azureml_py36/lib/python3.6/site-packages (from azureml-sdk) (1.38.0)\n",
      "Requirement already satisfied, skipping upgrade: azureml-train-automl-client~=1.38.0 in /anaconda/envs/azureml_py36/lib/python3.6/site-packages (from azureml-sdk) (1.38.0)\n",
      "Requirement already satisfied, skipping upgrade: azureml-core~=1.38.0 in /anaconda/envs/azureml_py36/lib/python3.6/site-packages (from azureml-sdk) (1.38.0)\n",
      "Requirement already satisfied, skipping upgrade: azureml-pipeline~=1.38.0 in /anaconda/envs/azureml_py36/lib/python3.6/site-packages (from azureml-sdk) (1.38.0)\n",
      "Requirement already satisfied, skipping upgrade: pyarrow<4.0.0,>=0.17.0 in /anaconda/envs/azureml_py36/lib/python3.6/site-packages (from azureml-dataset-runtime[fuse]~=1.38.0->azureml-sdk) (1.0.1)\n",
      "Requirement already satisfied, skipping upgrade: numpy!=1.19.3; sys_platform == \"linux\" in /anaconda/envs/azureml_py36/lib/python3.6/site-packages (from azureml-dataset-runtime[fuse]~=1.38.0->azureml-sdk) (1.18.5)\n",
      "Requirement already satisfied, skipping upgrade: azureml-dataprep<2.27.0a,>=2.26.0a in /anaconda/envs/azureml_py36/lib/python3.6/site-packages (from azureml-dataset-runtime[fuse]~=1.38.0->azureml-sdk) (2.26.0)\n",
      "Requirement already satisfied, skipping upgrade: fusepy<4.0.0,>=3.0.1; extra == \"fuse\" in /anaconda/envs/azureml_py36/lib/python3.6/site-packages (from azureml-dataset-runtime[fuse]~=1.38.0->azureml-sdk) (3.0.1)\n",
      "Requirement already satisfied, skipping upgrade: azureml-telemetry~=1.38.0 in /anaconda/envs/azureml_py36/lib/python3.6/site-packages (from azureml-train-core~=1.38.0->azureml-sdk) (1.38.0)\n",
      "Requirement already satisfied, skipping upgrade: azureml-train-restclients-hyperdrive~=1.38.0 in /anaconda/envs/azureml_py36/lib/python3.6/site-packages (from azureml-train-core~=1.38.0->azureml-sdk) (1.38.0)\n",
      "Requirement already satisfied, skipping upgrade: azureml-automl-core~=1.38.0 in /anaconda/envs/azureml_py36/lib/python3.6/site-packages (from azureml-train-automl-client~=1.38.0->azureml-sdk) (1.38.0)\n",
      "Requirement already satisfied, skipping upgrade: contextlib2<22.0.0 in /anaconda/envs/azureml_py36/lib/python3.6/site-packages (from azureml-core~=1.38.0->azureml-sdk) (0.6.0.post1)\n",
      "Requirement already satisfied, skipping upgrade: azure-core<1.22 in /anaconda/envs/azureml_py36/lib/python3.6/site-packages (from azureml-core~=1.38.0->azureml-sdk) (1.21.1)\n",
      "Requirement already satisfied, skipping upgrade: cryptography!=1.9,!=2.0.*,!=2.1.*,!=2.2.*,<37.0.0 in /anaconda/envs/azureml_py36/lib/python3.6/site-packages (from azureml-core~=1.38.0->azureml-sdk) (3.4.7)\n",
      "Requirement already satisfied, skipping upgrade: msrestazure<=0.6.4,>=0.4.33 in /anaconda/envs/azureml_py36/lib/python3.6/site-packages (from azureml-core~=1.38.0->azureml-sdk) (0.6.4)\n",
      "Requirement already satisfied, skipping upgrade: paramiko<3.0.0,>=2.0.8 in /anaconda/envs/azureml_py36/lib/python3.6/site-packages (from azureml-core~=1.38.0->azureml-sdk) (2.7.2)\n",
      "Requirement already satisfied, skipping upgrade: azure-mgmt-storage<20.0.0,>=16.0.0 in /anaconda/envs/azureml_py36/lib/python3.6/site-packages (from azureml-core~=1.38.0->azureml-sdk) (19.0.0)\n",
      "Requirement already satisfied, skipping upgrade: urllib3<=1.26.7,>=1.23 in /anaconda/envs/azureml_py36/lib/python3.6/site-packages (from azureml-core~=1.38.0->azureml-sdk) (1.25.11)\n",
      "Requirement already satisfied, skipping upgrade: azure-mgmt-resource<21.0.0,>=15.0.0 in /anaconda/envs/azureml_py36/lib/python3.6/site-packages (from azureml-core~=1.38.0->azureml-sdk) (20.1.0)\n",
      "Requirement already satisfied, skipping upgrade: SecretStorage<4.0.0 in /anaconda/envs/azureml_py36/lib/python3.6/site-packages (from azureml-core~=1.38.0->azureml-sdk) (3.3.1)\n",
      "Requirement already satisfied, skipping upgrade: argcomplete<2.0 in /anaconda/envs/azureml_py36/lib/python3.6/site-packages (from azureml-core~=1.38.0->azureml-sdk) (1.12.3)\n",
      "Requirement already satisfied, skipping upgrade: jmespath<1.0.0 in /anaconda/envs/azureml_py36/lib/python3.6/site-packages (from azureml-core~=1.38.0->azureml-sdk) (0.10.0)\n",
      "Requirement already satisfied, skipping upgrade: msal-extensions<0.4,>=0.3.0 in /anaconda/envs/azureml_py36/lib/python3.6/site-packages (from azureml-core~=1.38.0->azureml-sdk) (0.3.1)\n",
      "Requirement already satisfied, skipping upgrade: azure-mgmt-keyvault<10.0.0,>=0.40.0 in /anaconda/envs/azureml_py36/lib/python3.6/site-packages (from azureml-core~=1.38.0->azureml-sdk) (2.2.0)\n",
      "Requirement already satisfied, skipping upgrade: azure-common<2.0.0,>=1.1.12 in /anaconda/envs/azureml_py36/lib/python3.6/site-packages (from azureml-core~=1.38.0->azureml-sdk) (1.1.27)\n",
      "Requirement already satisfied, skipping upgrade: requests[socks]<3.0.0,>=2.19.1 in /anaconda/envs/azureml_py36/lib/python3.6/site-packages (from azureml-core~=1.38.0->azureml-sdk) (2.25.1)\n",
      "Requirement already satisfied, skipping upgrade: jsonpickle<3.0.0 in /anaconda/envs/azureml_py36/lib/python3.6/site-packages (from azureml-core~=1.38.0->azureml-sdk) (2.0.0)\n",
      "Requirement already satisfied, skipping upgrade: pkginfo in /anaconda/envs/azureml_py36/lib/python3.6/site-packages (from azureml-core~=1.38.0->azureml-sdk) (1.7.0)\n",
      "Requirement already satisfied, skipping upgrade: azure-mgmt-authorization<1.0.0,>=0.40.0 in /anaconda/envs/azureml_py36/lib/python3.6/site-packages (from azureml-core~=1.38.0->azureml-sdk) (0.61.0)\n",
      "Requirement already satisfied, skipping upgrade: ndg-httpsclient<=0.5.1 in /anaconda/envs/azureml_py36/lib/python3.6/site-packages (from azureml-core~=1.38.0->azureml-sdk) (0.5.1)\n",
      "Requirement already satisfied, skipping upgrade: packaging<22.0,>=20.0 in /anaconda/envs/azureml_py36/lib/python3.6/site-packages (from azureml-core~=1.38.0->azureml-sdk) (20.9)\n",
      "Requirement already satisfied, skipping upgrade: knack~=0.8.2 in /anaconda/envs/azureml_py36/lib/python3.6/site-packages (from azureml-core~=1.38.0->azureml-sdk) (0.8.2)\n",
      "Requirement already satisfied, skipping upgrade: pytz in /anaconda/envs/azureml_py36/lib/python3.6/site-packages (from azureml-core~=1.38.0->azureml-sdk) (2021.1)\n",
      "Requirement already satisfied, skipping upgrade: adal<=1.2.7,>=1.2.0 in /anaconda/envs/azureml_py36/lib/python3.6/site-packages (from azureml-core~=1.38.0->azureml-sdk) (1.2.7)\n",
      "Requirement already satisfied, skipping upgrade: azure-graphrbac<1.0.0,>=0.40.0 in /anaconda/envs/azureml_py36/lib/python3.6/site-packages (from azureml-core~=1.38.0->azureml-sdk) (0.61.1)\n",
      "Requirement already satisfied, skipping upgrade: msrest<1.0.0,>=0.5.1 in /anaconda/envs/azureml_py36/lib/python3.6/site-packages (from azureml-core~=1.38.0->azureml-sdk) (0.6.21)\n",
      "Requirement already satisfied, skipping upgrade: pathspec<1.0.0 in /anaconda/envs/azureml_py36/lib/python3.6/site-packages (from azureml-core~=1.38.0->azureml-sdk) (0.8.1)\n",
      "Requirement already satisfied, skipping upgrade: pyopenssl<22.0.0 in /anaconda/envs/azureml_py36/lib/python3.6/site-packages (from azureml-core~=1.38.0->azureml-sdk) (20.0.1)\n",
      "Requirement already satisfied, skipping upgrade: azure-mgmt-containerregistry<9.0.0,>=8.2.0 in /anaconda/envs/azureml_py36/lib/python3.6/site-packages (from azureml-core~=1.38.0->azureml-sdk) (8.2.0)\n",
      "Requirement already satisfied, skipping upgrade: PyJWT<3.0.0 in /anaconda/envs/azureml_py36/lib/python3.6/site-packages (from azureml-core~=1.38.0->azureml-sdk) (2.0.1)\n",
      "Requirement already satisfied, skipping upgrade: docker<6.0.0 in /anaconda/envs/azureml_py36/lib/python3.6/site-packages (from azureml-core~=1.38.0->azureml-sdk) (4.4.4)\n",
      "Requirement already satisfied, skipping upgrade: msal<2.0.0,>=1.15.0 in /anaconda/envs/azureml_py36/lib/python3.6/site-packages (from azureml-core~=1.38.0->azureml-sdk) (1.16.0)\n",
      "Requirement already satisfied, skipping upgrade: humanfriendly<11.0,>=4.7 in /anaconda/envs/azureml_py36/lib/python3.6/site-packages (from azureml-core~=1.38.0->azureml-sdk) (9.1)\n",
      "Requirement already satisfied, skipping upgrade: python-dateutil<3.0.0,>=2.7.3 in /anaconda/envs/azureml_py36/lib/python3.6/site-packages (from azureml-core~=1.38.0->azureml-sdk) (2.8.1)\n",
      "Requirement already satisfied, skipping upgrade: backports.tempfile in /anaconda/envs/azureml_py36/lib/python3.6/site-packages (from azureml-core~=1.38.0->azureml-sdk) (1.0)\n",
      "Requirement already satisfied, skipping upgrade: azureml-pipeline-steps~=1.38.0 in /anaconda/envs/azureml_py36/lib/python3.6/site-packages (from azureml-pipeline~=1.38.0->azureml-sdk) (1.38.0)\n",
      "Requirement already satisfied, skipping upgrade: azureml-pipeline-core~=1.38.0 in /anaconda/envs/azureml_py36/lib/python3.6/site-packages (from azureml-pipeline~=1.38.0->azureml-sdk) (1.38.0)\n",
      "Requirement already satisfied, skipping upgrade: azure-identity==1.7.0 in /anaconda/envs/azureml_py36/lib/python3.6/site-packages (from azureml-dataprep<2.27.0a,>=2.26.0a->azureml-dataset-runtime[fuse]~=1.38.0->azureml-sdk) (1.7.0)\n",
      "Requirement already satisfied, skipping upgrade: cloudpickle<3.0.0,>=1.1.0 in /anaconda/envs/azureml_py36/lib/python3.6/site-packages (from azureml-dataprep<2.27.0a,>=2.26.0a->azureml-dataset-runtime[fuse]~=1.38.0->azureml-sdk) (1.6.0)\n",
      "Requirement already satisfied, skipping upgrade: azureml-dataprep-native<39.0.0,>=38.0.0 in /anaconda/envs/azureml_py36/lib/python3.6/site-packages (from azureml-dataprep<2.27.0a,>=2.26.0a->azureml-dataset-runtime[fuse]~=1.38.0->azureml-sdk) (38.0.0)\n",
      "Requirement already satisfied, skipping upgrade: dotnetcore2<3.0.0,>=2.1.14 in /anaconda/envs/azureml_py36/lib/python3.6/site-packages (from azureml-dataprep<2.27.0a,>=2.26.0a->azureml-dataset-runtime[fuse]~=1.38.0->azureml-sdk) (2.1.20)\n",
      "Requirement already satisfied, skipping upgrade: azureml-dataprep-rslex~=2.2.0dev0 in /anaconda/envs/azureml_py36/lib/python3.6/site-packages (from azureml-dataprep<2.27.0a,>=2.26.0a->azureml-dataset-runtime[fuse]~=1.38.0->azureml-sdk) (2.2.0)\n",
      "Requirement already satisfied, skipping upgrade: applicationinsights in /anaconda/envs/azureml_py36/lib/python3.6/site-packages (from azureml-telemetry~=1.38.0->azureml-train-core~=1.38.0->azureml-sdk) (0.11.9)\n",
      "Requirement already satisfied, skipping upgrade: six>=1.11.0 in /anaconda/envs/azureml_py36/lib/python3.6/site-packages (from azure-core<1.22->azureml-core~=1.38.0->azureml-sdk) (1.15.0)\n",
      "Requirement already satisfied, skipping upgrade: cffi>=1.12 in /anaconda/envs/azureml_py36/lib/python3.6/site-packages (from cryptography!=1.9,!=2.0.*,!=2.1.*,!=2.2.*,<37.0.0->azureml-core~=1.38.0->azureml-sdk) (1.14.5)\n",
      "Requirement already satisfied, skipping upgrade: bcrypt>=3.1.3 in /anaconda/envs/azureml_py36/lib/python3.6/site-packages (from paramiko<3.0.0,>=2.0.8->azureml-core~=1.38.0->azureml-sdk) (3.2.0)\n",
      "Requirement already satisfied, skipping upgrade: pynacl>=1.0.1 in /anaconda/envs/azureml_py36/lib/python3.6/site-packages (from paramiko<3.0.0,>=2.0.8->azureml-core~=1.38.0->azureml-sdk) (1.4.0)\n",
      "Requirement already satisfied, skipping upgrade: azure-mgmt-core<2.0.0,>=1.2.0 in /anaconda/envs/azureml_py36/lib/python3.6/site-packages (from azure-mgmt-storage<20.0.0,>=16.0.0->azureml-core~=1.38.0->azureml-sdk) (1.3.0)\n",
      "Requirement already satisfied, skipping upgrade: jeepney>=0.6 in /anaconda/envs/azureml_py36/lib/python3.6/site-packages (from SecretStorage<4.0.0->azureml-core~=1.38.0->azureml-sdk) (0.6.0)\n",
      "Requirement already satisfied, skipping upgrade: importlib-metadata<5,>=0.23; python_version == \"3.6\" in /anaconda/envs/azureml_py36/lib/python3.6/site-packages (from argcomplete<2.0->azureml-core~=1.38.0->azureml-sdk) (3.10.1)\n",
      "Requirement already satisfied, skipping upgrade: portalocker<3,>=1.0; python_version >= \"3.5\" and platform_system != \"Windows\" in /anaconda/envs/azureml_py36/lib/python3.6/site-packages (from msal-extensions<0.4,>=0.3.0->azureml-core~=1.38.0->azureml-sdk) (1.7.1)\n",
      "Requirement already satisfied, skipping upgrade: chardet<5,>=3.0.2 in /anaconda/envs/azureml_py36/lib/python3.6/site-packages (from requests[socks]<3.0.0,>=2.19.1->azureml-core~=1.38.0->azureml-sdk) (4.0.0)\n",
      "Requirement already satisfied, skipping upgrade: certifi>=2017.4.17 in /anaconda/envs/azureml_py36/lib/python3.6/site-packages (from requests[socks]<3.0.0,>=2.19.1->azureml-core~=1.38.0->azureml-sdk) (2020.12.5)\n",
      "Requirement already satisfied, skipping upgrade: idna<3,>=2.5 in /anaconda/envs/azureml_py36/lib/python3.6/site-packages (from requests[socks]<3.0.0,>=2.19.1->azureml-core~=1.38.0->azureml-sdk) (2.10)\n",
      "Requirement already satisfied, skipping upgrade: PySocks!=1.5.7,>=1.5.6; extra == \"socks\" in /anaconda/envs/azureml_py36/lib/python3.6/site-packages (from requests[socks]<3.0.0,>=2.19.1->azureml-core~=1.38.0->azureml-sdk) (1.7.1)\n",
      "Requirement already satisfied, skipping upgrade: pyasn1>=0.1.1 in /anaconda/envs/azureml_py36/lib/python3.6/site-packages (from ndg-httpsclient<=0.5.1->azureml-core~=1.38.0->azureml-sdk) (0.4.8)\n",
      "Requirement already satisfied, skipping upgrade: pyparsing>=2.0.2 in /anaconda/envs/azureml_py36/lib/python3.6/site-packages (from packaging<22.0,>=20.0->azureml-core~=1.38.0->azureml-sdk) (2.4.7)\n",
      "Requirement already satisfied, skipping upgrade: tabulate in /anaconda/envs/azureml_py36/lib/python3.6/site-packages (from knack~=0.8.2->azureml-core~=1.38.0->azureml-sdk) (0.8.9)\n",
      "Requirement already satisfied, skipping upgrade: pygments in /anaconda/envs/azureml_py36/lib/python3.6/site-packages (from knack~=0.8.2->azureml-core~=1.38.0->azureml-sdk) (2.8.1)\n",
      "Requirement already satisfied, skipping upgrade: pyyaml in /anaconda/envs/azureml_py36/lib/python3.6/site-packages (from knack~=0.8.2->azureml-core~=1.38.0->azureml-sdk) (5.4.1)\n",
      "Requirement already satisfied, skipping upgrade: colorama in /anaconda/envs/azureml_py36/lib/python3.6/site-packages (from knack~=0.8.2->azureml-core~=1.38.0->azureml-sdk) (0.4.4)\n",
      "Requirement already satisfied, skipping upgrade: requests-oauthlib>=0.5.0 in /anaconda/envs/azureml_py36/lib/python3.6/site-packages (from msrest<1.0.0,>=0.5.1->azureml-core~=1.38.0->azureml-sdk) (1.3.0)\n",
      "Requirement already satisfied, skipping upgrade: isodate>=0.6.0 in /anaconda/envs/azureml_py36/lib/python3.6/site-packages (from msrest<1.0.0,>=0.5.1->azureml-core~=1.38.0->azureml-sdk) (0.6.0)\n",
      "Requirement already satisfied, skipping upgrade: websocket-client>=0.32.0 in /anaconda/envs/azureml_py36/lib/python3.6/site-packages (from docker<6.0.0->azureml-core~=1.38.0->azureml-sdk) (0.58.0)\n",
      "Requirement already satisfied, skipping upgrade: backports.weakref in /anaconda/envs/azureml_py36/lib/python3.6/site-packages (from backports.tempfile->azureml-core~=1.38.0->azureml-sdk) (1.0.post1)\n",
      "Requirement already satisfied, skipping upgrade: distro>=1.2.0 in /anaconda/envs/azureml_py36/lib/python3.6/site-packages (from dotnetcore2<3.0.0,>=2.1.14->azureml-dataprep<2.27.0a,>=2.26.0a->azureml-dataset-runtime[fuse]~=1.38.0->azureml-sdk) (1.5.0)\n",
      "Requirement already satisfied, skipping upgrade: pycparser in /anaconda/envs/azureml_py36/lib/python3.6/site-packages (from cffi>=1.12->cryptography!=1.9,!=2.0.*,!=2.1.*,!=2.2.*,<37.0.0->azureml-core~=1.38.0->azureml-sdk) (2.20)\n",
      "Requirement already satisfied, skipping upgrade: zipp>=0.5 in /anaconda/envs/azureml_py36/lib/python3.6/site-packages (from importlib-metadata<5,>=0.23; python_version == \"3.6\"->argcomplete<2.0->azureml-core~=1.38.0->azureml-sdk) (3.4.1)\n",
      "Requirement already satisfied, skipping upgrade: typing-extensions>=3.6.4; python_version < \"3.8\" in /anaconda/envs/azureml_py36/lib/python3.6/site-packages (from importlib-metadata<5,>=0.23; python_version == \"3.6\"->argcomplete<2.0->azureml-core~=1.38.0->azureml-sdk) (3.7.4.3)\n",
      "Requirement already satisfied, skipping upgrade: oauthlib>=3.0.0 in /anaconda/envs/azureml_py36/lib/python3.6/site-packages (from requests-oauthlib>=0.5.0->msrest<1.0.0,>=0.5.1->azureml-core~=1.38.0->azureml-sdk) (3.1.0)\n"
     ]
    }
   ],
   "source": [
    "!pip install --upgrade azureml-sdk"
   ]
  },
  {
   "cell_type": "code",
   "execution_count": 122,
   "metadata": {},
   "outputs": [
    {
     "name": "stdout",
     "output_type": "stream",
     "text": [
      "This notebook was created using version 1.35.0 of the Azure ML SDK.\n",
      "You are currently using version 1.35.0 of the Azure ML SDK.\n"
     ]
    }
   ],
   "source": [
    "import azureml.core\n",
    "\n",
    "print(\"This notebook was created using version 1.35.0 of the Azure ML SDK.\")\n",
    "print(\"You are currently using version\", azureml.core.VERSION, \"of the Azure ML SDK.\")\n",
    "assert (\n",
    "    azureml.core.VERSION >= \"1.35\"\n",
    "), \"Please upgrade the Azure ML SDK by running '!pip install --upgrade azureml-sdk' then restart the kernel.\""
   ]
  },
  {
   "cell_type": "code",
   "execution_count": 123,
   "metadata": {},
   "outputs": [
    {
     "name": "stdout",
     "output_type": "stream",
     "text": [
      "Requirement already satisfied: torchvision==0.9.1 in /anaconda/envs/azureml_py36/lib/python3.6/site-packages (0.9.1)\n",
      "Requirement already satisfied: torch==1.8.1 in /anaconda/envs/azureml_py36/lib/python3.6/site-packages (from torchvision==0.9.1) (1.8.1)\n",
      "Requirement already satisfied: pillow>=4.1.1 in /anaconda/envs/azureml_py36/lib/python3.6/site-packages (from torchvision==0.9.1) (8.2.0)\n",
      "Requirement already satisfied: numpy in /anaconda/envs/azureml_py36/lib/python3.6/site-packages (from torchvision==0.9.1) (1.18.5)\n",
      "Requirement already satisfied: dataclasses; python_version < \"3.7\" in /anaconda/envs/azureml_py36/lib/python3.6/site-packages (from torch==1.8.1->torchvision==0.9.1) (0.8)\n",
      "Requirement already satisfied: typing-extensions in /anaconda/envs/azureml_py36/lib/python3.6/site-packages (from torch==1.8.1->torchvision==0.9.1) (3.7.4.3)\n",
      "Note: you may need to restart the kernel to use updated packages.\n"
     ]
    }
   ],
   "source": [
    "pip install torchvision==0.9.1"
   ]
  },
  {
   "cell_type": "markdown",
   "metadata": {},
   "source": [
    "## At this point restart the Kernel by going to the menu item Kernel and clicking on the \"Restart\" menu item"
   ]
  },
  {
   "cell_type": "code",
   "execution_count": 1,
   "metadata": {},
   "outputs": [
    {
     "name": "stdout",
     "output_type": "stream",
     "text": [
      "absl-py==0.12.0\r\n",
      "adal==1.2.7\r\n",
      "aiohttp==3.7.4.post0\r\n",
      "aiohttp-cors==0.7.0\r\n",
      "aioredis==1.3.1\r\n",
      "alembic==1.4.1\r\n",
      "ansiwrap==0.8.4\r\n",
      "antlr4-python3-runtime==4.7.2\r\n",
      "anyio==2.2.0\r\n",
      "applicationinsights==0.11.9\r\n",
      "argcomplete==1.12.3\r\n",
      "argon2-cffi==20.1.0\r\n",
      "astor==0.8.1\r\n",
      "astroid==2.5.6\r\n",
      "astunparse==1.6.3\r\n",
      "async-generator==1.10\r\n",
      "async-timeout==3.0.1\r\n",
      "atari-py==0.2.6\r\n",
      "attrs==20.3.0\r\n",
      "autograd==1.3\r\n",
      "autograd-gamma==0.5.0\r\n",
      "autokeras==1.0.12\r\n",
      "autopep8==1.5.6\r\n",
      "azure-appconfiguration==1.1.1\r\n",
      "azure-batch==10.0.0\r\n",
      "azure-cli==2.22.1\r\n",
      "azure-cli-core==2.22.1\r\n",
      "azure-cli-telemetry==1.0.6\r\n",
      "azure-common==1.1.27\r\n",
      "azure-core==1.21.1\r\n",
      "azure-cosmos==3.2.0\r\n",
      "azure-datalake-store==0.0.52\r\n",
      "azure-functions-devops-build==0.0.22\r\n",
      "azure-graphrbac==0.61.1\r\n",
      "azure-identity==1.7.0\r\n",
      "azure-keyvault==1.1.0\r\n",
      "azure-keyvault-administration==4.0.0b3\r\n",
      "azure-loganalytics==0.1.0\r\n",
      "azure-mgmt-advisor==2.0.1\r\n",
      "azure-mgmt-apimanagement==0.2.0\r\n",
      "azure-mgmt-appconfiguration==1.0.1\r\n",
      "azure-mgmt-applicationinsights==0.1.1\r\n",
      "azure-mgmt-authorization==0.61.0\r\n",
      "azure-mgmt-batch==9.0.0\r\n",
      "azure-mgmt-batchai==2.0.0\r\n",
      "azure-mgmt-billing==1.0.0\r\n",
      "azure-mgmt-botservice==0.3.0\r\n",
      "azure-mgmt-cdn==11.0.0\r\n",
      "azure-mgmt-cognitiveservices==6.3.0\r\n",
      "azure-mgmt-compute==20.0.0\r\n",
      "azure-mgmt-consumption==2.0.0\r\n",
      "azure-mgmt-containerinstance==1.5.0\r\n",
      "azure-mgmt-containerregistry==8.2.0\r\n",
      "azure-mgmt-containerservice==11.1.0\r\n",
      "azure-mgmt-core==1.3.0\r\n",
      "azure-mgmt-cosmosdb==3.1.0\r\n",
      "azure-mgmt-databoxedge==0.2.0\r\n",
      "azure-mgmt-datalake-analytics==0.2.1\r\n",
      "azure-mgmt-datalake-nspkg==3.0.1\r\n",
      "azure-mgmt-datalake-store==0.5.0\r\n",
      "azure-mgmt-datamigration==4.1.0\r\n",
      "azure-mgmt-deploymentmanager==0.2.0\r\n",
      "azure-mgmt-devtestlabs==4.0.0\r\n",
      "azure-mgmt-dns==2.1.0\r\n",
      "azure-mgmt-eventgrid==3.0.0rc9\r\n",
      "azure-mgmt-eventhub==4.1.0\r\n",
      "azure-mgmt-hdinsight==2.2.0\r\n",
      "azure-mgmt-imagebuilder==0.4.0\r\n",
      "azure-mgmt-iotcentral==4.1.0\r\n",
      "azure-mgmt-iothub==0.12.0\r\n",
      "azure-mgmt-iothubprovisioningservices==0.2.0\r\n",
      "azure-mgmt-keyvault==2.2.0\r\n",
      "azure-mgmt-kusto==0.3.0\r\n",
      "azure-mgmt-loganalytics==8.0.0\r\n",
      "azure-mgmt-managedservices==1.0.0\r\n",
      "azure-mgmt-managementgroups==0.2.0\r\n",
      "azure-mgmt-maps==0.1.0\r\n",
      "azure-mgmt-marketplaceordering==1.1.0\r\n",
      "azure-mgmt-media==3.1.0\r\n",
      "azure-mgmt-monitor==2.0.0\r\n",
      "azure-mgmt-msi==0.2.0\r\n",
      "azure-mgmt-netapp==2.0.0\r\n",
      "azure-mgmt-network==12.0.0\r\n",
      "azure-mgmt-nspkg==3.0.2\r\n",
      "azure-mgmt-policyinsights==0.5.0\r\n",
      "azure-mgmt-privatedns==0.1.0\r\n",
      "azure-mgmt-rdbms==8.1.0b2\r\n",
      "azure-mgmt-recoveryservices==0.4.0\r\n",
      "azure-mgmt-recoveryservicesbackup==0.11.0\r\n",
      "azure-mgmt-redhatopenshift==0.1.0\r\n",
      "azure-mgmt-redis==7.0.0rc2\r\n",
      "azure-mgmt-relay==0.1.0\r\n",
      "azure-mgmt-reservations==0.6.0\r\n",
      "azure-mgmt-resource==20.1.0\r\n",
      "azure-mgmt-search==8.0.0\r\n",
      "azure-mgmt-security==0.6.0\r\n",
      "azure-mgmt-servicebus==0.6.0\r\n",
      "azure-mgmt-servicefabric==0.5.0\r\n",
      "azure-mgmt-servicefabricmanagedclusters==1.0.0b1\r\n",
      "azure-mgmt-signalr==0.4.0\r\n",
      "azure-mgmt-sql==0.26.0\r\n",
      "azure-mgmt-sqlvirtualmachine==0.5.0\r\n",
      "azure-mgmt-storage==19.0.0\r\n",
      "azure-mgmt-synapse==0.6.0\r\n",
      "azure-mgmt-trafficmanager==0.51.0\r\n",
      "azure-mgmt-web==0.48.0\r\n",
      "azure-multiapi-storage==0.6.2\r\n",
      "azure-storage-blob==2.1.0\r\n",
      "azure-storage-common==2.1.0\r\n",
      "azure-storage-queue==12.1.5\r\n",
      "azure-synapse-accesscontrol==0.5.0\r\n",
      "azure-synapse-artifacts==0.3.0\r\n",
      "azure-synapse-spark==0.2.0\r\n",
      "azureml-accel-models==1.27.0\r\n",
      "azureml-automl-core==1.38.0\r\n",
      "azureml-automl-dnn-nlp==1.27.0\r\n",
      "azureml-automl-runtime==0.1.0.36994775\r\n",
      "azureml-cli-common==1.27.0\r\n",
      "azureml-contrib-dataset==0.1.0.36994775\r\n",
      "azureml-contrib-fairness==1.27.0\r\n",
      "azureml-contrib-gbdt==1.27.0\r\n",
      "azureml-contrib-notebook==1.27.0\r\n",
      "azureml-contrib-pipeline-steps==1.27.0\r\n",
      "azureml-contrib-reinforcementlearning==1.27.0\r\n",
      "azureml-contrib-server==1.27.0\r\n",
      "azureml-contrib-services==1.27.0\r\n",
      "azureml-core==1.38.0\r\n",
      "azureml-datadrift==1.27.0\r\n",
      "azureml-dataprep==2.26.0\r\n",
      "azureml-dataprep-native==38.0.0\r\n",
      "azureml-dataprep-rslex==2.2.0\r\n",
      "azureml-dataset-runtime==1.38.0\r\n",
      "azureml-defaults==0.1.0.36994775\r\n",
      "azureml-explain-model==1.27.0\r\n",
      "azureml-interpret==0.1.0.36994775\r\n",
      "azureml-mlflow==1.27.0\r\n",
      "azureml-model-management-sdk==1.0.1b6.post1\r\n",
      "azureml-opendatasets==1.27.0\r\n",
      "azureml-pipeline==1.38.0\r\n",
      "azureml-pipeline-core==1.38.0\r\n",
      "azureml-pipeline-steps==1.38.0\r\n",
      "azureml-samples @ file:///mnt/jupyter-azsamples\r\n",
      "azureml-sdk==1.38.0\r\n",
      "azureml-telemetry==1.38.0\r\n",
      "azureml-tensorboard==1.27.0\r\n",
      "azureml-train==1.27.0\r\n",
      "azureml-train-automl==0.1.0.36994775\r\n",
      "azureml-train-automl-client==1.38.0\r\n",
      "azureml-train-automl-runtime==0.1.0.36994775\r\n",
      "azureml-train-core==1.38.0\r\n",
      "azureml-train-restclients-hyperdrive==1.38.0\r\n",
      "azureml-widgets==1.27.0\r\n",
      "backcall==0.2.0\r\n",
      "backports.functools-lru-cache @ file:///home/conda/feedstock_root/build_artifacts/backports.functools_lru_cache_1618230623929/work\r\n",
      "backports.tempfile==1.0\r\n",
      "backports.weakref==1.0.post1\r\n",
      "bcrypt==3.2.0\r\n",
      "beautifulsoup4==4.9.3\r\n",
      "bleach==3.3.0\r\n",
      "blessings==1.7\r\n",
      "blis==0.2.4\r\n",
      "bokeh==2.3.1\r\n",
      "boto==2.49.0\r\n",
      "boto3==1.15.18\r\n",
      "botocore==1.18.18\r\n",
      "Bottleneck==1.3.2\r\n",
      "cached-property==1.5.2\r\n",
      "cachetools==4.2.1\r\n",
      "certifi==2020.12.5\r\n",
      "cesium==0.9.12\r\n",
      "cffi==1.14.5\r\n",
      "chardet==4.0.0\r\n",
      "click==7.1.2\r\n",
      "cloudpickle==1.6.0\r\n",
      "colorama==0.4.4\r\n",
      "configparser==3.7.4\r\n",
      "contextlib2==0.6.0.post1\r\n",
      "contextvars==2.4\r\n",
      "convertdate @ file:///home/conda/feedstock_root/build_artifacts/convertdate_1615678826465/work\r\n",
      "coremltools @ git+https://github.com/apple/coremltools@13c064ed99ab1da7abea0196e4ddf663ede48aad\r\n",
      "cramjam==2.5.0\r\n",
      "cryptography==3.4.7\r\n",
      "cycler==0.10.0\r\n",
      "cymem==2.0.5\r\n",
      "Cython==0.29.23\r\n",
      "dask==2021.3.0\r\n",
      "databricks-cli==0.14.3\r\n",
      "dataclasses==0.8\r\n",
      "decorator==5.0.7\r\n",
      "defusedxml==0.7.1\r\n",
      "deprecation==2.1.0\r\n",
      "dill==0.3.3\r\n",
      "distributed==2021.3.0\r\n",
      "distro==1.5.0\r\n",
      "dm-tree==0.1.6\r\n",
      "docker==4.4.4\r\n",
      "dotnetcore2==2.1.20\r\n",
      "en-core-web-sm @ https://aka.ms/automl-resources/packages/en_core_web_sm-2.1.0.tar.gz\r\n",
      "encrypted-inference==0.9\r\n",
      "entrypoints==0.3\r\n",
      "enum34==1.1.10\r\n",
      "erroranalysis==0.1.2\r\n",
      "fabric==2.6.0\r\n",
      "fairlearn==0.4.6\r\n",
      "fastai==1.0.61\r\n",
      "fastparquet==0.7.2\r\n",
      "fastprogress==1.0.0\r\n",
      "fbprophet==0.5\r\n",
      "filelock==3.0.12\r\n",
      "fire==0.4.0\r\n",
      "flake8==3.9.1\r\n",
      "Flask==1.0.3\r\n",
      "Flask-Cors==3.0.9\r\n",
      "flatbuffers==1.12\r\n",
      "formulaic==0.2.4\r\n",
      "fsspec==2021.11.1\r\n",
      "fusepy==3.0.1\r\n",
      "future==0.18.2\r\n",
      "gast==0.2.2\r\n",
      "gatspy==0.3\r\n",
      "gensim==3.8.3\r\n",
      "gevent==1.3.6\r\n",
      "gitdb==4.0.7\r\n",
      "GitPython==3.1.14\r\n",
      "glob2==0.7\r\n",
      "google-api-core==1.26.3\r\n",
      "google-auth==1.29.0\r\n",
      "google-auth-oauthlib==0.4.4\r\n",
      "google-pasta==0.2.0\r\n",
      "googleapis-common-protos==1.53.0\r\n",
      "gpustat==0.6.0\r\n",
      "greenlet==1.0.0\r\n",
      "grpcio==1.37.0\r\n",
      "gunicorn==20.1.0\r\n",
      "gym==0.18.0\r\n",
      "h5py==2.10.0\r\n",
      "HeapDict==1.0.1\r\n",
      "hiredis==2.0.0\r\n",
      "holidays==0.9.11\r\n",
      "horovod==0.19.1\r\n",
      "humanfriendly==9.1\r\n",
      "idna==2.10\r\n",
      "idna-ssl==1.1.0\r\n",
      "imageio==2.9.0\r\n",
      "immutables==0.15\r\n",
      "importlib-metadata==3.10.1\r\n",
      "interface-meta==1.2.3\r\n",
      "interpret-community==0.17.2\r\n",
      "interpret-core==0.2.1\r\n",
      "invoke==1.5.0\r\n",
      "ipykernel==5.5.3\r\n",
      "ipython==7.16.1\r\n",
      "ipython-genutils==0.2.0\r\n",
      "ipywidgets==7.6.3\r\n",
      "isodate==0.6.0\r\n",
      "isort==5.8.0\r\n",
      "itsdangerous==1.1.0\r\n",
      "javaproperties==0.5.1\r\n",
      "jedi==0.17.2\r\n",
      "jeepney==0.6.0\r\n",
      "Jinja2==2.11.1\r\n",
      "jmespath==0.10.0\r\n",
      "joblib==0.14.1\r\n",
      "jsmin==2.2.2\r\n",
      "json-logging-py==0.2\r\n",
      "json5==0.9.5\r\n",
      "jsondiff==1.2.0\r\n",
      "jsonpickle==2.0.0\r\n",
      "jsonschema==3.2.0\r\n",
      "jupyter==1.0.0\r\n",
      "jupyter-client==6.1.12\r\n",
      "jupyter-console==6.4.0\r\n",
      "jupyter-core==4.7.1\r\n",
      "jupyter-packaging==0.9.2\r\n",
      "jupyter-server==1.6.4\r\n",
      "jupyter-server-proxy==3.0.2\r\n",
      "jupyterlab==2.1.4\r\n",
      "jupyterlab-nvdashboard==0.5.0\r\n",
      "jupyterlab-server==1.2.0\r\n",
      "jupyterlab-widgets==1.0.0\r\n",
      "jupytext==1.6.0\r\n",
      "Keras==2.3.1\r\n",
      "Keras-Applications==1.0.8\r\n",
      "Keras-Preprocessing==1.1.2\r\n",
      "keras-tuner==1.0.2\r\n",
      "keras2onnx==1.6.0\r\n",
      "kiwisolver==1.3.1\r\n",
      "knack==0.8.2\r\n",
      "lazy-object-proxy==1.6.0\r\n",
      "liac-arff==2.5.0\r\n",
      "lifelines==0.26.0\r\n",
      "lightgbm==2.3.0\r\n",
      "llvmlite==0.36.0\r\n",
      "locket==0.2.1\r\n",
      "lunardate==0.2.0\r\n",
      "lz4==3.1.3\r\n",
      "Mako==1.1.4\r\n",
      "Markdown==3.3.4\r\n",
      "markdown-it-py==0.5.8\r\n",
      "MarkupSafe==1.1.1\r\n",
      "matplotlib==3.3.4\r\n",
      "matrixprofile==1.1.10\r\n",
      "mccabe==0.6.1\r\n",
      "mistune==0.8.4\r\n",
      "mkl-fft==1.2.0\r\n",
      "mkl-random==1.1.0\r\n",
      "mkl-service==2.3.0\r\n",
      "mlflow==1.15.0\r\n",
      "mock==4.0.3\r\n",
      "msal==1.16.0\r\n",
      "msal-extensions==0.3.1\r\n",
      "msgpack==1.0.2\r\n",
      "msrest==0.6.21\r\n",
      "msrestazure==0.6.4\r\n",
      "multidict==5.1.0\r\n",
      "murmurhash==1.0.5\r\n",
      "nbconvert==5.6.1\r\n",
      "nbformat==5.1.3\r\n",
      "ndg-httpsclient==0.5.1\r\n",
      "networkx==2.5.1\r\n",
      "nimbusml==1.8.0\r\n",
      "notebook==6.3.0\r\n",
      "numba==0.53.1\r\n",
      "numexpr==2.7.3\r\n",
      "numpy==1.18.5\r\n",
      "nvidia-ml-py3==7.352.0\r\n",
      "oauthlib==3.1.0\r\n",
      "olefile==0.46\r\n",
      "onnx==1.7.0\r\n",
      "onnxconverter-common==1.6.0\r\n",
      "onnxmltools==1.4.1\r\n",
      "onnxruntime==1.6.0\r\n",
      "opencensus==0.7.12\r\n",
      "opencensus-context==0.1.2\r\n",
      "opencv-python==4.5.1.48\r\n",
      "opencv-python-headless==4.3.0.36\r\n",
      "opt-einsum==3.3.0\r\n",
      "packaging==20.9\r\n",
      "pandas==0.25.3\r\n",
      "pandas-ml==0.6.1\r\n",
      "pandocfilters==1.4.3\r\n",
      "papermill==1.2.1\r\n",
      "paramiko==2.7.2\r\n",
      "parso==0.8.2\r\n",
      "partd==1.2.0\r\n",
      "pathlib2==2.3.5\r\n",
      "pathspec==0.8.1\r\n",
      "patsy==0.5.1\r\n",
      "pexpect==4.8.0\r\n",
      "pickleshare==0.7.5\r\n",
      "Pillow==8.2.0\r\n",
      "pkginfo==1.7.0\r\n",
      "plac==0.9.6\r\n",
      "pluggy==0.13.1\r\n",
      "pmdarima==1.1.1\r\n",
      "portalocker==1.7.1\r\n",
      "preshed==2.0.1\r\n",
      "prometheus-client==0.10.1\r\n",
      "prometheus-flask-exporter==0.18.1\r\n",
      "prompt-toolkit==3.0.18\r\n",
      "protobuf==3.11.2\r\n",
      "psutil==5.8.0\r\n",
      "psycopg2==2.8.4\r\n",
      "ptyprocess==0.7.0\r\n",
      "py-cpuinfo==5.0.0\r\n",
      "py-spy==0.3.5\r\n",
      "py4j==0.10.9\r\n",
      "pyarrow==1.0.1\r\n",
      "pyasn1==0.4.8\r\n",
      "pyasn1-modules==0.2.8\r\n",
      "pycocotools==2.0.0\r\n",
      "pycodestyle==2.6.0\r\n",
      "pycparser==2.20\r\n",
      "pydocstyle==6.0.0\r\n",
      "pyflakes==2.2.0\r\n",
      "pyglet==1.5.0\r\n",
      "Pygments @ file:///home/conda/feedstock_root/build_artifacts/pygments_1615243893546/work\r\n",
      "PyJWT==2.0.1\r\n",
      "pylint==2.8.2\r\n",
      "PyMeeus @ file:///home/conda/feedstock_root/build_artifacts/pymeeus_1615809745702/work\r\n",
      "PyNaCl==1.4.0\r\n",
      "pynvml==8.0.4\r\n",
      "pyodbc===4.0.0-unsupported\r\n",
      "pyOpenSSL==20.0.1\r\n",
      "pyparsing==2.4.7\r\n",
      "pyrsistent==0.17.3\r\n",
      "PySocks==1.7.1\r\n",
      "pyspark==3.1.1\r\n",
      "pystan==2.19.0.0\r\n",
      "python-dateutil==2.8.1\r\n",
      "python-editor==1.0.4\r\n",
      "python-jsonrpc-server==0.4.0\r\n",
      "python-language-server==0.35.0\r\n",
      "pytorch-transformers==1.0.0\r\n",
      "pytz==2021.1\r\n",
      "PyWavelets==1.1.1\r\n",
      "PyYAML==5.4.1\r\n",
      "pyzmq==22.0.3\r\n",
      "qtconsole==5.0.3\r\n",
      "QtPy==1.9.0\r\n",
      "QuantLib==1.22\r\n",
      "querystring-parser==1.2.4\r\n",
      "rai-core-flask==0.2.0\r\n",
      "raiwidgets==0.2.2\r\n",
      "ray==1.3.0\r\n",
      "redis==3.5.3\r\n",
      "regex==2021.4.4\r\n",
      "requests==2.25.1\r\n",
      "requests-oauthlib==1.3.0\r\n",
      "rope==0.19.0\r\n",
      "rsa==4.7.2\r\n",
      "ruamel.yaml==0.17.16\r\n",
      "ruamel.yaml.clib==0.2.2\r\n",
      "s3transfer==0.3.7\r\n",
      "sacremoses==0.0.45\r\n",
      "scikit-image==0.17.2\r\n",
      "scikit-learn==0.22.2.post1\r\n",
      "scipy==1.4.1\r\n",
      "scp==0.13.3\r\n",
      "scrapbook==0.5.0\r\n",
      "seaborn==0.11.1\r\n",
      "SecretStorage==3.3.1\r\n",
      "semver==2.13.0\r\n",
      "Send2Trash==1.5.0\r\n",
      "sentencepiece==0.1.95\r\n",
      "setuptools-git==1.2\r\n",
      "shap==0.34.0\r\n",
      "simpervisor==0.4\r\n",
      "six==1.15.0\r\n",
      "skl2onnx==1.4.9\r\n",
      "sklearn==0.0\r\n",
      "sklearn-pandas==1.7.0\r\n",
      "smart-open==1.9.0\r\n",
      "smmap==4.0.0\r\n",
      "sniffio==1.2.0\r\n",
      "snowballstemmer==2.1.0\r\n",
      "sortedcontainers==2.4.0\r\n",
      "soupsieve==2.2.1\r\n",
      "spacy==2.1.8\r\n",
      "SQLAlchemy==1.4.9\r\n",
      "sqlparse==0.4.1\r\n",
      "srsly==1.0.5\r\n",
      "sshtunnel==0.1.5\r\n",
      "statsmodels==0.10.2\r\n",
      "stumpy==1.10.1\r\n",
      "tabulate==0.8.9\r\n",
      "tblib==1.7.0\r\n",
      "tenacity==7.0.0\r\n",
      "tensorboard==2.1.1\r\n",
      "tensorboard-data-server==0.6.0\r\n",
      "tensorboard-plugin-wit==1.8.0\r\n",
      "tensorboardX==2.2\r\n",
      "tensorflow==2.1.0\r\n",
      "tensorflow-estimator==2.1.0\r\n",
      "tensorflow-gpu==2.1.0\r\n",
      "termcolor==1.1.0\r\n",
      "terminado==0.9.4\r\n",
      "terminaltables==3.1.0\r\n",
      "testpath==0.4.4\r\n",
      "textwrap3==0.9.2\r\n",
      "thinc==7.0.8\r\n",
      "threadpoolctl @ file:///tmp/tmp9twdgx9k/threadpoolctl-2.1.0-py3-none-any.whl\r\n",
      "thrift==0.15.0\r\n",
      "tifffile==2020.9.3\r\n",
      "tokenizers==0.9.4\r\n",
      "toml==0.10.2\r\n",
      "tomlkit==0.7.0\r\n",
      "toolz==0.11.2\r\n",
      "torch==1.8.1\r\n",
      "torch-tb-profiler==0.1.0\r\n",
      "torchvision==0.9.1\r\n",
      "tornado==6.1\r\n",
      "tqdm==4.60.0\r\n",
      "traitlets==4.3.3\r\n",
      "transformers==4.1.0\r\n",
      "tsfresh==0.18.0\r\n",
      "typed-ast==1.4.3\r\n",
      "typing-extensions @ file:///tmp/build/80754af9/typing_extensions_1598376058250/work\r\n",
      "ujson==4.0.2\r\n",
      "urllib3==1.25.11\r\n",
      "uuid==1.30\r\n",
      "vsts==0.1.25\r\n",
      "vsts-cd-manager==1.0.2\r\n",
      "waitress==2.0.0\r\n",
      "wasabi==0.8.2\r\n",
      "wcwidth @ file:///home/conda/feedstock_root/build_artifacts/wcwidth_1600965781394/work\r\n",
      "webencodings==0.5.1\r\n",
      "websocket-client==0.58.0\r\n",
      "websockets==8.1\r\n",
      "Werkzeug==1.0.1\r\n",
      "widgetsnbextension==3.5.1\r\n",
      "wrapt==1.12.1\r\n",
      "xgboost==0.90\r\n",
      "xmltodict==0.12.0\r\n",
      "yapf==0.31.0\r\n",
      "yarl==1.6.3\r\n",
      "zict==2.0.0\r\n",
      "zipp==3.4.1\r\n",
      "zope.event==4.5.0\r\n",
      "zope.interface==5.4.0\r\n",
      "Note: you may need to restart the kernel to use updated packages.\n"
     ]
    }
   ],
   "source": [
    "pip freeze"
   ]
  },
  {
   "cell_type": "code",
   "execution_count": 2,
   "metadata": {},
   "outputs": [],
   "source": [
    "import cv2\n",
    "import numpy as np\n",
    "import torch\n",
    "import time\n",
    "import torchvision\n",
    "from PIL import Image\n",
    "from typing import Any, Dict, List"
   ]
  },
  {
   "cell_type": "markdown",
   "metadata": {},
   "source": [
    "## Workspace setup\n",
    "In order to train and deploy models in Azure ML, you will first need to set up a workspace.\n",
    "\n",
    "An [Azure ML Workspace](https://docs.microsoft.com/en-us/azure/machine-learning/concept-azure-machine-learning-architecture#workspace) is an Azure resource that organizes and coordinates the actions of many other Azure resources to assist in executing and sharing machine learning workflows. In particular, an Azure ML Workspace coordinates storage, databases, and compute resources providing added functionality for machine learning experimentation, deployment, inference, and the monitoring of deployed models.\n",
    "\n",
    "Create an Azure ML Workspace within your Azure subscription or load an existing workspace."
   ]
  },
  {
   "cell_type": "code",
   "execution_count": 30,
   "metadata": {},
   "outputs": [],
   "source": [
    "from azureml.core.workspace import Workspace\n",
    "\n",
    "ws = Workspace.from_config()\n",
    "ws.get_details()\n"
   ]
  },
  {
   "cell_type": "markdown",
   "metadata": {},
   "source": [
    "## Compute target setup\n",
    "You will need to provide a [Compute Target](https://docs.microsoft.com/en-us/azure/machine-learning/concept-azure-machine-learning-architecture#computes) that will be used for your AutoML model training. AutoML models for image tasks require [GPU SKUs](https://docs.microsoft.com/en-us/azure/virtual-machines/sizes-gpu) such as the ones from the NC, NCv2, NCv3, ND, NDv2 and NCasT4 series. We recommend using the NCsv3-series (with v100 GPUs) for faster training. Using a compute target with a multi-GPU VM SKU will leverage the multiple GPUs to speed up training. Additionally, setting up a compute target with multiple nodes will allow for faster model training by leveraging parallelism, when tuning hyperparameters for your model."
   ]
  },
  {
   "cell_type": "code",
   "execution_count": 4,
   "metadata": {},
   "outputs": [
    {
     "name": "stdout",
     "output_type": "stream",
     "text": [
      "Found existing compute target.\n",
      "Succeeded\n",
      "AmlCompute wait for completion finished\n",
      "\n",
      "Minimum number of nodes requested have been provisioned\n"
     ]
    }
   ],
   "source": [
    "from azureml.core.compute import AmlCompute, ComputeTarget\n",
    "\n",
    "cluster_name = \"gpu-cluster-nc6\"\n",
    "\n",
    "try:\n",
    "    compute_target = ws.compute_targets[cluster_name]\n",
    "    print(\"Found existing compute target.\")\n",
    "except KeyError:\n",
    "    print(\"Creating a new compute target...\")\n",
    "    compute_config = AmlCompute.provisioning_configuration(\n",
    "        vm_size=\"Standard_NC6\",\n",
    "        idle_seconds_before_scaledown=600,\n",
    "        min_nodes=0,\n",
    "        max_nodes=4,\n",
    "    )\n",
    "    compute_target = ComputeTarget.create(ws, cluster_name, compute_config)\n",
    "# Can poll for a minimum number of nodes and for a specific timeout.\n",
    "# If no min_node_count is provided, it will use the scale settings for the cluster.\n",
    "compute_target.wait_for_completion(\n",
    "    show_output=True, min_node_count=None, timeout_in_minutes=20\n",
    ")"
   ]
  },
  {
   "cell_type": "markdown",
   "metadata": {},
   "source": [
    "## Experiment Setup\n",
    "Create an [Experiment](https://docs.microsoft.com/en-us/azure/machine-learning/concept-azure-machine-learning-architecture#experiments) in your workspace to track your model training runs"
   ]
  },
  {
   "cell_type": "code",
   "execution_count": 5,
   "metadata": {},
   "outputs": [],
   "source": [
    "from azureml.core import Experiment\n",
    "\n",
    "experiment_name = \"automl-image-object-detection_latest_V3\"\n",
    "experiment = Experiment(ws, name=experiment_name)"
   ]
  },
  {
   "cell_type": "markdown",
   "metadata": {},
   "source": [
    "## Dataset with input Training Data\n",
    "\n",
    "Using the AML Labeling tool you labeled your images and exported the annotations as an AML ML Dataset. Now we need to a training_dataset to associate with that export using its name."
   ]
  },
  {
   "cell_type": "code",
   "execution_count": 6,
   "metadata": {},
   "outputs": [],
   "source": [
    "from azureml.core import Dataset\n",
    "training_dataset = Dataset.get_by_name(ws, name='SodaDemo_20220126_131830')"
   ]
  },
  {
   "cell_type": "markdown",
   "metadata": {},
   "source": [
    "Validation dataset is optional. If no validation dataset is specified, by default 20% of your training data will be used for validation. You can control the percentage using the `split_ratio` argument - please refer to the [documentation](https://docs.microsoft.com/en-us/azure/machine-learning/how-to-auto-train-image-models#model-agnostic-hyperparameters) for more details.\n",
    "\n",
    "This is what the training dataset looks like:"
   ]
  },
  {
   "cell_type": "code",
   "execution_count": 7,
   "metadata": {},
   "outputs": [
    {
     "data": {
      "text/html": [
       "<div>\n",
       "<style scoped>\n",
       "    .dataframe tbody tr th:only-of-type {\n",
       "        vertical-align: middle;\n",
       "    }\n",
       "\n",
       "    .dataframe tbody tr th {\n",
       "        vertical-align: top;\n",
       "    }\n",
       "\n",
       "    .dataframe thead th {\n",
       "        text-align: right;\n",
       "    }\n",
       "</style>\n",
       "<table border=\"1\" class=\"dataframe\">\n",
       "  <thead>\n",
       "    <tr style=\"text-align: right;\">\n",
       "      <th></th>\n",
       "      <th>image_url</th>\n",
       "      <th>label</th>\n",
       "      <th>label_confidence</th>\n",
       "    </tr>\n",
       "  </thead>\n",
       "  <tbody>\n",
       "    <tr>\n",
       "      <th>0</th>\n",
       "      <td>computervisionwimagesraw/fa45f236-b599-11eb-8f...</td>\n",
       "      <td>[{'label': 'sprite', 'topX': 0.320216286945812...</td>\n",
       "      <td>[1.0, 1.0, 1.0, 1.0, 1.0, 1.0]</td>\n",
       "    </tr>\n",
       "    <tr>\n",
       "      <th>1</th>\n",
       "      <td>computervisionwimagesraw/895849dc-b4dd-11eb-a2...</td>\n",
       "      <td>[{'label': 'sprite', 'topX': 0.185364070197044...</td>\n",
       "      <td>[1.0, 1.0, 1.0, 1.0, 1.0, 1.0]</td>\n",
       "    </tr>\n",
       "    <tr>\n",
       "      <th>2</th>\n",
       "      <td>computervisionwimagesraw/45.jpg</td>\n",
       "      <td>[{'label': 'sprite', 'topX': 0.078679938956714...</td>\n",
       "      <td>[1.0, 1.0, 1.0, 1.0, 1.0, 1.0]</td>\n",
       "    </tr>\n",
       "    <tr>\n",
       "      <th>3</th>\n",
       "      <td>computervisionwimagesraw/b34aa738-b598-11eb-8f...</td>\n",
       "      <td>[{'label': 'coke', 'topX': 0.3115955972906404,...</td>\n",
       "      <td>[1.0, 1.0, 1.0, 1.0, 1.0, 1.0]</td>\n",
       "    </tr>\n",
       "    <tr>\n",
       "      <th>4</th>\n",
       "      <td>computervisionwimagesraw/74.jpg</td>\n",
       "      <td>[{'label': 'sprite', 'topX': 0.221694119458128...</td>\n",
       "      <td>[1.0, 1.0, 1.0, 1.0, 1.0, 1.0]</td>\n",
       "    </tr>\n",
       "    <tr>\n",
       "      <th>...</th>\n",
       "      <td>...</td>\n",
       "      <td>...</td>\n",
       "      <td>...</td>\n",
       "    </tr>\n",
       "    <tr>\n",
       "      <th>236</th>\n",
       "      <td>computervisionwimagesraw/a19fb52e-b4f2-11eb-9c...</td>\n",
       "      <td>[{'label': 'diet_coke', 'topX': 0.209645532741...</td>\n",
       "      <td>[1.0, 1.0, 1.0, 1.0, 1.0, 1.0]</td>\n",
       "    </tr>\n",
       "    <tr>\n",
       "      <th>237</th>\n",
       "      <td>computervisionwimagesraw/e45261d0-b599-11eb-8f...</td>\n",
       "      <td>[{'label': 'sprite', 'topX': 0.228467518472906...</td>\n",
       "      <td>[1.0, 1.0, 1.0, 1.0, 1.0, 1.0]</td>\n",
       "    </tr>\n",
       "    <tr>\n",
       "      <th>238</th>\n",
       "      <td>computervisionwimagesraw/80.jpg</td>\n",
       "      <td>[{'label': 'sprite', 'topX': 0.220744311875693...</td>\n",
       "      <td>[1.0, 1.0, 1.0, 1.0, 1.0, 1.0]</td>\n",
       "    </tr>\n",
       "    <tr>\n",
       "      <th>239</th>\n",
       "      <td>computervisionwimagesraw/7170d386-b599-11eb-8f...</td>\n",
       "      <td>[{'label': 'sprite', 'topX': 0.293738454433497...</td>\n",
       "      <td>[1.0, 1.0, 1.0, 1.0, 1.0, 1.0]</td>\n",
       "    </tr>\n",
       "    <tr>\n",
       "      <th>240</th>\n",
       "      <td>computervisionwimagesraw/53.jpg</td>\n",
       "      <td>[{'label': 'diet_coke', 'topX': 0.453836976600...</td>\n",
       "      <td>[1.0, 1.0, 1.0, 1.0, 1.0, 1.0, 1.0, 1.0, 1.0]</td>\n",
       "    </tr>\n",
       "  </tbody>\n",
       "</table>\n",
       "<p>241 rows × 3 columns</p>\n",
       "</div>"
      ],
      "text/plain": [
       "                                             image_url  \\\n",
       "0    computervisionwimagesraw/fa45f236-b599-11eb-8f...   \n",
       "1    computervisionwimagesraw/895849dc-b4dd-11eb-a2...   \n",
       "2                      computervisionwimagesraw/45.jpg   \n",
       "3    computervisionwimagesraw/b34aa738-b598-11eb-8f...   \n",
       "4                      computervisionwimagesraw/74.jpg   \n",
       "..                                                 ...   \n",
       "236  computervisionwimagesraw/a19fb52e-b4f2-11eb-9c...   \n",
       "237  computervisionwimagesraw/e45261d0-b599-11eb-8f...   \n",
       "238                    computervisionwimagesraw/80.jpg   \n",
       "239  computervisionwimagesraw/7170d386-b599-11eb-8f...   \n",
       "240                    computervisionwimagesraw/53.jpg   \n",
       "\n",
       "                                                 label  \\\n",
       "0    [{'label': 'sprite', 'topX': 0.320216286945812...   \n",
       "1    [{'label': 'sprite', 'topX': 0.185364070197044...   \n",
       "2    [{'label': 'sprite', 'topX': 0.078679938956714...   \n",
       "3    [{'label': 'coke', 'topX': 0.3115955972906404,...   \n",
       "4    [{'label': 'sprite', 'topX': 0.221694119458128...   \n",
       "..                                                 ...   \n",
       "236  [{'label': 'diet_coke', 'topX': 0.209645532741...   \n",
       "237  [{'label': 'sprite', 'topX': 0.228467518472906...   \n",
       "238  [{'label': 'sprite', 'topX': 0.220744311875693...   \n",
       "239  [{'label': 'sprite', 'topX': 0.293738454433497...   \n",
       "240  [{'label': 'diet_coke', 'topX': 0.453836976600...   \n",
       "\n",
       "                                  label_confidence  \n",
       "0                   [1.0, 1.0, 1.0, 1.0, 1.0, 1.0]  \n",
       "1                   [1.0, 1.0, 1.0, 1.0, 1.0, 1.0]  \n",
       "2                   [1.0, 1.0, 1.0, 1.0, 1.0, 1.0]  \n",
       "3                   [1.0, 1.0, 1.0, 1.0, 1.0, 1.0]  \n",
       "4                   [1.0, 1.0, 1.0, 1.0, 1.0, 1.0]  \n",
       "..                                             ...  \n",
       "236                 [1.0, 1.0, 1.0, 1.0, 1.0, 1.0]  \n",
       "237                 [1.0, 1.0, 1.0, 1.0, 1.0, 1.0]  \n",
       "238                 [1.0, 1.0, 1.0, 1.0, 1.0, 1.0]  \n",
       "239                 [1.0, 1.0, 1.0, 1.0, 1.0, 1.0]  \n",
       "240  [1.0, 1.0, 1.0, 1.0, 1.0, 1.0, 1.0, 1.0, 1.0]  \n",
       "\n",
       "[241 rows x 3 columns]"
      ]
     },
     "execution_count": 7,
     "metadata": {},
     "output_type": "execute_result"
    }
   ],
   "source": [
    "training_dataset.to_pandas_dataframe()"
   ]
  },
  {
   "cell_type": "markdown",
   "metadata": {},
   "source": [
    "## Configuring your AutoML run for image tasks\n",
    "AutoML allows you to easily train models for Image Classification, Object Detection & Instance Segmentation on your image data. You can control the model algorithm to be used, specify hyperparameter values for your model as well as perform a sweep across the hyperparameter space to generate an optimal model. Parameters for configuring your AutoML Image run are specified using the `AutoMLImageConfig` - please refer to the [documentation](https://docs.microsoft.com/en-us/azure/machine-learning/how-to-auto-train-image-models#configure-your-experiment-settings) for the details on the parameters that can be used and their values."
   ]
  },
  {
   "cell_type": "markdown",
   "metadata": {},
   "source": [
    "When using AutoML for image tasks, you need to specify the model algorithms using the `model_name` parameter. You can either specify a single model or choose to sweep over multiple models. Please refer to the [documentation](https://docs.microsoft.com/en-us/azure/machine-learning/how-to-auto-train-image-models#configure-model-algorithms-and-hyperparameters) for the list of supported model algorithms."
   ]
  },
  {
   "cell_type": "markdown",
   "metadata": {},
   "source": [
    "### Using default hyperparameter values for the specified algorithm\n",
    "Before doing a large sweep to search for the optimal models and hyperparameters, we recommend trying the default values for a given model to get a first baseline. Next, you can explore multiple hyperparameters for the same model before sweeping over multiple models and their parameters. This allows an iterative approach, as with multiple models and multiple hyperparameters for each (as we showcase in the next section), the search space grows exponentially, and  you need more iterations to find optimal configurations.\n",
    "\n",
    "If you wish to use the default hyperparameter values for a given algorithm (say `yolov5`), you can specify the config for your AutoML Image runs as follows:"
   ]
  },
  {
   "cell_type": "code",
   "execution_count": 13,
   "metadata": {},
   "outputs": [],
   "source": [
    "from azureml.automl.core.shared.constants import ImageTask\n",
    "from azureml.train.automl import AutoMLImageConfig\n",
    "from azureml.train.hyperdrive import GridParameterSampling, choice\n",
    "\n",
    "image_config_yolov5 = AutoMLImageConfig(\n",
    "    task=ImageTask.IMAGE_OBJECT_DETECTION,\n",
    "    compute_target=compute_target,\n",
    "    training_data=training_dataset,\n",
    "    #validation_data=validation_dataset,\n",
    "    hyperparameter_sampling=GridParameterSampling({\"model_name\": choice(\"yolov5\"),'model_size': choice('small')}),\n",
    "    iterations=1,\n",
    ")"
   ]
  },
  {
   "cell_type": "markdown",
   "metadata": {},
   "source": [
    "## Submitting an AutoML run for Computer Vision tasks\n",
    "Once you've created the config settings for your run, you can submit an AutoML run using the config in order to train a vision model using your training dataset."
   ]
  },
  {
   "cell_type": "code",
   "execution_count": 14,
   "metadata": {},
   "outputs": [
    {
     "name": "stdout",
     "output_type": "stream",
     "text": [
      "Submitting remote run.\n"
     ]
    },
    {
     "data": {
      "text/html": [
       "<table style=\"width:100%\"><tr><th>Experiment</th><th>Id</th><th>Type</th><th>Status</th><th>Details Page</th><th>Docs Page</th></tr><tr><td>automl-image-object-detection_latest_V3</td><td>AutoML_be064e9f-e5ea-4e0f-ba57-2ddf2d96d2fd</td><td>automl</td><td>NotStarted</td><td><a href=\"https://ml.azure.com/runs/AutoML_be064e9f-e5ea-4e0f-ba57-2ddf2d96d2fd?wsid=/subscriptions/83da1f6b-22c0-4300-aa13-bd260eab57e5/resourcegroups/amldatalabeling/workspaces/Computer_Vision_Pipeline&amp;tid=72f988bf-86f1-41af-91ab-2d7cd011db47\" target=\"_blank\" rel=\"noopener\">Link to Azure Machine Learning studio</a></td><td><a href=\"https://docs.microsoft.com/en-us/python/api/overview/azure/ml/intro?view=azure-ml-py\" target=\"_blank\" rel=\"noopener\">Link to Documentation</a></td></tr></table>"
      ],
      "text/plain": [
       "<IPython.core.display.HTML object>"
      ]
     },
     "metadata": {},
     "output_type": "display_data"
    }
   ],
   "source": [
    "automl_image_run = experiment.submit(image_config_yolov5)"
   ]
  },
  {
   "cell_type": "code",
   "execution_count": 15,
   "metadata": {},
   "outputs": [
    {
     "data": {
      "text/plain": [
       "{'runId': 'AutoML_be064e9f-e5ea-4e0f-ba57-2ddf2d96d2fd',\n",
       " 'target': 'gpu-cluster-nc6',\n",
       " 'status': 'Completed',\n",
       " 'startTimeUtc': '2022-02-16T20:36:56.663091Z',\n",
       " 'endTimeUtc': '2022-02-16T20:46:23.710383Z',\n",
       " 'services': {},\n",
       " 'properties': {'num_iterations': '1',\n",
       "  'training_type': 'TrainFull',\n",
       "  'acquisition_function': 'EI',\n",
       "  'primary_metric': 'mean_average_precision',\n",
       "  'train_split': '0',\n",
       "  'acquisition_parameter': '0',\n",
       "  'num_cross_validation': None,\n",
       "  'target': 'gpu-cluster-nc6',\n",
       "  'AMLSettingsJsonString': '{\"path\":null,\"name\":\"automl-image-object-detection_latest_V3\",\"subscription_id\":\"83da1f6b-22c0-4300-aa13-bd260eab57e5\",\"resource_group\":\"amldatalabeling\",\"workspace_name\":\"Computer_Vision_Pipeline\",\"region\":\"eastus\",\"compute_target\":\"gpu-cluster-nc6\",\"spark_service\":null,\"azure_service\":\"remote\",\"many_models\":false,\"pipeline_fetch_max_batch_size\":1,\"enable_batch_run\":true,\"enable_run_restructure\":false,\"start_auxiliary_runs_before_parent_complete\":false,\"enable_code_generation\":false,\"iterations\":1,\"primary_metric\":\"mean_average_precision\",\"task_type\":\"image-object-detection\",\"positive_label\":null,\"data_script\":null,\"test_size\":0.0,\"test_include_predictions_only\":false,\"validation_size\":0.0,\"n_cross_validations\":null,\"y_min\":null,\"y_max\":null,\"num_classes\":null,\"featurization\":\"off\",\"_ignore_package_version_incompatibilities\":false,\"is_timeseries\":false,\"max_cores_per_iteration\":1,\"max_concurrent_iterations\":1,\"iteration_timeout_minutes\":null,\"mem_in_mb\":null,\"enforce_time_on_windows\":false,\"experiment_timeout_minutes\":8640,\"experiment_exit_score\":null,\"whitelist_models\":null,\"blacklist_algos\":[\"TensorFlowDNN\",\"TensorFlowLinearRegressor\"],\"supported_models\":[],\"private_models\":[],\"auto_blacklist\":true,\"blacklist_samples_reached\":false,\"exclude_nan_labels\":true,\"verbosity\":20,\"_debug_log\":\"azureml_automl.log\",\"show_warnings\":false,\"model_explainability\":true,\"service_url\":null,\"sdk_url\":null,\"sdk_packages\":null,\"enable_onnx_compatible_models\":false,\"enable_split_onnx_featurizer_estimator_models\":false,\"vm_type\":\"STANDARD_NC6\",\"telemetry_verbosity\":20,\"send_telemetry\":true,\"enable_dnn\":true,\"scenario\":\"Vision\",\"environment_label\":null,\"save_mlflow\":false,\"enable_categorical_indicators\":false,\"force_text_dnn\":false,\"enable_feature_sweeping\":true,\"enable_early_stopping\":true,\"early_stopping_n_iters\":10,\"arguments\":null,\"dataset_id\":\"f3e64977-52b9-4075-84f7-af59ce7d4dcc\",\"hyperdrive_config\":{\"max_total_jobs\":1,\"max_concurrent_jobs\":1,\"generator_config\":{\"name\":\"GRID\",\"parameter_space\":\"{\\\\\"model_name\\\\\": [\\\\\"choice\\\\\", [[\\\\\"yolov5\\\\\"]]], \\\\\"model_size\\\\\": [\\\\\"choice\\\\\", [[\\\\\"small\\\\\"]]]}\",\"properties\":null},\"policy_config\":null},\"validation_dataset_id\":null,\"run_source\":\"AutoMLImageSDK\",\"metrics\":null,\"enable_metric_confidence\":false,\"enable_ensembling\":false,\"enable_stack_ensembling\":false,\"ensemble_iterations\":null,\"enable_tf\":false,\"enable_subsampling\":false,\"subsample_seed\":null,\"enable_nimbusml\":false,\"enable_streaming\":false,\"force_streaming\":false,\"track_child_runs\":true,\"allowed_private_models\":[],\"label_column_name\":\"label\",\"weight_column_name\":null,\"cv_split_column_names\":null,\"enable_local_managed\":false,\"_local_managed_run_id\":null,\"cost_mode\":1,\"lag_length\":0,\"metric_operation\":\"maximize\",\"preprocess\":false}',\n",
       "  'DataPrepJsonString': '{\\\\\"training_data\\\\\": {\\\\\"datasetId\\\\\": \\\\\"f3e64977-52b9-4075-84f7-af59ce7d4dcc\\\\\"}, \\\\\"datasets\\\\\": 0}',\n",
       "  'EnableSubsampling': 'False',\n",
       "  'runTemplate': 'AutoML',\n",
       "  'azureml.runsource': 'AutoMLImageSDK',\n",
       "  'display_task_type': 'image-object-detection',\n",
       "  'dependencies_versions': '{\"azureml-widgets\": \"1.27.0\", \"azureml-train\": \"1.27.0\", \"azureml-train-restclients-hyperdrive\": \"1.38.0\", \"azureml-train-core\": \"1.38.0\", \"azureml-train-automl\": \"0.1.0.36994775\", \"azureml-train-automl-runtime\": \"0.1.0.36994775\", \"azureml-train-automl-client\": \"1.38.0\", \"azureml-tensorboard\": \"1.27.0\", \"azureml-telemetry\": \"1.38.0\", \"azureml-sdk\": \"1.38.0\", \"azureml-samples\": \"0+unknown\", \"azureml-pipeline\": \"1.38.0\", \"azureml-pipeline-steps\": \"1.38.0\", \"azureml-pipeline-core\": \"1.38.0\", \"azureml-opendatasets\": \"1.27.0\", \"azureml-model-management-sdk\": \"1.0.1b6.post1\", \"azureml-mlflow\": \"1.27.0\", \"azureml-interpret\": \"0.1.0.36994775\", \"azureml-explain-model\": \"1.27.0\", \"azureml-defaults\": \"0.1.0.36994775\", \"azureml-dataset-runtime\": \"1.38.0\", \"azureml-dataprep\": \"2.26.0\", \"azureml-dataprep-rslex\": \"2.2.0\", \"azureml-dataprep-native\": \"38.0.0\", \"azureml-datadrift\": \"1.27.0\", \"azureml-core\": \"1.38.0\", \"azureml-contrib-services\": \"1.27.0\", \"azureml-contrib-server\": \"1.27.0\", \"azureml-contrib-reinforcementlearning\": \"1.27.0\", \"azureml-contrib-pipeline-steps\": \"1.27.0\", \"azureml-contrib-notebook\": \"1.27.0\", \"azureml-contrib-gbdt\": \"1.27.0\", \"azureml-contrib-fairness\": \"1.27.0\", \"azureml-contrib-dataset\": \"0.1.0.36994775\", \"azureml-cli-common\": \"1.27.0\", \"azureml-automl-runtime\": \"0.1.0.36994775\", \"azureml-automl-dnn-nlp\": \"1.27.0\", \"azureml-automl-core\": \"1.38.0\", \"azureml-accel-models\": \"1.27.0\"}',\n",
       "  '_aml_system_scenario_identification': 'Remote.Parent',\n",
       "  'ClientType': 'SDK',\n",
       "  'environment_cpu_name': 'AzureML-AutoML-DNN-Vision-GPU',\n",
       "  'environment_cpu_label': 'Latest',\n",
       "  'environment_gpu_name': 'AzureML-AutoML-DNN-Vision-GPU',\n",
       "  'environment_gpu_label': 'Latest',\n",
       "  'root_attribution': 'AutoMLImageSDK',\n",
       "  'attribution': 'AutoML',\n",
       "  'Orchestrator': 'AutoML',\n",
       "  'CancelUri': 'https://eastus.api.azureml.ms/jasmine/v1.0/subscriptions/83da1f6b-22c0-4300-aa13-bd260eab57e5/resourceGroups/amldatalabeling/providers/Microsoft.MachineLearningServices/workspaces/Computer_Vision_Pipeline/experimentids/e7de3111-5e52-40a9-a0c2-7808320abd68/cancel/AutoML_be064e9f-e5ea-4e0f-ba57-2ddf2d96d2fd',\n",
       "  'ClientSdkVersion': '1.38.1',\n",
       "  'snapshotId': '00000000-0000-0000-0000-000000000000'},\n",
       " 'inputDatasets': [{'dataset': {'id': 'f3e64977-52b9-4075-84f7-af59ce7d4dcc'}, 'consumptionDetails': {'type': 'RunInput', 'inputName': 'training_data', 'mechanism': 'Direct'}}],\n",
       " 'outputDatasets': [],\n",
       " 'logFiles': {},\n",
       " 'submittedBy': 'Rick Durham'}"
      ]
     },
     "execution_count": 15,
     "metadata": {},
     "output_type": "execute_result"
    }
   ],
   "source": [
    "automl_image_run.wait_for_completion(wait_post_processing=True)"
   ]
  },
  {
   "cell_type": "markdown",
   "metadata": {},
   "source": [
    "When doing a hyperparameter sweep, it can be useful to visualize the different configurations that were tried using the HyperDrive UI. You can navigate to this UI by going to the 'Child runs' tab in the UI of the main `automl_image_run` from above, which is the HyperDrive parent run. Then you can go into the 'Child runs' tab of this HyperDrive parent run. Alternatively, here below you can see directly the HyperDrive parent run and navigate to its 'Child runs' tab:"
   ]
  },
  {
   "cell_type": "markdown",
   "metadata": {},
   "source": [
    "## Register the optimal vision model from the AutoML run\n",
    "Once the run completes, we can register the model that was created from the best run (configuration that resulted in the best primary metric)"
   ]
  },
  {
   "cell_type": "code",
   "execution_count": 16,
   "metadata": {},
   "outputs": [],
   "source": [
    "# Register the model from the best run\n",
    "\n",
    "best_child_run = automl_image_run.get_best_child()\n",
    "model_name = best_child_run.properties[\"model_name\"]\n",
    "model = best_child_run.register_model(\n",
    "    model_name=model_name, model_path=\"outputs/model.pt\"\n",
    ")"
   ]
  },
  {
   "cell_type": "markdown",
   "metadata": {},
   "source": [
    "## Download the model and other associated files e.g. labels"
   ]
  },
  {
   "cell_type": "code",
   "execution_count": 17,
   "metadata": {},
   "outputs": [],
   "source": [
    "#https://github.com/MicrosoftDocs/azure-docs/blob/master/articles/machine-learning/how-to-inference-onnx-automl-image-models.md\n",
    "# Create a model folder in the current directory\n",
    "os.makedirs('./model', exist_ok=True)\n",
    "\n",
    "# Download the model from run history\n",
    "best_child_run.download_file(name='train_artifacts/model.onnx',\n",
    "output_file_path='./model/model.onnx')\n",
    "\n",
    "best_child_run.download_file(name='train_artifacts/labels.json',\n",
    "output_file_path='./model/labels.json')\n"
   ]
  },
  {
   "cell_type": "markdown",
   "metadata": {},
   "source": [
    "###  ***Optional: if you trained the model earlier you can still down load the model and label  using Run id. This will be the highest level run id from a child run perspective"
   ]
  },
  {
   "cell_type": "code",
   "execution_count": 18,
   "metadata": {},
   "outputs": [],
   "source": [
    "# Select the best child run\n",
    "from azureml.train.automl.run import AutoMLRun\n",
    "import json\n",
    "\n",
    "run_id = \"AutoML_a756bc5d-d85a-4178-9c36-0877cdc6dfbf\" # Specify the run ID\n",
    "automl_image_run = AutoMLRun(experiment=experiment, run_id=run_id)\n",
    "best_child_run = automl_image_run.get_best_child()\n",
    "\n",
    "labels_file = \"./model/labels.json\"\n",
    "best_child_run.download_file(name=\"train_artifacts/labels.json\", output_file_path=labels_file)\n",
    "\n",
    "onnx_model_path = \"./model/model.onnx\"\n",
    "best_child_run.download_file(name=\"train_artifacts/model.onnx\", output_file_path=onnx_model_path)"
   ]
  },
  {
   "cell_type": "markdown",
   "metadata": {},
   "source": [
    "## Load the labels and ONNX model files"
   ]
  },
  {
   "cell_type": "code",
   "execution_count": 19,
   "metadata": {},
   "outputs": [
    {
     "name": "stdout",
     "output_type": "stream",
     "text": [
      "['coke', 'diet_coke', 'sprite']\n",
      "ONNX model loaded...\n"
     ]
    }
   ],
   "source": [
    "import onnxruntime\n",
    "import json\n",
    "\n",
    "labels_file = \"./model/labels.json\"\n",
    "onnx_model_path = \"./model/model.onnx\"\n",
    "\n",
    "\n",
    "with open(labels_file) as f:\n",
    "    classes = json.load(f)\n",
    "print(classes)\n",
    "try:\n",
    "    session = onnxruntime.InferenceSession(onnx_model_path)\n",
    "    print(\"ONNX model loaded...\")\n",
    "except Exception as e: \n",
    "    print(\"Error loading ONNX file: \",str(e))"
   ]
  },
  {
   "cell_type": "markdown",
   "metadata": {},
   "source": [
    "## Get expected input and output details for an ONNX model"
   ]
  },
  {
   "cell_type": "code",
   "execution_count": 20,
   "metadata": {},
   "outputs": [
    {
     "name": "stdout",
     "output_type": "stream",
     "text": [
      "No. of inputs : 1, No. of outputs : 4\n",
      "0 Input name : input, Input shape : ['batch', 3, 640, 640],     Input type  : tensor(float)\n",
      " 0 Output name : output, Output shape : ['batch', 25200, 8],     Output type  : tensor(float)\n",
      " 1 Output name : 1397, Output shape : [1, 3, 80, 80, 8],     Output type  : tensor(float)\n",
      " 2 Output name : 1745, Output shape : [1, 3, 40, 40, 8],     Output type  : tensor(float)\n",
      " 3 Output name : 2093, Output shape : [1, 3, 20, 20, 8],     Output type  : tensor(float)\n"
     ]
    }
   ],
   "source": [
    "sess_input = session.get_inputs()\n",
    "sess_output = session.get_outputs()\n",
    "print(f\"No. of inputs : {len(sess_input)}, No. of outputs : {len(sess_output)}\")\n",
    "\n",
    "for idx, input_ in enumerate(range(len(sess_input))):\n",
    "    input_name = sess_input[input_].name\n",
    "    input_shape = sess_input[input_].shape\n",
    "    input_type = sess_input[input_].type\n",
    "    print(f\"{idx} Input name : { input_name }, Input shape : {input_shape}, \\\n",
    "    Input type  : {input_type}\")  \n",
    "\n",
    "for idx, output in enumerate(range(len(sess_output))):\n",
    "    output_name = sess_output[output].name\n",
    "    output_shape = sess_output[output].shape\n",
    "    output_type = sess_output[output].type\n",
    "    print(f\" {idx} Output name : {output_name}, Output shape : {output_shape}, \\\n",
    "    Output type  : {output_type}\") "
   ]
  },
  {
   "cell_type": "markdown",
   "metadata": {},
   "source": [
    "## Image Inferencing Preprocessing"
   ]
  },
  {
   "cell_type": "code",
   "execution_count": 21,
   "metadata": {},
   "outputs": [],
   "source": [
    "#Determine the working directory for where the help module yolo_onnx_preprocessing_utils.py is stored\n",
    "MODULE_FULL_PATH = !pwd"
   ]
  },
  {
   "cell_type": "code",
   "execution_count": 22,
   "metadata": {},
   "outputs": [
    {
     "name": "stdout",
     "output_type": "stream",
     "text": [
      "/mnt/batch/tasks/shared/LS_root/mounts/clusters/computer-vision-pipeline/code/Users/rdurham/GTC\r\n"
     ]
    }
   ],
   "source": [
    "!pwd"
   ]
  },
  {
   "cell_type": "code",
   "execution_count": 23,
   "metadata": {},
   "outputs": [
    {
     "data": {
      "text/plain": [
       "('batch', 3, 640, 640)"
      ]
     },
     "execution_count": 23,
     "metadata": {},
     "output_type": "execute_result"
    }
   ],
   "source": [
    "batch, channel, height_onnx, width_onnx = session.get_inputs()[0].shape\n",
    "batch, channel, height_onnx, width_onnx"
   ]
  },
  {
   "cell_type": "code",
   "execution_count": 24,
   "metadata": {},
   "outputs": [],
   "source": [
    "#Add the helper module yolo_onnx_preprocessing_utils to the system path where python looks for modules\n",
    "import sys\n",
    "sys.path.insert(1, MODULE_FULL_PATH)\n",
    "import yolo_onnx_preprocessing_utils\n",
    "from yolo_onnx_preprocessing_utils import preprocess\n",
    "\n",
    "test_image_path = \"test_image1.jpg\"\n",
    "img_data, pad = preprocess(test_image_path)"
   ]
  },
  {
   "cell_type": "code",
   "execution_count": 25,
   "metadata": {},
   "outputs": [],
   "source": [
    "def get_predictions_from_ONNX(onnx_session,img_data):\n",
    "    \"\"\"perform predictions with ONNX Runtime\n",
    "    \n",
    "    :param onnx_session: onnx model session\n",
    "    :type onnx_session: class InferenceSession\n",
    "    :param img_data: pre-processed numpy image\n",
    "    :type img_data: ndarray with shape 1xCxHxW\n",
    "    :return: boxes, labels , scores \n",
    "    :rtype: list\n",
    "    \"\"\"\n",
    "    sess_input = onnx_session.get_inputs()\n",
    "    sess_output = onnx_session.get_outputs()\n",
    "    # predict with ONNX Runtime\n",
    "    output_names = [ output.name for output in sess_output]\n",
    "    pred = onnx_session.run(output_names=output_names,\\\n",
    "                                               input_feed={sess_input[0].name: img_data})\n",
    "    return pred[0]\n",
    "\n",
    "result = get_predictions_from_ONNX(session, img_data)"
   ]
  },
  {
   "cell_type": "markdown",
   "metadata": {},
   "source": [
    "## Object detection with YOLO"
   ]
  },
  {
   "cell_type": "code",
   "execution_count": 26,
   "metadata": {},
   "outputs": [
    {
     "name": "stdout",
     "output_type": "stream",
     "text": [
      "[[[8.49227905e+00 1.79660225e+00 1.80602610e+00 ... 1.60306543e-01\n",
      "   8.43358338e-02 1.84899807e-01]\n",
      "  [1.68100014e+01 2.92542076e+00 4.26841068e+00 ... 1.05796129e-01\n",
      "   1.09462380e-01 1.14273995e-01]\n",
      "  [2.40898781e+01 2.85152721e+00 1.20308628e+01 ... 1.45103067e-01\n",
      "   9.12991166e-02 1.82547122e-01]\n",
      "  ...\n",
      "  [5.66514465e+02 6.13251160e+02 4.01026825e+02 ... 1.27435535e-01\n",
      "   6.47269785e-02 1.19739056e-01]\n",
      "  [5.94921509e+02 6.17070068e+02 3.14017883e+02 ... 8.64683986e-02\n",
      "   6.19709194e-02 1.04138702e-01]\n",
      "  [6.20068176e+02 6.20718994e+02 4.01457855e+02 ... 7.45235682e-02\n",
      "   5.23861945e-02 6.86357021e-02]]]\n"
     ]
    }
   ],
   "source": [
    "print(result)"
   ]
  },
  {
   "cell_type": "code",
   "execution_count": 27,
   "metadata": {},
   "outputs": [
    {
     "data": {
      "text/plain": [
       "(array([[ 49.754066 ,   7.0888214, 205.23813  , 312.8811   ],\n",
       "        [ 59.2162   , 330.16364  , 212.24556  , 479.91522  ],\n",
       "        [221.2354   , 323.3503   , 371.42493  , 480.3263   ],\n",
       "        [218.04727  ,   3.4648132, 361.31302  , 304.2911   ],\n",
       "        [375.68784  ,   2.9273071, 530.29285  , 297.91733  ],\n",
       "        [373.23334  , 319.8391   , 539.1623   , 478.96008  ]],\n",
       "       dtype=float32),\n",
       " [1, 1, 1, 1, 1, 1],\n",
       " [0.8877112, 0.8833434, 0.88324225, 0.8660383, 0.8625833, 0.8607551])"
      ]
     },
     "execution_count": 27,
     "metadata": {},
     "output_type": "execute_result"
    }
   ],
   "source": [
    "from yolo_onnx_preprocessing_utils import non_max_suppression, _convert_to_rcnn_output\n",
    "import torch\n",
    "\n",
    "result = non_max_suppression(\n",
    "    torch.from_numpy(result),\n",
    "    conf_thres=.1,\n",
    "    iou_thres=.5)\n",
    "label, image_shape = _convert_to_rcnn_output(result[0], height_onnx, width_onnx, pad)\n",
    "boxes = np.array(label[\"boxes\"])\n",
    "labels = np.array(label[\"labels\"])\n",
    "labels = [label[0] for label in labels]\n",
    "scores = np.array(label[\"scores\"])\n",
    "scores = [score[0] for score in scores]\n",
    "boxes, labels, scores"
   ]
  },
  {
   "cell_type": "code",
   "execution_count": 28,
   "metadata": {},
   "outputs": [
    {
     "name": "stdout",
     "output_type": "stream",
     "text": [
      "[\n",
      " {\n",
      "  \"box\": {\n",
      "   \"topX\": 0.07774072885513306,\n",
      "   \"topY\": 0.01107628345489502,\n",
      "   \"bottomX\": 0.3206845760345459,\n",
      "   \"bottomY\": 0.4888767242431641\n",
      "  },\n",
      "  \"label\": \"diet_coke\",\n",
      "  \"score\": 0.887711226940155\n",
      " },\n",
      " {\n",
      "  \"box\": {\n",
      "   \"topX\": 0.092525315284729,\n",
      "   \"topY\": 0.5158806800842285,\n",
      "   \"bottomX\": 0.33163368701934814,\n",
      "   \"bottomY\": 0.7498675346374511\n",
      "  },\n",
      "  \"label\": \"diet_coke\",\n",
      "  \"score\": 0.8833433985710144\n",
      " },\n",
      " {\n",
      "  \"box\": {\n",
      "   \"topX\": 0.34568030834198,\n",
      "   \"topY\": 0.5052348613739014,\n",
      "   \"bottomX\": 0.580351448059082,\n",
      "   \"bottomY\": 0.7505098342895508\n",
      "  },\n",
      "  \"label\": \"diet_coke\",\n",
      "  \"score\": 0.8832422494888306\n",
      " },\n",
      " {\n",
      "  \"box\": {\n",
      "   \"topX\": 0.3406988620758057,\n",
      "   \"topY\": 0.00541377067565918,\n",
      "   \"bottomX\": 0.564551591873169,\n",
      "   \"bottomY\": 0.47545485496520995\n",
      "  },\n",
      "  \"label\": \"diet_coke\",\n",
      "  \"score\": 0.8660383224487305\n",
      " },\n",
      " {\n",
      "  \"box\": {\n",
      "   \"topX\": 0.587012243270874,\n",
      "   \"topY\": 0.004573917388916016,\n",
      "   \"bottomX\": 0.8285825729370118,\n",
      "   \"bottomY\": 0.4654958248138428\n",
      "  },\n",
      "  \"label\": \"diet_coke\",\n",
      "  \"score\": 0.8625832796096802\n",
      " },\n",
      " {\n",
      "  \"box\": {\n",
      "   \"topX\": 0.5831770896911621,\n",
      "   \"topY\": 0.49974861145019533,\n",
      "   \"bottomX\": 0.8424410820007324,\n",
      "   \"bottomY\": 0.748375129699707\n",
      "  },\n",
      "  \"label\": \"diet_coke\",\n",
      "  \"score\": 0.8607550859451294\n",
      " }\n",
      "]\n"
     ]
    }
   ],
   "source": [
    "def _get_box_dims(image_shape, box):\n",
    "    box_keys = ['topX', 'topY', 'bottomX', 'bottomY']\n",
    "    height, width = image_shape[0], image_shape[1]\n",
    "\n",
    "    box_dims = dict(zip(box_keys, [coordinate.item() for coordinate in box]))\n",
    "\n",
    "    box_dims['topX'] = box_dims['topX'] * 1.0 / width\n",
    "    box_dims['bottomX'] = box_dims['bottomX'] * 1.0 / width\n",
    "    box_dims['topY'] = box_dims['topY'] * 1.0 / height\n",
    "    box_dims['bottomY'] = box_dims['bottomY'] * 1.0 / height\n",
    "\n",
    "    return box_dims\n",
    "\n",
    "def _get_prediction(boxes, labels, scores, image_shape, classes):\n",
    "    bounding_boxes = []\n",
    "    for box, label_index, score in zip(boxes, labels, scores):\n",
    "        box_dims = _get_box_dims(image_shape, box)\n",
    "\n",
    "        box_record = {'box': box_dims,\n",
    "                      'label': classes[label_index],\n",
    "                      'score': score.item()}\n",
    "\n",
    "        bounding_boxes.append(box_record)\n",
    "\n",
    "    return bounding_boxes\n",
    "\n",
    "bounding_boxes = _get_prediction(boxes, labels, scores, (height_onnx,width_onnx), classes)\n",
    "print(json.dumps(bounding_boxes, indent=1))\n",
    "\n",
    "# Filter the results with a threshold.\n",
    "# Replace the threshold for your test scenario.\n",
    "score_threshold = 0.6\n",
    "filtered_bounding_boxes = []\n",
    "for box in bounding_boxes:\n",
    "    if box['score'] >= score_threshold:\n",
    "       filtered_bounding_boxes.append(box)"
   ]
  },
  {
   "cell_type": "code",
   "execution_count": 29,
   "metadata": {},
   "outputs": [
    {
     "name": "stdout",
     "output_type": "stream",
     "text": [
      "(816, 616)\n",
      "diet_coke: 63.436434745788574, 9.2110373210907, 198.24217929840088, 294.3250715255737\n",
      "diet_coke: 75.50065727233887, 429.0063735580444, 195.1124313354492, 144.13590240478516\n",
      "diet_coke: 282.07513160705565, 420.15331071853643, 191.49165000915525, 151.08938331604\n",
      "diet_coke: 278.01027145385746, 4.502091693878174, 182.66382751464843, 289.5453079223633\n",
      "diet_coke: 479.0019905090332, 3.803669700622559, 197.12138900756844, 283.9278949737549\n",
      "diet_coke: 475.8725051879883, 415.59094528198244, 211.55941772460938, 153.15393524169917\n"
     ]
    },
    {
     "data": {
      "text/plain": [
       "<Figure size 1296x864 with 0 Axes>"
      ]
     },
     "metadata": {},
     "output_type": "display_data"
    },
    {
     "data": {
      "image/png": "[encoded data removed]",
      "text/plain": [
       "<Figure size 432x288 with 1 Axes>"
      ]
     },
     "metadata": {
      "needs_background": "light"
     },
     "output_type": "display_data"
    }
   ],
   "source": [
    "import matplotlib.pyplot as plt\n",
    "import matplotlib.image as mpimg\n",
    "import matplotlib.patches as patches\n",
    "from PIL import Image\n",
    "%matplotlib inline\n",
    "\n",
    "IMAGE_SIZE = (18,12)\n",
    "plt.figure(figsize=IMAGE_SIZE)\n",
    "img_np = mpimg.imread(test_image_path)\n",
    "img = Image.fromarray(img_np.astype('uint8'),'RGB')\n",
    "x, y = img.size\n",
    "print(img.size)\n",
    "\n",
    "fig,ax = plt.subplots(1)\n",
    "# Display the image\n",
    "ax.imshow(img_np)\n",
    "\n",
    "# Draw a box and label for each detection \n",
    "for detect in filtered_bounding_boxes:\n",
    "    label = detect['label']\n",
    "    box = detect['box']\n",
    "    ymin, xmin, ymax, xmax =  box['topY'],box['topX'], box['bottomY'],box['bottomX']\n",
    "    topleft_x, topleft_y = x  * xmin, y *  1.35 *ymin\n",
    "    width, height = x *  (xmax - xmin), y * (ymax - ymin)\n",
    "    print('{}: {}, {}, {}, {}'.format(detect['label'], topleft_x, topleft_y, width, height))\n",
    "    rect = patches.Rectangle((topleft_x, topleft_y), width, height, \n",
    "                             linewidth=1, edgecolor='green',facecolor='none')\n",
    "\n",
    "    ax.add_patch(rect)\n",
    "    color = 'green'\n",
    "    plt.text(topleft_x, topleft_y, label, color=color)\n",
    "\n",
    "plt.show()"
   ]
  },
  {
   "cell_type": "code",
   "execution_count": null,
   "metadata": {},
   "outputs": [],
   "source": []
  }
 ],
 "metadata": {
  "kernelspec": {
   "display_name": "Python 3.6 - AzureML",
   "language": "python",
   "name": "python3-azureml"
  },
  "language_info": {
   "codemirror_mode": {
    "name": "ipython",
    "version": 3
   },
   "file_extension": ".py",
   "mimetype": "text/x-python",
   "name": "python",
   "nbconvert_exporter": "python",
   "pygments_lexer": "ipython3",
   "version": "3.6.9"
  },
  "nteract": {
   "version": "nteract-front-end@1.0.0"
  }
 },
 "nbformat": 4,
 "nbformat_minor": 2
}
