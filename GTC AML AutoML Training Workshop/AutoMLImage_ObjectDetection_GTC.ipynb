{
 "cells": [
  {
   "cell_type": "markdown",
   "metadata": {},
   "source": [
    "Copyright (c) Microsoft Corporation. All rights reserved.\n",
    "\n",
    "Licensed under the MIT License.\n",
    "\n",
    "# Training an Object Detection model using AutoML\n",
    "In this notebook, we go over how you can use AutoML for training an Object Detection model. We will use a small dataset to train the model, demonstrate how you can tune hyperparameters of the model to optimize model performance and deploy the model to use in inference scenarios."
   ]
  },
  {
   "cell_type": "markdown",
   "metadata": {},
   "source": [
    "## Setup\n",
    "To use this notebook, you will need to install the private preview package for AutoML for images from the private index.\n",
    "\n",
    "### Note: Only Python 3.6 and 3.7 are supported for this feature."
   ]
  },
  {
   "cell_type": "code",
   "execution_count": 49,
   "metadata": {},
   "outputs": [
    {
     "name": "stdout",
     "output_type": "stream",
     "text": [
      "Looking in indexes: https://pypi.org/simple, https://azuremlsdktestpypi.azureedge.net/automl_for_images_private_preview/\n",
      "Requirement already up-to-date: azureml-train-core<0.1.1 in /anaconda/envs/azureml_py36/lib/python3.6/site-packages (0.1.0.36994775)\n",
      "Requirement already up-to-date: azureml-train-automl<0.1.1 in /anaconda/envs/azureml_py36/lib/python3.6/site-packages (0.1.0.36994775)\n",
      "Requirement already up-to-date: azureml-contrib-dataset<0.1.1 in /anaconda/envs/azureml_py36/lib/python3.6/site-packages (0.1.0.36994775)\n",
      "Requirement already satisfied, skipping upgrade: azureml-core~=0.1.0.36994775 in /anaconda/envs/azureml_py36/lib/python3.6/site-packages (from azureml-train-core<0.1.1) (0.1.0.36994775)\n",
      "Requirement already satisfied, skipping upgrade: azureml-train-restclients-hyperdrive~=0.1.0.36994775 in /anaconda/envs/azureml_py36/lib/python3.6/site-packages (from azureml-train-core<0.1.1) (0.1.0.36994775)\n",
      "Requirement already satisfied, skipping upgrade: azureml-telemetry~=0.1.0.36994775 in /anaconda/envs/azureml_py36/lib/python3.6/site-packages (from azureml-train-core<0.1.1) (0.1.0.36994775)\n",
      "Requirement already satisfied, skipping upgrade: azureml-automl-core~=0.1.0.36994775 in /anaconda/envs/azureml_py36/lib/python3.6/site-packages (from azureml-train-automl<0.1.1) (0.1.0.36994775)\n",
      "Requirement already satisfied, skipping upgrade: azureml-train-automl-runtime~=0.1.0.36994775 in /anaconda/envs/azureml_py36/lib/python3.6/site-packages (from azureml-train-automl<0.1.1) (0.1.0.36994775)\n",
      "Requirement already satisfied, skipping upgrade: azureml-train-automl-client~=0.1.0.36994775 in /anaconda/envs/azureml_py36/lib/python3.6/site-packages (from azureml-train-automl<0.1.1) (0.1.0.36994775)\n",
      "Requirement already satisfied, skipping upgrade: azureml-dataset-runtime[fuse,pandas]~=0.1.0.36994775 in /anaconda/envs/azureml_py36/lib/python3.6/site-packages (from azureml-train-automl<0.1.1) (0.1.0.36994775)\n",
      "Requirement already satisfied, skipping upgrade: azureml-automl-runtime~=0.1.0.36994775 in /anaconda/envs/azureml_py36/lib/python3.6/site-packages (from azureml-train-automl<0.1.1) (0.1.0.36994775)\n",
      "Requirement already satisfied, skipping upgrade: jmespath<1.0.0 in /anaconda/envs/azureml_py36/lib/python3.6/site-packages (from azureml-core~=0.1.0.36994775->azureml-train-core<0.1.1) (0.10.0)\n",
      "Requirement already satisfied, skipping upgrade: contextlib2<1.0.0 in /anaconda/envs/azureml_py36/lib/python3.6/site-packages (from azureml-core~=0.1.0.36994775->azureml-train-core<0.1.1) (0.6.0.post1)\n",
      "Requirement already satisfied, skipping upgrade: python-dateutil<3.0.0,>=2.7.3 in /anaconda/envs/azureml_py36/lib/python3.6/site-packages (from azureml-core~=0.1.0.36994775->azureml-train-core<0.1.1) (2.8.2)\n",
      "Requirement already satisfied, skipping upgrade: SecretStorage<4.0.0 in /anaconda/envs/azureml_py36/lib/python3.6/site-packages (from azureml-core~=0.1.0.36994775->azureml-train-core<0.1.1) (3.3.1)\n",
      "Requirement already satisfied, skipping upgrade: msrestazure>=0.4.33 in /anaconda/envs/azureml_py36/lib/python3.6/site-packages (from azureml-core~=0.1.0.36994775->azureml-train-core<0.1.1) (0.6.4)\n",
      "Requirement already satisfied, skipping upgrade: msrest<1.0.0,>=0.5.1 in /anaconda/envs/azureml_py36/lib/python3.6/site-packages (from azureml-core~=0.1.0.36994775->azureml-train-core<0.1.1) (0.6.21)\n",
      "Requirement already satisfied, skipping upgrade: azure-mgmt-resource<15.0.0,>=1.2.1 in /anaconda/envs/azureml_py36/lib/python3.6/site-packages (from azureml-core~=0.1.0.36994775->azureml-train-core<0.1.1) (13.0.0)\n",
      "Requirement already satisfied, skipping upgrade: requests<3.0.0,>=2.19.1 in /anaconda/envs/azureml_py36/lib/python3.6/site-packages (from azureml-core~=0.1.0.36994775->azureml-train-core<0.1.1) (2.26.0)\n",
      "Requirement already satisfied, skipping upgrade: adal>=1.2.0 in /anaconda/envs/azureml_py36/lib/python3.6/site-packages (from azureml-core~=0.1.0.36994775->azureml-train-core<0.1.1) (1.2.7)\n",
      "Requirement already satisfied, skipping upgrade: azure-mgmt-authorization<1.0.0,>=0.40.0 in /anaconda/envs/azureml_py36/lib/python3.6/site-packages (from azureml-core~=0.1.0.36994775->azureml-train-core<0.1.1) (0.61.0)\n",
      "Requirement already satisfied, skipping upgrade: jsonpickle<3.0.0 in /anaconda/envs/azureml_py36/lib/python3.6/site-packages (from azureml-core~=0.1.0.36994775->azureml-train-core<0.1.1) (2.0.0)\n",
      "Requirement already satisfied, skipping upgrade: azure-graphrbac<1.0.0,>=0.40.0 in /anaconda/envs/azureml_py36/lib/python3.6/site-packages (from azureml-core~=0.1.0.36994775->azureml-train-core<0.1.1) (0.61.1)\n",
      "Requirement already satisfied, skipping upgrade: PyJWT<3.0.0 in /anaconda/envs/azureml_py36/lib/python3.6/site-packages (from azureml-core~=0.1.0.36994775->azureml-train-core<0.1.1) (2.3.0)\n",
      "Requirement already satisfied, skipping upgrade: azure-mgmt-storage<16.0.0,>=1.5.0 in /anaconda/envs/azureml_py36/lib/python3.6/site-packages (from azureml-core~=0.1.0.36994775->azureml-train-core<0.1.1) (11.2.0)\n",
      "Requirement already satisfied, skipping upgrade: ndg-httpsclient in /anaconda/envs/azureml_py36/lib/python3.6/site-packages (from azureml-core~=0.1.0.36994775->azureml-train-core<0.1.1) (0.5.1)\n",
      "Requirement already satisfied, skipping upgrade: ruamel.yaml<1.0.0,>=0.15.35 in /anaconda/envs/azureml_py36/lib/python3.6/site-packages (from azureml-core~=0.1.0.36994775->azureml-train-core<0.1.1) (0.17.20)\n",
      "Requirement already satisfied, skipping upgrade: pytz in /anaconda/envs/azureml_py36/lib/python3.6/site-packages (from azureml-core~=0.1.0.36994775->azureml-train-core<0.1.1) (2021.3)\n",
      "Requirement already satisfied, skipping upgrade: azure-mgmt-containerregistry>=2.0.0 in /anaconda/envs/azureml_py36/lib/python3.6/site-packages (from azureml-core~=0.1.0.36994775->azureml-train-core<0.1.1) (8.2.0)\n",
      "Requirement already satisfied, skipping upgrade: pyopenssl<21.0.0 in /anaconda/envs/azureml_py36/lib/python3.6/site-packages (from azureml-core~=0.1.0.36994775->azureml-train-core<0.1.1) (20.0.1)\n",
      "Requirement already satisfied, skipping upgrade: docker<5.0.0 in /anaconda/envs/azureml_py36/lib/python3.6/site-packages (from azureml-core~=0.1.0.36994775->azureml-train-core<0.1.1) (4.4.4)\n",
      "Requirement already satisfied, skipping upgrade: azure-mgmt-keyvault<7.0.0,>=0.40.0 in /anaconda/envs/azureml_py36/lib/python3.6/site-packages (from azureml-core~=0.1.0.36994775->azureml-train-core<0.1.1) (2.2.0)\n",
      "Requirement already satisfied, skipping upgrade: pathspec<1.0.0 in /anaconda/envs/azureml_py36/lib/python3.6/site-packages (from azureml-core~=0.1.0.36994775->azureml-train-core<0.1.1) (0.9.0)\n",
      "Requirement already satisfied, skipping upgrade: azure-common<2.0.0,>=1.1.12 in /anaconda/envs/azureml_py36/lib/python3.6/site-packages (from azureml-core~=0.1.0.36994775->azureml-train-core<0.1.1) (1.1.27)\n",
      "Requirement already satisfied, skipping upgrade: cryptography!=1.9,!=2.0.*,!=2.1.*,!=2.2.*,<4.0.0 in /anaconda/envs/azureml_py36/lib/python3.6/site-packages (from azureml-core~=0.1.0.36994775->azureml-train-core<0.1.1) (3.4.8)\n",
      "Requirement already satisfied, skipping upgrade: urllib3>=1.23 in /anaconda/envs/azureml_py36/lib/python3.6/site-packages (from azureml-core~=0.1.0.36994775->azureml-train-core<0.1.1) (1.25.11)\n",
      "Requirement already satisfied, skipping upgrade: backports.tempfile in /anaconda/envs/azureml_py36/lib/python3.6/site-packages (from azureml-core~=0.1.0.36994775->azureml-train-core<0.1.1) (1.0)\n",
      "Requirement already satisfied, skipping upgrade: applicationinsights in /anaconda/envs/azureml_py36/lib/python3.6/site-packages (from azureml-telemetry~=0.1.0.36994775->azureml-train-core<0.1.1) (0.11.10)\n",
      "Requirement already satisfied, skipping upgrade: lightgbm<=2.3.0,>=2.0.11 in /anaconda/envs/azureml_py36/lib/python3.6/site-packages (from azureml-train-automl-runtime~=0.1.0.36994775->azureml-train-automl<0.1.1) (2.3.0)\n",
      "Requirement already satisfied, skipping upgrade: skl2onnx==1.4.9 in /anaconda/envs/azureml_py36/lib/python3.6/site-packages (from azureml-train-automl-runtime~=0.1.0.36994775->azureml-train-automl<0.1.1) (1.4.9)\n",
      "Requirement already satisfied, skipping upgrade: jinja2<=2.11.2 in /anaconda/envs/azureml_py36/lib/python3.6/site-packages (from azureml-train-automl-runtime~=0.1.0.36994775->azureml-train-automl<0.1.1) (2.11.2)\n",
      "Requirement already satisfied, skipping upgrade: scipy<=1.5.2,>=1.0.0 in /anaconda/envs/azureml_py36/lib/python3.6/site-packages (from azureml-train-automl-runtime~=0.1.0.36994775->azureml-train-automl<0.1.1) (1.5.2)\n",
      "Requirement already satisfied, skipping upgrade: keras2onnx<=1.6.0,>=1.4.0 in /anaconda/envs/azureml_py36/lib/python3.6/site-packages (from azureml-train-automl-runtime~=0.1.0.36994775->azureml-train-automl<0.1.1) (1.6.0)\n",
      "Requirement already satisfied, skipping upgrade: onnxmltools==1.4.1 in /anaconda/envs/azureml_py36/lib/python3.6/site-packages (from azureml-train-automl-runtime~=0.1.0.36994775->azureml-train-automl<0.1.1) (1.4.1)\n",
      "Requirement already satisfied, skipping upgrade: azure-storage-queue~=12.1 in /anaconda/envs/azureml_py36/lib/python3.6/site-packages (from azureml-train-automl-runtime~=0.1.0.36994775->azureml-train-automl<0.1.1) (12.1.6)\n",
      "Requirement already satisfied, skipping upgrade: sklearn-pandas<=1.7.0,>=1.4.0 in /anaconda/envs/azureml_py36/lib/python3.6/site-packages (from azureml-train-automl-runtime~=0.1.0.36994775->azureml-train-automl<0.1.1) (1.7.0)\n",
      "Requirement already satisfied, skipping upgrade: azureml-defaults~=0.1.0.36994775 in /anaconda/envs/azureml_py36/lib/python3.6/site-packages (from azureml-train-automl-runtime~=0.1.0.36994775->azureml-train-automl<0.1.1) (0.1.0.36994775)\n",
      "Requirement already satisfied, skipping upgrade: onnxruntime<=1.6.0,>=1.3.0 in /anaconda/envs/azureml_py36/lib/python3.6/site-packages (from azureml-train-automl-runtime~=0.1.0.36994775->azureml-train-automl<0.1.1) (1.6.0)\n",
      "Requirement already satisfied, skipping upgrade: statsmodels<=0.10.2,>=0.9.0 in /anaconda/envs/azureml_py36/lib/python3.6/site-packages (from azureml-train-automl-runtime~=0.1.0.36994775->azureml-train-automl<0.1.1) (0.10.2)\n",
      "Requirement already satisfied, skipping upgrade: scikit-learn<0.23.0,>=0.19.0 in /anaconda/envs/azureml_py36/lib/python3.6/site-packages (from azureml-train-automl-runtime~=0.1.0.36994775->azureml-train-automl<0.1.1) (0.22.2.post1)\n",
      "Requirement already satisfied, skipping upgrade: gensim<3.9.0 in /anaconda/envs/azureml_py36/lib/python3.6/site-packages (from azureml-train-automl-runtime~=0.1.0.36994775->azureml-train-automl<0.1.1) (3.8.3)\n",
      "Requirement already satisfied, skipping upgrade: pandas<1.0.0,>=0.21.0 in /anaconda/envs/azureml_py36/lib/python3.6/site-packages (from azureml-train-automl-runtime~=0.1.0.36994775->azureml-train-automl<0.1.1) (0.25.3)\n",
      "Requirement already satisfied, skipping upgrade: onnxconverter-common<=1.6.0,>=1.4.2 in /anaconda/envs/azureml_py36/lib/python3.6/site-packages (from azureml-train-automl-runtime~=0.1.0.36994775->azureml-train-automl<0.1.1) (1.6.0)\n",
      "Requirement already satisfied, skipping upgrade: numpy<1.19.0,>=1.16.0 in /anaconda/envs/azureml_py36/lib/python3.6/site-packages (from azureml-train-automl-runtime~=0.1.0.36994775->azureml-train-automl<0.1.1) (1.18.5)\n",
      "Requirement already satisfied, skipping upgrade: boto3<=1.15.18 in /anaconda/envs/azureml_py36/lib/python3.6/site-packages (from azureml-train-automl-runtime~=0.1.0.36994775->azureml-train-automl<0.1.1) (1.15.18)\n",
      "Requirement already satisfied, skipping upgrade: onnx<=1.7.0,>=1.5.0 in /anaconda/envs/azureml_py36/lib/python3.6/site-packages (from azureml-train-automl-runtime~=0.1.0.36994775->azureml-train-automl<0.1.1) (1.7.0)\n",
      "Requirement already satisfied, skipping upgrade: azureml-interpret~=0.1.0.36994775 in /anaconda/envs/azureml_py36/lib/python3.6/site-packages (from azureml-train-automl-runtime~=0.1.0.36994775->azureml-train-automl<0.1.1) (0.1.0.36994775)\n",
      "Requirement already satisfied, skipping upgrade: botocore<=1.18.18 in /anaconda/envs/azureml_py36/lib/python3.6/site-packages (from azureml-train-automl-runtime~=0.1.0.36994775->azureml-train-automl<0.1.1) (1.18.18)\n",
      "Requirement already satisfied, skipping upgrade: smart-open<=1.9.0 in /anaconda/envs/azureml_py36/lib/python3.6/site-packages (from azureml-train-automl-runtime~=0.1.0.36994775->azureml-train-automl<0.1.1) (1.9.0)\n",
      "Requirement already satisfied, skipping upgrade: azureml-dataprep<2.16.0a,>=2.15.0a in /anaconda/envs/azureml_py36/lib/python3.6/site-packages (from azureml-dataset-runtime[fuse,pandas]~=0.1.0.36994775->azureml-train-automl<0.1.1) (2.15.1)\n",
      "Requirement already satisfied, skipping upgrade: pyarrow<4.0.0,>=0.17.0 in /anaconda/envs/azureml_py36/lib/python3.6/site-packages (from azureml-dataset-runtime[fuse,pandas]~=0.1.0.36994775->azureml-train-automl<0.1.1) (3.0.0)\n",
      "Requirement already satisfied, skipping upgrade: fusepy<4.0.0,>=3.0.1; extra == \"fuse\" in /anaconda/envs/azureml_py36/lib/python3.6/site-packages (from azureml-dataset-runtime[fuse,pandas]~=0.1.0.36994775->azureml-train-automl<0.1.1) (3.0.1)\n",
      "Requirement already satisfied, skipping upgrade: joblib==0.14.1 in /anaconda/envs/azureml_py36/lib/python3.6/site-packages (from azureml-automl-runtime~=0.1.0.36994775->azureml-train-automl<0.1.1) (0.14.1)\n",
      "Requirement already satisfied, skipping upgrade: pmdarima==1.1.1 in /anaconda/envs/azureml_py36/lib/python3.6/site-packages (from azureml-automl-runtime~=0.1.0.36994775->azureml-train-automl<0.1.1) (1.1.1)\n",
      "Requirement already satisfied, skipping upgrade: nimbusml<=1.8.0,>=1.7.1 in /anaconda/envs/azureml_py36/lib/python3.6/site-packages (from azureml-automl-runtime~=0.1.0.36994775->azureml-train-automl<0.1.1) (1.8.0)\n",
      "Requirement already satisfied, skipping upgrade: dill<0.4.0,>=0.2.8 in /anaconda/envs/azureml_py36/lib/python3.6/site-packages (from azureml-automl-runtime~=0.1.0.36994775->azureml-train-automl<0.1.1) (0.3.4)\n",
      "Requirement already satisfied, skipping upgrade: py-cpuinfo==5.0.0 in /anaconda/envs/azureml_py36/lib/python3.6/site-packages (from azureml-automl-runtime~=0.1.0.36994775->azureml-train-automl<0.1.1) (5.0.0)\n",
      "Requirement already satisfied, skipping upgrade: psutil<6.0.0,>=5.2.2 in /anaconda/envs/azureml_py36/lib/python3.6/site-packages (from azureml-automl-runtime~=0.1.0.36994775->azureml-train-automl<0.1.1) (5.8.0)\n",
      "Requirement already satisfied, skipping upgrade: six>=1.5 in /anaconda/envs/azureml_py36/lib/python3.6/site-packages (from python-dateutil<3.0.0,>=2.7.3->azureml-core~=0.1.0.36994775->azureml-train-core<0.1.1) (1.16.0)\n",
      "Requirement already satisfied, skipping upgrade: jeepney>=0.6 in /anaconda/envs/azureml_py36/lib/python3.6/site-packages (from SecretStorage<4.0.0->azureml-core~=0.1.0.36994775->azureml-train-core<0.1.1) (0.7.1)\n",
      "Requirement already satisfied, skipping upgrade: requests-oauthlib>=0.5.0 in /anaconda/envs/azureml_py36/lib/python3.6/site-packages (from msrest<1.0.0,>=0.5.1->azureml-core~=0.1.0.36994775->azureml-train-core<0.1.1) (1.3.0)\n",
      "Requirement already satisfied, skipping upgrade: isodate>=0.6.0 in /anaconda/envs/azureml_py36/lib/python3.6/site-packages (from msrest<1.0.0,>=0.5.1->azureml-core~=0.1.0.36994775->azureml-train-core<0.1.1) (0.6.0)\n",
      "Requirement already satisfied, skipping upgrade: certifi>=2017.4.17 in /anaconda/envs/azureml_py36/lib/python3.6/site-packages (from msrest<1.0.0,>=0.5.1->azureml-core~=0.1.0.36994775->azureml-train-core<0.1.1) (2021.10.8)\n",
      "Requirement already satisfied, skipping upgrade: charset-normalizer~=2.0.0; python_version >= \"3\" in /anaconda/envs/azureml_py36/lib/python3.6/site-packages (from requests<3.0.0,>=2.19.1->azureml-core~=0.1.0.36994775->azureml-train-core<0.1.1) (2.0.7)\n",
      "Requirement already satisfied, skipping upgrade: idna<4,>=2.5; python_version >= \"3\" in /anaconda/envs/azureml_py36/lib/python3.6/site-packages (from requests<3.0.0,>=2.19.1->azureml-core~=0.1.0.36994775->azureml-train-core<0.1.1) (3.3)\n",
      "Requirement already satisfied, skipping upgrade: importlib-metadata; python_version < \"3.8\" in /anaconda/envs/azureml_py36/lib/python3.6/site-packages (from jsonpickle<3.0.0->azureml-core~=0.1.0.36994775->azureml-train-core<0.1.1) (4.8.1)\n",
      "Requirement already satisfied, skipping upgrade: pyasn1>=0.1.1 in /anaconda/envs/azureml_py36/lib/python3.6/site-packages (from ndg-httpsclient->azureml-core~=0.1.0.36994775->azureml-train-core<0.1.1) (0.4.8)\n",
      "Requirement already satisfied, skipping upgrade: ruamel.yaml.clib>=0.2.6; platform_python_implementation == \"CPython\" and python_version < \"3.11\" in /anaconda/envs/azureml_py36/lib/python3.6/site-packages (from ruamel.yaml<1.0.0,>=0.15.35->azureml-core~=0.1.0.36994775->azureml-train-core<0.1.1) (0.2.6)\n",
      "Requirement already satisfied, skipping upgrade: azure-mgmt-core<2.0.0,>=1.2.0 in /anaconda/envs/azureml_py36/lib/python3.6/site-packages (from azure-mgmt-containerregistry>=2.0.0->azureml-core~=0.1.0.36994775->azureml-train-core<0.1.1) (1.3.0)\n",
      "Requirement already satisfied, skipping upgrade: websocket-client>=0.32.0 in /anaconda/envs/azureml_py36/lib/python3.6/site-packages (from docker<5.0.0->azureml-core~=0.1.0.36994775->azureml-train-core<0.1.1) (1.2.1)\n",
      "Requirement already satisfied, skipping upgrade: cffi>=1.12 in /anaconda/envs/azureml_py36/lib/python3.6/site-packages (from cryptography!=1.9,!=2.0.*,!=2.1.*,!=2.2.*,<4.0.0->azureml-core~=0.1.0.36994775->azureml-train-core<0.1.1) (1.15.0)\n",
      "Requirement already satisfied, skipping upgrade: backports.weakref in /anaconda/envs/azureml_py36/lib/python3.6/site-packages (from backports.tempfile->azureml-core~=0.1.0.36994775->azureml-train-core<0.1.1) (1.0.post1)\n",
      "Requirement already satisfied, skipping upgrade: protobuf in /anaconda/envs/azureml_py36/lib/python3.6/site-packages (from skl2onnx==1.4.9->azureml-train-automl-runtime~=0.1.0.36994775->azureml-train-automl<0.1.1) (3.19.1)\n",
      "Requirement already satisfied, skipping upgrade: MarkupSafe>=0.23 in /anaconda/envs/azureml_py36/lib/python3.6/site-packages (from jinja2<=2.11.2->azureml-train-automl-runtime~=0.1.0.36994775->azureml-train-automl<0.1.1) (2.0.1)\n",
      "Requirement already satisfied, skipping upgrade: fire in /anaconda/envs/azureml_py36/lib/python3.6/site-packages (from keras2onnx<=1.6.0,>=1.4.0->azureml-train-automl-runtime~=0.1.0.36994775->azureml-train-automl<0.1.1) (0.4.0)\n",
      "Requirement already satisfied, skipping upgrade: azure-core<2.0.0,>=1.10.0 in /anaconda/envs/azureml_py36/lib/python3.6/site-packages (from azure-storage-queue~=12.1->azureml-train-automl-runtime~=0.1.0.36994775->azureml-train-automl<0.1.1) (1.19.1)\n",
      "Requirement already satisfied, skipping upgrade: configparser==3.7.4 in /anaconda/envs/azureml_py36/lib/python3.6/site-packages (from azureml-defaults~=0.1.0.36994775->azureml-train-automl-runtime~=0.1.0.36994775->azureml-train-automl<0.1.1) (3.7.4)\n",
      "Requirement already satisfied, skipping upgrade: werkzeug<=1.0.1,>=0.16.1 in /anaconda/envs/azureml_py36/lib/python3.6/site-packages (from azureml-defaults~=0.1.0.36994775->azureml-train-automl-runtime~=0.1.0.36994775->azureml-train-automl<0.1.1) (1.0.1)\n",
      "Requirement already satisfied, skipping upgrade: flask==1.0.3 in /anaconda/envs/azureml_py36/lib/python3.6/site-packages (from azureml-defaults~=0.1.0.36994775->azureml-train-automl-runtime~=0.1.0.36994775->azureml-train-automl<0.1.1) (1.0.3)\n",
      "Requirement already satisfied, skipping upgrade: gunicorn==20.1.0 in /anaconda/envs/azureml_py36/lib/python3.6/site-packages (from azureml-defaults~=0.1.0.36994775->azureml-train-automl-runtime~=0.1.0.36994775->azureml-train-automl<0.1.1) (20.1.0)\n",
      "Requirement already satisfied, skipping upgrade: json-logging-py==0.2 in /anaconda/envs/azureml_py36/lib/python3.6/site-packages (from azureml-defaults~=0.1.0.36994775->azureml-train-automl-runtime~=0.1.0.36994775->azureml-train-automl<0.1.1) (0.2)\n",
      "Requirement already satisfied, skipping upgrade: azureml-model-management-sdk==1.0.1b6.post1 in /anaconda/envs/azureml_py36/lib/python3.6/site-packages (from azureml-defaults~=0.1.0.36994775->azureml-train-automl-runtime~=0.1.0.36994775->azureml-train-automl<0.1.1) (1.0.1b6.post1)\n",
      "Requirement already satisfied, skipping upgrade: patsy>=0.4.0 in /anaconda/envs/azureml_py36/lib/python3.6/site-packages (from statsmodels<=0.10.2,>=0.9.0->azureml-train-automl-runtime~=0.1.0.36994775->azureml-train-automl<0.1.1) (0.5.2)\n",
      "Requirement already satisfied, skipping upgrade: s3transfer<0.4.0,>=0.3.0 in /anaconda/envs/azureml_py36/lib/python3.6/site-packages (from boto3<=1.15.18->azureml-train-automl-runtime~=0.1.0.36994775->azureml-train-automl<0.1.1) (0.3.7)\n",
      "Requirement already satisfied, skipping upgrade: typing-extensions>=3.6.2.1 in /anaconda/envs/azureml_py36/lib/python3.6/site-packages (from onnx<=1.7.0,>=1.5.0->azureml-train-automl-runtime~=0.1.0.36994775->azureml-train-automl<0.1.1) (3.10.0.2)\n",
      "Requirement already satisfied, skipping upgrade: interpret-community==0.17.* in /anaconda/envs/azureml_py36/lib/python3.6/site-packages (from azureml-interpret~=0.1.0.36994775->azureml-train-automl-runtime~=0.1.0.36994775->azureml-train-automl<0.1.1) (0.17.2)\n",
      "Requirement already satisfied, skipping upgrade: interpret-core[required]<=0.2.1,>=0.1.20 in /anaconda/envs/azureml_py36/lib/python3.6/site-packages (from azureml-interpret~=0.1.0.36994775->azureml-train-automl-runtime~=0.1.0.36994775->azureml-train-automl<0.1.1) (0.2.1)\n",
      "Requirement already satisfied, skipping upgrade: boto>=2.32 in /anaconda/envs/azureml_py36/lib/python3.6/site-packages (from smart-open<=1.9.0->azureml-train-automl-runtime~=0.1.0.36994775->azureml-train-automl<0.1.1) (2.49.0)\n",
      "Requirement already satisfied, skipping upgrade: azureml-dataprep-native<34.0.0,>=33.0.0 in /anaconda/envs/azureml_py36/lib/python3.6/site-packages (from azureml-dataprep<2.16.0a,>=2.15.0a->azureml-dataset-runtime[fuse,pandas]~=0.1.0.36994775->azureml-train-automl<0.1.1) (33.0.0)\n",
      "Requirement already satisfied, skipping upgrade: azure-identity<1.5.0,>=1.2.0 in /anaconda/envs/azureml_py36/lib/python3.6/site-packages (from azureml-dataprep<2.16.0a,>=2.15.0a->azureml-dataset-runtime[fuse,pandas]~=0.1.0.36994775->azureml-train-automl<0.1.1) (1.4.1)\n",
      "Requirement already satisfied, skipping upgrade: cloudpickle<2.0.0,>=1.1.0 in /anaconda/envs/azureml_py36/lib/python3.6/site-packages (from azureml-dataprep<2.16.0a,>=2.15.0a->azureml-dataset-runtime[fuse,pandas]~=0.1.0.36994775->azureml-train-automl<0.1.1) (1.6.0)\n",
      "Requirement already satisfied, skipping upgrade: dotnetcore2<3.0.0,>=2.1.14 in /anaconda/envs/azureml_py36/lib/python3.6/site-packages (from azureml-dataprep<2.16.0a,>=2.15.0a->azureml-dataset-runtime[fuse,pandas]~=0.1.0.36994775->azureml-train-automl<0.1.1) (2.1.21)\n",
      "Requirement already satisfied, skipping upgrade: azureml-dataprep-rslex<1.14.0a,>=1.13.0dev0 in /anaconda/envs/azureml_py36/lib/python3.6/site-packages (from azureml-dataprep<2.16.0a,>=2.15.0a->azureml-dataset-runtime[fuse,pandas]~=0.1.0.36994775->azureml-train-automl<0.1.1) (1.13.0)\n",
      "Requirement already satisfied, skipping upgrade: Cython>=0.29 in /anaconda/envs/azureml_py36/lib/python3.6/site-packages (from pmdarima==1.1.1->azureml-automl-runtime~=0.1.0.36994775->azureml-train-automl<0.1.1) (0.29.24)\n",
      "Requirement already satisfied, skipping upgrade: oauthlib>=3.0.0 in /anaconda/envs/azureml_py36/lib/python3.6/site-packages (from requests-oauthlib>=0.5.0->msrest<1.0.0,>=0.5.1->azureml-core~=0.1.0.36994775->azureml-train-core<0.1.1) (3.1.1)\n",
      "Requirement already satisfied, skipping upgrade: zipp>=0.5 in /anaconda/envs/azureml_py36/lib/python3.6/site-packages (from importlib-metadata; python_version < \"3.8\"->jsonpickle<3.0.0->azureml-core~=0.1.0.36994775->azureml-train-core<0.1.1) (3.6.0)\n",
      "Requirement already satisfied, skipping upgrade: pycparser in /anaconda/envs/azureml_py36/lib/python3.6/site-packages (from cffi>=1.12->cryptography!=1.9,!=2.0.*,!=2.1.*,!=2.2.*,<4.0.0->azureml-core~=0.1.0.36994775->azureml-train-core<0.1.1) (2.20)\n",
      "Requirement already satisfied, skipping upgrade: termcolor in /anaconda/envs/azureml_py36/lib/python3.6/site-packages (from fire->keras2onnx<=1.6.0,>=1.4.0->azureml-train-automl-runtime~=0.1.0.36994775->azureml-train-automl<0.1.1) (1.1.0)\n",
      "Requirement already satisfied, skipping upgrade: itsdangerous>=0.24 in /anaconda/envs/azureml_py36/lib/python3.6/site-packages (from flask==1.0.3->azureml-defaults~=0.1.0.36994775->azureml-train-automl-runtime~=0.1.0.36994775->azureml-train-automl<0.1.1) (2.0.1)\n",
      "Requirement already satisfied, skipping upgrade: click>=5.1 in /anaconda/envs/azureml_py36/lib/python3.6/site-packages (from flask==1.0.3->azureml-defaults~=0.1.0.36994775->azureml-train-automl-runtime~=0.1.0.36994775->azureml-train-automl<0.1.1) (8.0.3)\n",
      "Requirement already satisfied, skipping upgrade: setuptools>=3.0 in /anaconda/envs/azureml_py36/lib/python3.6/site-packages (from gunicorn==20.1.0->azureml-defaults~=0.1.0.36994775->azureml-train-automl-runtime~=0.1.0.36994775->azureml-train-automl<0.1.1) (50.3.0)\n",
      "Requirement already satisfied, skipping upgrade: liac-arff>=2.1.1 in /anaconda/envs/azureml_py36/lib/python3.6/site-packages (from azureml-model-management-sdk==1.0.1b6.post1->azureml-defaults~=0.1.0.36994775->azureml-train-automl-runtime~=0.1.0.36994775->azureml-train-automl<0.1.1) (2.5.0)\n",
      "Requirement already satisfied, skipping upgrade: shap<=0.34.0,>=0.20.0 in /anaconda/envs/azureml_py36/lib/python3.6/site-packages (from interpret-community==0.17.*->azureml-interpret~=0.1.0.36994775->azureml-train-automl-runtime~=0.1.0.36994775->azureml-train-automl<0.1.1) (0.34.0)\n",
      "Requirement already satisfied, skipping upgrade: packaging in /anaconda/envs/azureml_py36/lib/python3.6/site-packages (from interpret-community==0.17.*->azureml-interpret~=0.1.0.36994775->azureml-train-automl-runtime~=0.1.0.36994775->azureml-train-automl<0.1.1) (21.2)\n",
      "Requirement already satisfied, skipping upgrade: msal<2.0.0,>=1.3.0 in /anaconda/envs/azureml_py36/lib/python3.6/site-packages (from azure-identity<1.5.0,>=1.2.0->azureml-dataprep<2.16.0a,>=2.15.0a->azureml-dataset-runtime[fuse,pandas]~=0.1.0.36994775->azureml-train-automl<0.1.1) (1.16.0)\n",
      "Requirement already satisfied, skipping upgrade: msal-extensions~=0.2.2 in /anaconda/envs/azureml_py36/lib/python3.6/site-packages (from azure-identity<1.5.0,>=1.2.0->azureml-dataprep<2.16.0a,>=2.15.0a->azureml-dataset-runtime[fuse,pandas]~=0.1.0.36994775->azureml-train-automl<0.1.1) (0.2.2)\n",
      "Requirement already satisfied, skipping upgrade: distro>=1.2.0 in /anaconda/envs/azureml_py36/lib/python3.6/site-packages (from dotnetcore2<3.0.0,>=2.1.14->azureml-dataprep<2.16.0a,>=2.15.0a->azureml-dataset-runtime[fuse,pandas]~=0.1.0.36994775->azureml-train-automl<0.1.1) (1.6.0)\n",
      "Requirement already satisfied, skipping upgrade: tqdm>4.25.0 in /anaconda/envs/azureml_py36/lib/python3.6/site-packages (from shap<=0.34.0,>=0.20.0->interpret-community==0.17.*->azureml-interpret~=0.1.0.36994775->azureml-train-automl-runtime~=0.1.0.36994775->azureml-train-automl<0.1.1) (4.62.3)\n",
      "Requirement already satisfied, skipping upgrade: pyparsing<3,>=2.0.2 in /anaconda/envs/azureml_py36/lib/python3.6/site-packages (from packaging->interpret-community==0.17.*->azureml-interpret~=0.1.0.36994775->azureml-train-automl-runtime~=0.1.0.36994775->azureml-train-automl<0.1.1) (2.4.7)\n",
      "Requirement already satisfied, skipping upgrade: portalocker~=1.0; platform_system != \"Windows\" in /anaconda/envs/azureml_py36/lib/python3.6/site-packages (from msal-extensions~=0.2.2->azure-identity<1.5.0,>=1.2.0->azureml-dataprep<2.16.0a,>=2.15.0a->azureml-dataset-runtime[fuse,pandas]~=0.1.0.36994775->azureml-train-automl<0.1.1) (1.7.1)\n",
      "Note: you may need to restart the kernel to use updated packages.\n"
     ]
    }
   ],
   "source": [
    "%pip install --upgrade \"azureml-train-core<0.1.1\" \"azureml-train-automl<0.1.1\" \"azureml-contrib-dataset<0.1.1\"  --extra-index-url \"https://azuremlsdktestpypi.azureedge.net/automl_for_images_private_preview/\""
   ]
  },
  {
   "cell_type": "markdown",
   "metadata": {},
   "source": [
    "### Licensing Information - \n",
    "This preview software is made available to you on the condition that you agree to\n",
    "[your agreement][1] governing your use of Azure, and to the Supplemental Terms of Use for Microsoft Azure Previews[2], which supplement your agreement governing your use of Azure.\n",
    "If you do not have an existing agreement governing your use of Azure, you agree that \n",
    "your agreement governing use of Azure is the [Microsoft Online Subscription Agreement][3]\n",
    "(which incorporates the [Online Services Terms][4]).\n",
    "By using the software you agree to these terms. This software may collect data\n",
    "that is transmitted to Microsoft. Please see the [Microsoft Privacy Statement][5]\n",
    "to learn more about how Microsoft processes personal data.\n",
    "\n",
    "[1]: https://azure.microsoft.com/en-us/support/legal/\n",
    "[2]: https://azure.microsoft.com/en-us/support/legal/preview-supplemental-terms/\n",
    "[3]: https://azure.microsoft.com/en-us/support/legal/subscription-agreement/\n",
    "[4]: http://www.microsoftvolumelicensing.com/DocumentSearch.aspx?Mode=3&DocumentTypeId=46\n",
    "[5]: http://go.microsoft.com/fwlink/?LinkId=248681 \n"
   ]
  },
  {
   "cell_type": "markdown",
   "metadata": {},
   "source": [
    "## Workspace setup\n",
    "In order to train and deploy models in Azure ML, you will first need to set up a workspace.\n",
    "\n",
    "An [Azure ML Workspace](https://docs.microsoft.com/en-us/azure/machine-learning/concept-azure-machine-learning-architecture#workspace) is an Azure resource that organizes and coordinates the actions of many other Azure resources to assist in executing and sharing machine learning workflows. In particular, an Azure ML Workspace coordinates storage, databases, and compute resources providing added functionality for machine learning experimentation, deployment, inference, and the monitoring of deployed models.\n",
    "\n",
    "Create an Azure ML Workspace within your Azure subscription, or load an existing workspace."
   ]
  },
  {
   "cell_type": "code",
   "execution_count": 50,
   "metadata": {},
   "outputs": [],
   "source": [
    "from azureml.core.workspace import Workspace"
   ]
  },
  {
   "cell_type": "code",
   "execution_count": 51,
   "metadata": {
    "gather": {
     "logged": 1617264529681
    }
   },
   "outputs": [
    {
     "data": {
      "text/plain": [
       "{'id': '/subscriptions/83da1f6b-22c0-4300-aa13-bd260eab57e5/resourceGroups/amldatalabeling/providers/Microsoft.MachineLearningServices/workspaces/Computer_Vision_Pipeline',\n",
       " 'name': 'Computer_Vision_Pipeline',\n",
       " 'identity': {'principal_id': '91200a66-f1b4-4077-860a-4d115e873bc5',\n",
       "  'tenant_id': '72f988bf-86f1-41af-91ab-2d7cd011db47',\n",
       "  'type': 'SystemAssigned'},\n",
       " 'location': 'eastus',\n",
       " 'type': 'Microsoft.MachineLearningServices/workspaces',\n",
       " 'tags': {},\n",
       " 'sku': 'Basic',\n",
       " 'workspaceid': 'd869dd80-1333-484d-99ae-5869dc1b041a',\n",
       " 'sdkTelemetryAppInsightsKey': 'f5784ccd-178d-4ecc-9998-b05841b44ae9',\n",
       " 'description': '',\n",
       " 'friendlyName': 'Computer_Vision_Pipeline',\n",
       " 'creationTime': '2021-05-17T20:54:23.0413693+00:00',\n",
       " 'containerRegistry': '/subscriptions/83da1f6b-22c0-4300-aa13-bd260eab57e5/resourceGroups/amldatalabeling/providers/Microsoft.ContainerRegistry/registries/d869dd801333484d99ae5869dc1b041a',\n",
       " 'keyVault': '/subscriptions/83da1f6b-22c0-4300-aa13-bd260eab57e5/resourcegroups/amldatalabeling/providers/microsoft.keyvault/vaults/computervision9754617571',\n",
       " 'applicationInsights': '/subscriptions/83da1f6b-22c0-4300-aa13-bd260eab57e5/resourcegroups/amldatalabeling/providers/microsoft.insights/components/computervision0692631043',\n",
       " 'storageAccount': '/subscriptions/83da1f6b-22c0-4300-aa13-bd260eab57e5/resourcegroups/amldatalabeling/providers/microsoft.storage/storageaccounts/computervision5249774111',\n",
       " 'hbiWorkspace': False,\n",
       " 'allowPublicAccessWhenBehindVnet': False,\n",
       " 'provisioningState': 'Succeeded',\n",
       " 'imageBuildCompute': '',\n",
       " 'discoveryUrl': 'https://eastus.api.azureml.ms/discovery',\n",
       " 'notebookInfo': {'fqdn': 'ml-computervisionpi-eastus-d869dd80-1333-484d-99ae-5869dc1b041a.notebooks.azure.net',\n",
       "  'resource_id': '8e585ea2a73c4154a284b9d7ee472237'}}"
      ]
     },
     "execution_count": 51,
     "metadata": {},
     "output_type": "execute_result"
    }
   ],
   "source": [
    "ws = Workspace.from_config()\n",
    "ws.get_details()\n",
    "\n",
    "## specify workspace parameters\n",
    "#subscription_id=''   \n",
    "#resource_group='amldatalabeling'   \n",
    "#workspace_name='Computer_Vision_Pipeline'\n",
    "\n",
    "#from azureml.core.workspace import Workspace\n",
    "#ws = Workspace.create(name=workspace_name,\n",
    "#                      subscription_id=subscription_id,\n",
    "#                      resource_group=resource_group, \n",
    "#                      exist_ok=True)"
   ]
  },
  {
   "cell_type": "markdown",
   "metadata": {},
   "source": [
    "## Compute target setup\n",
    "You will need to provide a [Compute Target](https://docs.microsoft.com/azure/machine-learning/service/concept-azure-machine-learning-architecture#compute-target) that will be used for your AutoML model training. AutoML models for image tasks require GPU SKUs and support NC and ND families. We recommend using the NCsv3-series (with v100 GPUs) for faster training. Using a compute target with a multi-GPU VM SKU will leverage the multiple GPUs to speed up training. Additionally, setting up a compute target with multiple nodes will allow for faster model training by leveraging parallelism, when tuning hyperparameters for your model."
   ]
  },
  {
   "cell_type": "code",
   "execution_count": 52,
   "metadata": {
    "gather": {
     "logged": 1617264539968
    }
   },
   "outputs": [
    {
     "name": "stdout",
     "output_type": "stream",
     "text": [
      "Found existing compute target.\n",
      "Succeeded\n",
      "AmlCompute wait for completion finished\n",
      "\n",
      "Minimum number of nodes requested have been provisioned\n"
     ]
    }
   ],
   "source": [
    "from azureml.core.compute import AmlCompute, ComputeTarget\n",
    "\n",
    "cluster_name = \"gpu-cluster-nc6\"\n",
    "\n",
    "try:\n",
    "    compute_target = ws.compute_targets[cluster_name]\n",
    "    print('Found existing compute target.')\n",
    "except KeyError:\n",
    "    print('Creating a new compute target...')\n",
    "    compute_config = AmlCompute.provisioning_configuration(vm_size='Standard_NC6', \n",
    "                                                           idle_seconds_before_scaledown=1800,\n",
    "                                                           min_nodes=0, \n",
    "                                                           max_nodes=4)\n",
    "\n",
    "    compute_target = ComputeTarget.create(ws, cluster_name, compute_config)\n",
    "    \n",
    "# Can poll for a minimum number of nodes and for a specific timeout.\n",
    "# If no min_node_count is provided, it will use the scale settings for the cluster.\n",
    "compute_target.wait_for_completion(show_output=True, min_node_count=None, timeout_in_minutes=20)"
   ]
  },
  {
   "cell_type": "markdown",
   "metadata": {},
   "source": [
    "## Experiment Setup\n",
    "Create an [Experiment](https://docs.microsoft.com/azure/machine-learning/service/concept-azure-machine-learning-architecture#experiment) in your workspace to track your model training runs"
   ]
  },
  {
   "cell_type": "code",
   "execution_count": 53,
   "metadata": {},
   "outputs": [],
   "source": [
    "from azureml.core import Experiment\n",
    "\n",
    "experiment_name = 'automl-image-object-detection_soda' \n",
    "experiment = Experiment(ws, name=experiment_name)"
   ]
  },
  {
   "cell_type": "markdown",
   "metadata": {},
   "source": [
    "## Dataset with input Training Data\n",
    "In order to generate models for computer vision, you will need to bring in labeled image data as input for model training in the form of an AzureML Labeled Dataset. You can either use a Labeled Dataset that you have exported from a Data Labeling project, or create a new Labeled Dataset with your labeled training data"
   ]
  },
  {
   "cell_type": "markdown",
   "metadata": {},
   "source": [
    "### Convert annotation file from COCO to JSONL\n",
    "If you want to try with a dataset in COCO format, the scripts below shows how to convert it to `jsonl` format. The file \"odFridgeObjects_coco.json\" consists of annotation infomation for the `odFridgeObjects` dataset."
   ]
  },
  {
   "cell_type": "code",
   "execution_count": 54,
   "metadata": {},
   "outputs": [
    {
     "name": "stdout",
     "output_type": "stream",
     "text": [
      "Converting for ObjectDetection\n",
      "Conversion completed. Converted 241 lines.\n"
     ]
    }
   ],
   "source": [
    "!python coco2jsonl.py --input_coco_file_path \"./soda.json\" --output_dir \"./sodaObjects\" --output_file_name \"sodaObjects_from_coco.jsonl\"  --task_type \"ObjectDetection\"  --base_url \"AmlDatastore://workspaceblobstore/sodaObjects/images/\""
   ]
  },
  {
   "cell_type": "markdown",
   "metadata": {},
   "source": [
    "### Upload the JSONL file and images to Datastore  \n",
    "In order to use the data for training in Azure ML, we upload it to our Azure ML Workspace via a [Datastore](https://docs.microsoft.com/en-us/azure/machine-learning/concept-azure-machine-learning-architecture#datasets-and-datastores). The datastore provides a mechanism for you to upload/download data, and interact with it from your remote compute targets. It is an abstraction over Azure Storage.\n",
    "\n"
   ]
  },
  {
   "cell_type": "code",
   "execution_count": 55,
   "metadata": {},
   "outputs": [
    {
     "name": "stdout",
     "output_type": "stream",
     "text": [
      "Uploading an estimated of 1 files\n",
      "Target already exists. Skipping upload for sodaObjects/sodaObjects_from_coco.jsonl\n",
      "Uploaded 0 files\n"
     ]
    },
    {
     "data": {
      "text/plain": [
       "$AZUREML_DATAREFERENCE_3e8ae2868b3346cc8761e4334511fdd0"
      ]
     },
     "execution_count": 55,
     "metadata": {},
     "output_type": "execute_result"
    }
   ],
   "source": [
    "# Retrieving default datastore that got automatically created when we setup a workspace\n",
    "ds = ws.get_default_datastore()\n",
    "ds.upload(src_dir='./sodaObjects', target_path='sodaObjects')"
   ]
  },
  {
   "cell_type": "markdown",
   "metadata": {},
   "source": [
    "Finally, we need to create an Azure ML [Dataset](https://docs.microsoft.com/en-us/azure/machine-learning/concept-azure-machine-learning-architecture#datasets-and-datastores) from the data we uploaded to the Datastore. We create one dataset for training and one for validation."
   ]
  },
  {
   "cell_type": "code",
   "execution_count": 56,
   "metadata": {},
   "outputs": [
    {
     "name": "stdout",
     "output_type": "stream",
     "text": [
      "Found the training dataset sodaObjects\n"
     ]
    }
   ],
   "source": [
    "from azureml.contrib.dataset.labeled_dataset import _LabeledDatasetFactory, LabeledDatasetTask\n",
    "from azureml.core import Dataset\n",
    "\n",
    "training_dataset_name = 'sodaObjects'\n",
    "if training_dataset_name in ws.datasets:\n",
    "    training_dataset = ws.datasets.get(training_dataset_name)\n",
    "    print('Found the training dataset', training_dataset_name)\n",
    "else:\n",
    "    # create training dataset\n",
    "    training_dataset = _LabeledDatasetFactory.from_json_lines(\n",
    "        #task=LabeledDatasetTask.OBJECT_DETECTION, path=ds.path('appleObjects/train_annotations.jsonl'))\n",
    "         task=LabeledDatasetTask.OBJECT_DETECTION, path=ds.path('sodaObjects/sodaObjects_from_coco.jsonl'))\n",
    "    training_dataset = training_dataset.register(workspace=ws, name=training_dataset_name)\n",
    "    \n",
    "# create validation dataset\n",
    "#validation_dataset_name = \"appleObjectsValidationDataset\"\n",
    "#if validation_dataset_name in ws.datasets:\n",
    "#    validation_dataset = ws.datasets.get(validation_dataset_name)\n",
    "#    print('Found the validation dataset', validation_dataset_name)\n",
    "#else:\n",
    "#    validation_dataset = _LabeledDatasetFactory.from_json_lines(\n",
    "#       task=LabeledDatasetTask.OBJECT_DETECTION, path=ds.path('appleObjects/validation_annotations.jsonl'))\n",
    "#    validation_dataset = validation_dataset.register(workspace=ws, name=validation_dataset_name)\n",
    "    \n",
    "    \n",
    "#print(\"Training dataset name: \" + training_dataset.name)\n",
    "#print(\"Validation dataset name: \" + validation_dataset.name)"
   ]
  },
  {
   "cell_type": "markdown",
   "metadata": {},
   "source": [
    "Validation dataset is optional. If no validation dataset is specified, by default 20% of your training data will be used for validation. You can control the percentage using the `split_ratio` argument - please refer to the documentation for more details.   \n",
    "\n",
    "This is what the training dataset looks like"
   ]
  },
  {
   "cell_type": "markdown",
   "metadata": {},
   "source": [
    "# View Training Set"
   ]
  },
  {
   "cell_type": "code",
   "execution_count": 57,
   "metadata": {},
   "outputs": [
    {
     "data": {
      "text/html": [
       "<div>\n",
       "<style scoped>\n",
       "    .dataframe tbody tr th:only-of-type {\n",
       "        vertical-align: middle;\n",
       "    }\n",
       "\n",
       "    .dataframe tbody tr th {\n",
       "        vertical-align: top;\n",
       "    }\n",
       "\n",
       "    .dataframe thead th {\n",
       "        text-align: right;\n",
       "    }\n",
       "</style>\n",
       "<table border=\"1\" class=\"dataframe\">\n",
       "  <thead>\n",
       "    <tr style=\"text-align: right;\">\n",
       "      <th></th>\n",
       "      <th>image_url</th>\n",
       "      <th>image_details</th>\n",
       "      <th>label</th>\n",
       "    </tr>\n",
       "  </thead>\n",
       "  <tbody>\n",
       "    <tr>\n",
       "      <th>0</th>\n",
       "      <td>StreamInfo(AmlDatastore://sodaObjects/images/e...</td>\n",
       "      <td>{'format': 'jpg', 'width': 816.0, 'height': 61...</td>\n",
       "      <td>[{'label': 'sprite', 'topX': 0.153960129310344...</td>\n",
       "    </tr>\n",
       "    <tr>\n",
       "      <th>1</th>\n",
       "      <td>StreamInfo(AmlDatastore://sodaObjects/images/8...</td>\n",
       "      <td>{'format': 'jpg', 'width': 816.0, 'height': 61...</td>\n",
       "      <td>[{'label': 'sprite', 'topX': 0.185364070197044...</td>\n",
       "    </tr>\n",
       "    <tr>\n",
       "      <th>2</th>\n",
       "      <td>StreamInfo(AmlDatastore://sodaObjects/images/a...</td>\n",
       "      <td>{'format': 'jpg', 'width': 816.0, 'height': 61...</td>\n",
       "      <td>[{'label': 'sprite', 'topX': 0.221694119458128...</td>\n",
       "    </tr>\n",
       "    <tr>\n",
       "      <th>3</th>\n",
       "      <td>StreamInfo(AmlDatastore://sodaObjects/images/b...</td>\n",
       "      <td>{'format': 'jpg', 'width': 816.0, 'height': 61...</td>\n",
       "      <td>[{'label': 'coke', 'topX': 0.3115955972906404,...</td>\n",
       "    </tr>\n",
       "    <tr>\n",
       "      <th>4</th>\n",
       "      <td>StreamInfo(AmlDatastore://sodaObjects/images/0...</td>\n",
       "      <td>{'format': 'jpg', 'width': 816.0, 'height': 61...</td>\n",
       "      <td>[{'label': 'diet_coke', 'topX': 0.317753232758...</td>\n",
       "    </tr>\n",
       "    <tr>\n",
       "      <th>...</th>\n",
       "      <td>...</td>\n",
       "      <td>...</td>\n",
       "      <td>...</td>\n",
       "    </tr>\n",
       "    <tr>\n",
       "      <th>160</th>\n",
       "      <td>StreamInfo(AmlDatastore://sodaObjects/images/6...</td>\n",
       "      <td>{'format': 'jpg', 'width': 816.0, 'height': 61...</td>\n",
       "      <td>[{'label': 'sprite', 'topX': 0.033886237684729...</td>\n",
       "    </tr>\n",
       "    <tr>\n",
       "      <th>161</th>\n",
       "      <td>StreamInfo(AmlDatastore://sodaObjects/images/2...</td>\n",
       "      <td>{'format': 'jpg', 'width': 816.0, 'height': 61...</td>\n",
       "      <td>[{'label': 'sprite', 'topX': 0.205068503694581...</td>\n",
       "    </tr>\n",
       "    <tr>\n",
       "      <th>162</th>\n",
       "      <td>StreamInfo(AmlDatastore://sodaObjects/images/d...</td>\n",
       "      <td>{'format': 'jpg', 'width': 816.0, 'height': 61...</td>\n",
       "      <td>[{'label': 'coke', 'topX': 0.22785175492610837...</td>\n",
       "    </tr>\n",
       "    <tr>\n",
       "      <th>163</th>\n",
       "      <td>StreamInfo(AmlDatastore://sodaObjects/images/a...</td>\n",
       "      <td>{'format': 'jpg', 'width': 816.0, 'height': 61...</td>\n",
       "      <td>[{'label': 'diet_coke', 'topX': 0.200142395320...</td>\n",
       "    </tr>\n",
       "    <tr>\n",
       "      <th>164</th>\n",
       "      <td>StreamInfo(AmlDatastore://sodaObjects/images/0...</td>\n",
       "      <td>{'format': 'jpg', 'width': 816.0, 'height': 61...</td>\n",
       "      <td>[{'label': 'diet_coke', 'topX': 0.326989685960...</td>\n",
       "    </tr>\n",
       "  </tbody>\n",
       "</table>\n",
       "<p>165 rows × 3 columns</p>\n",
       "</div>"
      ],
      "text/plain": [
       "                                             image_url  \\\n",
       "0    StreamInfo(AmlDatastore://sodaObjects/images/e...   \n",
       "1    StreamInfo(AmlDatastore://sodaObjects/images/8...   \n",
       "2    StreamInfo(AmlDatastore://sodaObjects/images/a...   \n",
       "3    StreamInfo(AmlDatastore://sodaObjects/images/b...   \n",
       "4    StreamInfo(AmlDatastore://sodaObjects/images/0...   \n",
       "..                                                 ...   \n",
       "160  StreamInfo(AmlDatastore://sodaObjects/images/6...   \n",
       "161  StreamInfo(AmlDatastore://sodaObjects/images/2...   \n",
       "162  StreamInfo(AmlDatastore://sodaObjects/images/d...   \n",
       "163  StreamInfo(AmlDatastore://sodaObjects/images/a...   \n",
       "164  StreamInfo(AmlDatastore://sodaObjects/images/0...   \n",
       "\n",
       "                                         image_details  \\\n",
       "0    {'format': 'jpg', 'width': 816.0, 'height': 61...   \n",
       "1    {'format': 'jpg', 'width': 816.0, 'height': 61...   \n",
       "2    {'format': 'jpg', 'width': 816.0, 'height': 61...   \n",
       "3    {'format': 'jpg', 'width': 816.0, 'height': 61...   \n",
       "4    {'format': 'jpg', 'width': 816.0, 'height': 61...   \n",
       "..                                                 ...   \n",
       "160  {'format': 'jpg', 'width': 816.0, 'height': 61...   \n",
       "161  {'format': 'jpg', 'width': 816.0, 'height': 61...   \n",
       "162  {'format': 'jpg', 'width': 816.0, 'height': 61...   \n",
       "163  {'format': 'jpg', 'width': 816.0, 'height': 61...   \n",
       "164  {'format': 'jpg', 'width': 816.0, 'height': 61...   \n",
       "\n",
       "                                                 label  \n",
       "0    [{'label': 'sprite', 'topX': 0.153960129310344...  \n",
       "1    [{'label': 'sprite', 'topX': 0.185364070197044...  \n",
       "2    [{'label': 'sprite', 'topX': 0.221694119458128...  \n",
       "3    [{'label': 'coke', 'topX': 0.3115955972906404,...  \n",
       "4    [{'label': 'diet_coke', 'topX': 0.317753232758...  \n",
       "..                                                 ...  \n",
       "160  [{'label': 'sprite', 'topX': 0.033886237684729...  \n",
       "161  [{'label': 'sprite', 'topX': 0.205068503694581...  \n",
       "162  [{'label': 'coke', 'topX': 0.22785175492610837...  \n",
       "163  [{'label': 'diet_coke', 'topX': 0.200142395320...  \n",
       "164  [{'label': 'diet_coke', 'topX': 0.326989685960...  \n",
       "\n",
       "[165 rows x 3 columns]"
      ]
     },
     "execution_count": 57,
     "metadata": {},
     "output_type": "execute_result"
    }
   ],
   "source": [
    "import pandas as pd\n",
    "training_dataset.to_pandas_dataframe()"
   ]
  },
  {
   "cell_type": "markdown",
   "metadata": {},
   "source": [
    "## Configuring your AutoML run for image tasks\n",
    "AutoML allows you to easily train models for Image Classification, Object Detection & Instance Segmentation on your image data. You can control the model algorithm to be used, specify hyperparameter values for your model as well as perform a sweep across the hyperparameter space to generate an optimal model. Parameters for configuring your AutoML runs for image related tasks are specified using the `AutoMLImageConfig` - please refer to the [documentation](https://github.com/swatig007/automlForImages/blob/main/README.md) for the details on the parameters that can be used and their values."
   ]
  },
  {
   "cell_type": "markdown",
   "metadata": {},
   "source": [
    "When using AutoML for image tasks, you need to specify the model algorithms using the `model_name` parameter. You can either specify a single model or choose to sweep over multiple ones. \n",
    "Currently supported model algorithms for object detection:`yolov5`, `fasterrcnn_resnet50_fpn`, `fasterrcnn_resnet34_fpn`, `fasterrcnn_resnet18_fpn`, `retinanet_resnet50_fpn`."
   ]
  },
  {
   "cell_type": "markdown",
   "metadata": {},
   "source": [
    "### Using default hyperparameter values for the specified algorithm\n",
    "Before doing a large sweep to search for the optimal models and hyperparameters, we recommend trying the default values to get a first baseline. Next, you can explore multiple hyperparameters for the same model before sweeping over multiple models and their parameters. This is for employing a more iterative approach, because with multiple models and multiple hyperparameters for each (as we showcase in the next section), the search space grows exponentially and you need more iterations to find optimal configurations.\n",
    "\n",
    "If you wish to use the default hyperparameter values for a given algorithm (say `yolov5`), you can specify the config for your AutoML Image runs as follows:"
   ]
  },
  {
   "cell_type": "code",
   "execution_count": 58,
   "metadata": {},
   "outputs": [],
   "source": [
    "from azureml.train.automl import AutoMLImageConfig\n",
    "from azureml.train.hyperdrive import GridParameterSampling, choice\n",
    "\n",
    "image_config_yolov5 = AutoMLImageConfig(task='image-object-detection',\n",
    "                                        compute_target=compute_target,\n",
    "                                        training_data=training_dataset,\n",
    "                                        #validation_data=validation_dataset,\n",
    "                                        hyperparameter_sampling=GridParameterSampling({'model_name': choice('yolov5')}))"
   ]
  },
  {
   "cell_type": "markdown",
   "metadata": {},
   "source": [
    "### Submitting an AutoML run for Image tasks \n",
    "Once you've created the config settings for your run, you can submit an AutoML run using the config in order to train an image model using your training dataset."
   ]
  },
  {
   "cell_type": "code",
   "execution_count": 59,
   "metadata": {},
   "outputs": [
    {
     "name": "stdout",
     "output_type": "stream",
     "text": [
      "Submitting remote run.\n"
     ]
    },
    {
     "data": {
      "text/html": [
       "<table style=\"width:100%\"><tr><th>Experiment</th><th>Id</th><th>Type</th><th>Status</th><th>Details Page</th><th>Docs Page</th></tr><tr><td>automl-image-object-detection_soda</td><td>AutoML_f546f754-3c46-4492-922b-7c9e53b9aa33</td><td>automl</td><td>NotStarted</td><td><a href=\"https://ml.azure.com/runs/AutoML_f546f754-3c46-4492-922b-7c9e53b9aa33?wsid=/subscriptions/83da1f6b-22c0-4300-aa13-bd260eab57e5/resourcegroups/amldatalabeling/workspaces/Computer_Vision_Pipeline&amp;tid=72f988bf-86f1-41af-91ab-2d7cd011db47\" target=\"_blank\" rel=\"noopener\">Link to Azure Machine Learning studio</a></td><td><a href=\"https://docs.microsoft.com/en-us/python/api/overview/azure/ml/intro?view=azure-ml-py\" target=\"_blank\" rel=\"noopener\">Link to Documentation</a></td></tr></table>"
      ],
      "text/plain": [
       "<IPython.core.display.HTML object>"
      ]
     },
     "metadata": {},
     "output_type": "display_data"
    }
   ],
   "source": [
    "automl_image_run = experiment.submit(image_config_yolov5)"
   ]
  },
  {
   "cell_type": "markdown",
   "metadata": {},
   "source": [
    "## Register the optimal model from the AutoML run\n",
    "Once the run completes, we can register the model that was created from the best run (configuration that resulted in the best primary metric)"
   ]
  },
  {
   "cell_type": "code",
   "execution_count": 66,
   "metadata": {},
   "outputs": [],
   "source": [
    "# Register the model from the best run\n",
    "\n",
    "best_child_run = automl_image_run.get_best_child()\n",
    "model_name = best_child_run.properties['model_name']\n",
    "model = best_child_run.register_model(model_name = model_name, model_path='train_artifacts/model.onnx')"
   ]
  },
  {
   "cell_type": "markdown",
   "metadata": {},
   "source": [
    "## Download the model and other associated files e.g. labels"
   ]
  },
  {
   "cell_type": "code",
   "execution_count": 72,
   "metadata": {},
   "outputs": [],
   "source": [
    "#https://github.com/MicrosoftDocs/azure-docs/blob/master/articles/machine-learning/how-to-inference-onnx-automl-image-models.md\n",
    "# Create a model folder in the current directory\n",
    "os.makedirs('./model', exist_ok=True)\n",
    "\n",
    "\n",
    "# Download the model from run history\n",
    "best_child_run.download_file(name='train_artifacts/model.onnx',\n",
    "output_file_path='./model/model.onnx')\n",
    "\n",
    "best_child_run.download_file(name='train_artifacts/labels.json',\n",
    "output_file_path='./model/labels.json')\n"
   ]
  }
 ],
 "metadata": {
  "kernelspec": {
   "display_name": "Python 3.6 - AzureML",
   "language": "python",
   "name": "python3-azureml"
  },
  "language_info": {
   "codemirror_mode": {
    "name": "ipython",
    "version": 3
   },
   "file_extension": ".py",
   "mimetype": "text/x-python",
   "name": "python",
   "nbconvert_exporter": "python",
   "pygments_lexer": "ipython3",
   "version": "3.6.9"
  },
  "nteract": {
   "version": "nteract-front-end@1.0.0"
  }
 },
 "nbformat": 4,
 "nbformat_minor": 2
}
