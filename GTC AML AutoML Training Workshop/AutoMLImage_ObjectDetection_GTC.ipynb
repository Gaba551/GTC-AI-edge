{
 "cells": [
  {
   "cell_type": "markdown",
   "metadata": {},
   "source": [
    "Copyright (c) Microsoft Corporation. All rights reserved.\n",
    "\n",
    "Licensed under the MIT License.\n",
    "\n",
    "# Training an Object Detection model using AutoML\n",
    "In this notebook, we go over how you can use AutoML for training an Object Detection model. We will use a small dataset to train the model, demonstrate how you can tune hyperparameters of the model to optimize model performance and deploy the model to use in inference scenarios. For detailed information please refer to the [documentation of AutoML for Images](https://docs.microsoft.com/en-us/azure/machine-learning/how-to-auto-train-image-models)."
   ]
  },
  {
   "cell_type": "markdown",
   "metadata": {},
   "source": [
    "![img](example_object_detection_predictions.jpg)"
   ]
  },
  {
   "cell_type": "markdown",
   "metadata": {},
   "source": [
    "**Important:** This feature is currently in public preview. This preview version is provided without a service-level agreement. Certain features might not be supported or might have constrained capabilities. For more information, see [Supplemental Terms of Use for Microsoft Azure Previews](https://azure.microsoft.com/en-us/support/legal/preview-supplemental-terms/)."
   ]
  },
  {
   "cell_type": "markdown",
   "metadata": {},
   "source": [
    "## Environment Setup\n",
    "Please follow the [\"Setup a new conda environment\"](https://github.com/Azure/azureml-examples/tree/main/python-sdk/tutorials/automl-with-azureml#3-setup-a-new-conda-environment) instructions to get started."
   ]
  },
  {
   "cell_type": "code",
   "execution_count": 15,
   "metadata": {},
   "outputs": [
    {
     "name": "stdout",
     "output_type": "stream",
     "text": [
      "Requirement already up-to-date: azureml-sdk in /anaconda/envs/azureml_py36/lib/python3.6/site-packages (1.39.0)\n",
      "Requirement already satisfied, skipping upgrade: azureml-core~=1.39.0 in /anaconda/envs/azureml_py36/lib/python3.6/site-packages (from azureml-sdk) (1.39.0)\n",
      "Requirement already satisfied, skipping upgrade: azureml-pipeline~=1.39.0 in /anaconda/envs/azureml_py36/lib/python3.6/site-packages (from azureml-sdk) (1.39.0)\n",
      "Requirement already satisfied, skipping upgrade: azureml-train-automl-client~=1.39.0 in /anaconda/envs/azureml_py36/lib/python3.6/site-packages (from azureml-sdk) (1.39.0)\n",
      "Requirement already satisfied, skipping upgrade: azureml-dataset-runtime[fuse]~=1.39.0 in /anaconda/envs/azureml_py36/lib/python3.6/site-packages (from azureml-sdk) (1.39.0)\n",
      "Requirement already satisfied, skipping upgrade: azureml-train-core~=1.39.0 in /anaconda/envs/azureml_py36/lib/python3.6/site-packages (from azureml-sdk) (1.39.0)\n",
      "Requirement already satisfied, skipping upgrade: msal<2.0.0,>=1.15.0 in /anaconda/envs/azureml_py36/lib/python3.6/site-packages (from azureml-core~=1.39.0->azureml-sdk) (1.16.0)\n",
      "Requirement already satisfied, skipping upgrade: humanfriendly<11.0,>=4.7 in /anaconda/envs/azureml_py36/lib/python3.6/site-packages (from azureml-core~=1.39.0->azureml-sdk) (10.0)\n",
      "Requirement already satisfied, skipping upgrade: cryptography!=1.9,!=2.0.*,!=2.1.*,!=2.2.*,<37.0.0 in /anaconda/envs/azureml_py36/lib/python3.6/site-packages (from azureml-core~=1.39.0->azureml-sdk) (36.0.1)\n",
      "Requirement already satisfied, skipping upgrade: backports.tempfile in /anaconda/envs/azureml_py36/lib/python3.6/site-packages (from azureml-core~=1.39.0->azureml-sdk) (1.0)\n",
      "Requirement already satisfied, skipping upgrade: SecretStorage<4.0.0 in /anaconda/envs/azureml_py36/lib/python3.6/site-packages (from azureml-core~=1.39.0->azureml-sdk) (3.3.1)\n",
      "Requirement already satisfied, skipping upgrade: azure-mgmt-keyvault<10.0.0,>=0.40.0 in /anaconda/envs/azureml_py36/lib/python3.6/site-packages (from azureml-core~=1.39.0->azureml-sdk) (9.3.0)\n",
      "Requirement already satisfied, skipping upgrade: azure-mgmt-authorization<1.0.0,>=0.40.0 in /anaconda/envs/azureml_py36/lib/python3.6/site-packages (from azureml-core~=1.39.0->azureml-sdk) (0.61.0)\n",
      "Requirement already satisfied, skipping upgrade: azure-mgmt-storage<20.0.0,>=16.0.0 in /anaconda/envs/azureml_py36/lib/python3.6/site-packages (from azureml-core~=1.39.0->azureml-sdk) (19.0.0)\n",
      "Requirement already satisfied, skipping upgrade: docker<6.0.0 in /anaconda/envs/azureml_py36/lib/python3.6/site-packages (from azureml-core~=1.39.0->azureml-sdk) (5.0.3)\n",
      "Requirement already satisfied, skipping upgrade: pytz in /anaconda/envs/azureml_py36/lib/python3.6/site-packages (from azureml-core~=1.39.0->azureml-sdk) (2021.3)\n",
      "Requirement already satisfied, skipping upgrade: python-dateutil<3.0.0,>=2.7.3 in /anaconda/envs/azureml_py36/lib/python3.6/site-packages (from azureml-core~=1.39.0->azureml-sdk) (2.8.2)\n",
      "Requirement already satisfied, skipping upgrade: pkginfo in /anaconda/envs/azureml_py36/lib/python3.6/site-packages (from azureml-core~=1.39.0->azureml-sdk) (1.8.2)\n",
      "Requirement already satisfied, skipping upgrade: jsonpickle<3.0.0 in /anaconda/envs/azureml_py36/lib/python3.6/site-packages (from azureml-core~=1.39.0->azureml-sdk) (2.1.0)\n",
      "Requirement already satisfied, skipping upgrade: argcomplete<2.0 in /anaconda/envs/azureml_py36/lib/python3.6/site-packages (from azureml-core~=1.39.0->azureml-sdk) (1.12.3)\n",
      "Requirement already satisfied, skipping upgrade: adal<=1.2.7,>=1.2.0 in /anaconda/envs/azureml_py36/lib/python3.6/site-packages (from azureml-core~=1.39.0->azureml-sdk) (1.2.7)\n",
      "Requirement already satisfied, skipping upgrade: azure-mgmt-containerregistry<9.0.0,>=8.2.0 in /anaconda/envs/azureml_py36/lib/python3.6/site-packages (from azureml-core~=1.39.0->azureml-sdk) (8.2.0)\n",
      "Requirement already satisfied, skipping upgrade: azure-mgmt-resource<21.0.0,>=15.0.0 in /anaconda/envs/azureml_py36/lib/python3.6/site-packages (from azureml-core~=1.39.0->azureml-sdk) (20.0.0)\n",
      "Requirement already satisfied, skipping upgrade: azure-common<2.0.0,>=1.1.12 in /anaconda/envs/azureml_py36/lib/python3.6/site-packages (from azureml-core~=1.39.0->azureml-sdk) (1.1.27)\n",
      "Requirement already satisfied, skipping upgrade: knack~=0.9.0 in /anaconda/envs/azureml_py36/lib/python3.6/site-packages (from azureml-core~=1.39.0->azureml-sdk) (0.9.0)\n",
      "Requirement already satisfied, skipping upgrade: urllib3<=1.26.7,>=1.23 in /anaconda/envs/azureml_py36/lib/python3.6/site-packages (from azureml-core~=1.39.0->azureml-sdk) (1.26.7)\n",
      "Requirement already satisfied, skipping upgrade: azure-graphrbac<1.0.0,>=0.40.0 in /anaconda/envs/azureml_py36/lib/python3.6/site-packages (from azureml-core~=1.39.0->azureml-sdk) (0.61.1)\n",
      "Requirement already satisfied, skipping upgrade: packaging<22.0,>=20.0 in /anaconda/envs/azureml_py36/lib/python3.6/site-packages (from azureml-core~=1.39.0->azureml-sdk) (21.3)\n",
      "Requirement already satisfied, skipping upgrade: contextlib2<22.0.0 in /anaconda/envs/azureml_py36/lib/python3.6/site-packages (from azureml-core~=1.39.0->azureml-sdk) (21.6.0)\n",
      "Requirement already satisfied, skipping upgrade: paramiko<3.0.0,>=2.0.8 in /anaconda/envs/azureml_py36/lib/python3.6/site-packages (from azureml-core~=1.39.0->azureml-sdk) (2.9.2)\n",
      "Requirement already satisfied, skipping upgrade: msrestazure<=0.6.4,>=0.4.33 in /anaconda/envs/azureml_py36/lib/python3.6/site-packages (from azureml-core~=1.39.0->azureml-sdk) (0.6.4)\n",
      "Requirement already satisfied, skipping upgrade: PyJWT<3.0.0 in /anaconda/envs/azureml_py36/lib/python3.6/site-packages (from azureml-core~=1.39.0->azureml-sdk) (2.3.0)\n",
      "Requirement already satisfied, skipping upgrade: requests[socks]<3.0.0,>=2.19.1 in /anaconda/envs/azureml_py36/lib/python3.6/site-packages (from azureml-core~=1.39.0->azureml-sdk) (2.27.1)\n",
      "Requirement already satisfied, skipping upgrade: pathspec<1.0.0 in /anaconda/envs/azureml_py36/lib/python3.6/site-packages (from azureml-core~=1.39.0->azureml-sdk) (0.9.0)\n",
      "Requirement already satisfied, skipping upgrade: msal-extensions<0.4,>=0.3.0 in /anaconda/envs/azureml_py36/lib/python3.6/site-packages (from azureml-core~=1.39.0->azureml-sdk) (0.3.1)\n",
      "Requirement already satisfied, skipping upgrade: ndg-httpsclient<=0.5.1 in /anaconda/envs/azureml_py36/lib/python3.6/site-packages (from azureml-core~=1.39.0->azureml-sdk) (0.5.1)\n",
      "Requirement already satisfied, skipping upgrade: pyopenssl<22.0.0 in /anaconda/envs/azureml_py36/lib/python3.6/site-packages (from azureml-core~=1.39.0->azureml-sdk) (21.0.0)\n",
      "Requirement already satisfied, skipping upgrade: jmespath<1.0.0 in /anaconda/envs/azureml_py36/lib/python3.6/site-packages (from azureml-core~=1.39.0->azureml-sdk) (0.10.0)\n",
      "Requirement already satisfied, skipping upgrade: azure-core<1.22 in /anaconda/envs/azureml_py36/lib/python3.6/site-packages (from azureml-core~=1.39.0->azureml-sdk) (1.21.1)\n",
      "Requirement already satisfied, skipping upgrade: msrest<1.0.0,>=0.5.1 in /anaconda/envs/azureml_py36/lib/python3.6/site-packages (from azureml-core~=1.39.0->azureml-sdk) (0.6.21)\n",
      "Requirement already satisfied, skipping upgrade: azureml-pipeline-core~=1.39.0 in /anaconda/envs/azureml_py36/lib/python3.6/site-packages (from azureml-pipeline~=1.39.0->azureml-sdk) (1.39.0)\n",
      "Requirement already satisfied, skipping upgrade: azureml-pipeline-steps~=1.39.0 in /anaconda/envs/azureml_py36/lib/python3.6/site-packages (from azureml-pipeline~=1.39.0->azureml-sdk) (1.39.0)\n",
      "Requirement already satisfied, skipping upgrade: azureml-telemetry~=1.39.0 in /anaconda/envs/azureml_py36/lib/python3.6/site-packages (from azureml-train-automl-client~=1.39.0->azureml-sdk) (1.39.0)\n",
      "Requirement already satisfied, skipping upgrade: azureml-automl-core~=1.39.0 in /anaconda/envs/azureml_py36/lib/python3.6/site-packages (from azureml-train-automl-client~=1.39.0->azureml-sdk) (1.39.1)\n",
      "Requirement already satisfied, skipping upgrade: azureml-dataprep<2.28.0a,>=2.27.1a in /anaconda/envs/azureml_py36/lib/python3.6/site-packages (from azureml-dataset-runtime[fuse]~=1.39.0->azureml-sdk) (2.27.1)\n",
      "Requirement already satisfied, skipping upgrade: pyarrow<4.0.0,>=0.17.0 in /anaconda/envs/azureml_py36/lib/python3.6/site-packages (from azureml-dataset-runtime[fuse]~=1.39.0->azureml-sdk) (3.0.0)\n",
      "Requirement already satisfied, skipping upgrade: numpy!=1.19.3; sys_platform == \"linux\" in /anaconda/envs/azureml_py36/lib/python3.6/site-packages (from azureml-dataset-runtime[fuse]~=1.39.0->azureml-sdk) (1.18.5)\n",
      "Requirement already satisfied, skipping upgrade: fusepy<4.0.0,>=3.0.1; extra == \"fuse\" in /anaconda/envs/azureml_py36/lib/python3.6/site-packages (from azureml-dataset-runtime[fuse]~=1.39.0->azureml-sdk) (3.0.1)\n",
      "Requirement already satisfied, skipping upgrade: azureml-train-restclients-hyperdrive~=1.39.0 in /anaconda/envs/azureml_py36/lib/python3.6/site-packages (from azureml-train-core~=1.39.0->azureml-sdk) (1.39.0)\n",
      "Requirement already satisfied, skipping upgrade: cffi>=1.12 in /anaconda/envs/azureml_py36/lib/python3.6/site-packages (from cryptography!=1.9,!=2.0.*,!=2.1.*,!=2.2.*,<37.0.0->azureml-core~=1.39.0->azureml-sdk) (1.15.0)\n",
      "Requirement already satisfied, skipping upgrade: backports.weakref in /anaconda/envs/azureml_py36/lib/python3.6/site-packages (from backports.tempfile->azureml-core~=1.39.0->azureml-sdk) (1.0.post1)\n",
      "Requirement already satisfied, skipping upgrade: jeepney>=0.6 in /anaconda/envs/azureml_py36/lib/python3.6/site-packages (from SecretStorage<4.0.0->azureml-core~=1.39.0->azureml-sdk) (0.7.1)\n"
     ]
    },
    {
     "name": "stdout",
     "output_type": "stream",
     "text": [
      "Requirement already satisfied, skipping upgrade: azure-mgmt-core<2.0.0,>=1.2.0 in /anaconda/envs/azureml_py36/lib/python3.6/site-packages (from azure-mgmt-keyvault<10.0.0,>=0.40.0->azureml-core~=1.39.0->azureml-sdk) (1.3.0)\n",
      "Requirement already satisfied, skipping upgrade: websocket-client>=0.32.0 in /anaconda/envs/azureml_py36/lib/python3.6/site-packages (from docker<6.0.0->azureml-core~=1.39.0->azureml-sdk) (1.2.3)\n",
      "Requirement already satisfied, skipping upgrade: six>=1.5 in /anaconda/envs/azureml_py36/lib/python3.6/site-packages (from python-dateutil<3.0.0,>=2.7.3->azureml-core~=1.39.0->azureml-sdk) (1.16.0)\n",
      "Requirement already satisfied, skipping upgrade: importlib-metadata; python_version < \"3.8\" in /anaconda/envs/azureml_py36/lib/python3.6/site-packages (from jsonpickle<3.0.0->azureml-core~=1.39.0->azureml-sdk) (4.8.3)\n",
      "Requirement already satisfied, skipping upgrade: pyyaml in /anaconda/envs/azureml_py36/lib/python3.6/site-packages (from knack~=0.9.0->azureml-core~=1.39.0->azureml-sdk) (6.0)\n",
      "Requirement already satisfied, skipping upgrade: tabulate in /anaconda/envs/azureml_py36/lib/python3.6/site-packages (from knack~=0.9.0->azureml-core~=1.39.0->azureml-sdk) (0.8.9)\n",
      "Requirement already satisfied, skipping upgrade: pygments in /anaconda/envs/azureml_py36/lib/python3.6/site-packages (from knack~=0.9.0->azureml-core~=1.39.0->azureml-sdk) (2.11.2)\n",
      "Requirement already satisfied, skipping upgrade: pyparsing!=3.0.5,>=2.0.2 in /anaconda/envs/azureml_py36/lib/python3.6/site-packages (from packaging<22.0,>=20.0->azureml-core~=1.39.0->azureml-sdk) (3.0.6)\n",
      "Requirement already satisfied, skipping upgrade: pynacl>=1.0.1 in /anaconda/envs/azureml_py36/lib/python3.6/site-packages (from paramiko<3.0.0,>=2.0.8->azureml-core~=1.39.0->azureml-sdk) (1.5.0)\n",
      "Requirement already satisfied, skipping upgrade: bcrypt>=3.1.3 in /anaconda/envs/azureml_py36/lib/python3.6/site-packages (from paramiko<3.0.0,>=2.0.8->azureml-core~=1.39.0->azureml-sdk) (3.2.0)\n",
      "Requirement already satisfied, skipping upgrade: idna<4,>=2.5; python_version >= \"3\" in /anaconda/envs/azureml_py36/lib/python3.6/site-packages (from requests[socks]<3.0.0,>=2.19.1->azureml-core~=1.39.0->azureml-sdk) (3.3)\n",
      "Requirement already satisfied, skipping upgrade: certifi>=2017.4.17 in /anaconda/envs/azureml_py36/lib/python3.6/site-packages (from requests[socks]<3.0.0,>=2.19.1->azureml-core~=1.39.0->azureml-sdk) (2021.10.8)\n",
      "Requirement already satisfied, skipping upgrade: charset-normalizer~=2.0.0; python_version >= \"3\" in /anaconda/envs/azureml_py36/lib/python3.6/site-packages (from requests[socks]<3.0.0,>=2.19.1->azureml-core~=1.39.0->azureml-sdk) (2.0.10)\n",
      "Requirement already satisfied, skipping upgrade: PySocks!=1.5.7,>=1.5.6; extra == \"socks\" in /anaconda/envs/azureml_py36/lib/python3.6/site-packages (from requests[socks]<3.0.0,>=2.19.1->azureml-core~=1.39.0->azureml-sdk) (1.7.1)\n",
      "Requirement already satisfied, skipping upgrade: portalocker<3,>=1.0; python_version >= \"3.5\" and platform_system != \"Windows\" in /anaconda/envs/azureml_py36/lib/python3.6/site-packages (from msal-extensions<0.4,>=0.3.0->azureml-core~=1.39.0->azureml-sdk) (2.3.2)\n",
      "Requirement already satisfied, skipping upgrade: pyasn1>=0.1.1 in /anaconda/envs/azureml_py36/lib/python3.6/site-packages (from ndg-httpsclient<=0.5.1->azureml-core~=1.39.0->azureml-sdk) (0.4.8)\n",
      "Requirement already satisfied, skipping upgrade: isodate>=0.6.0 in /anaconda/envs/azureml_py36/lib/python3.6/site-packages (from msrest<1.0.0,>=0.5.1->azureml-core~=1.39.0->azureml-sdk) (0.6.1)\n",
      "Requirement already satisfied, skipping upgrade: requests-oauthlib>=0.5.0 in /anaconda/envs/azureml_py36/lib/python3.6/site-packages (from msrest<1.0.0,>=0.5.1->azureml-core~=1.39.0->azureml-sdk) (1.3.0)\n",
      "Requirement already satisfied, skipping upgrade: applicationinsights in /anaconda/envs/azureml_py36/lib/python3.6/site-packages (from azureml-telemetry~=1.39.0->azureml-train-automl-client~=1.39.0->azureml-sdk) (0.11.10)\n",
      "Requirement already satisfied, skipping upgrade: azureml-dataprep-rslex~=2.3.0dev0 in /anaconda/envs/azureml_py36/lib/python3.6/site-packages (from azureml-dataprep<2.28.0a,>=2.27.1a->azureml-dataset-runtime[fuse]~=1.39.0->azureml-sdk) (2.3.1)\n",
      "Requirement already satisfied, skipping upgrade: azureml-dataprep-native<39.0.0,>=38.0.0 in /anaconda/envs/azureml_py36/lib/python3.6/site-packages (from azureml-dataprep<2.28.0a,>=2.27.1a->azureml-dataset-runtime[fuse]~=1.39.0->azureml-sdk) (38.0.0)\n",
      "Requirement already satisfied, skipping upgrade: cloudpickle<3.0.0,>=1.1.0 in /anaconda/envs/azureml_py36/lib/python3.6/site-packages (from azureml-dataprep<2.28.0a,>=2.27.1a->azureml-dataset-runtime[fuse]~=1.39.0->azureml-sdk) (2.0.0)\n",
      "Requirement already satisfied, skipping upgrade: dotnetcore2<3.0.0,>=2.1.14 in /anaconda/envs/azureml_py36/lib/python3.6/site-packages (from azureml-dataprep<2.28.0a,>=2.27.1a->azureml-dataset-runtime[fuse]~=1.39.0->azureml-sdk) (2.1.22)\n",
      "Requirement already satisfied, skipping upgrade: azure-identity==1.7.0 in /anaconda/envs/azureml_py36/lib/python3.6/site-packages (from azureml-dataprep<2.28.0a,>=2.27.1a->azureml-dataset-runtime[fuse]~=1.39.0->azureml-sdk) (1.7.0)\n",
      "Requirement already satisfied, skipping upgrade: pycparser in /anaconda/envs/azureml_py36/lib/python3.6/site-packages (from cffi>=1.12->cryptography!=1.9,!=2.0.*,!=2.1.*,!=2.2.*,<37.0.0->azureml-core~=1.39.0->azureml-sdk) (2.21)\n",
      "Requirement already satisfied, skipping upgrade: typing-extensions>=3.6.4; python_version < \"3.8\" in /anaconda/envs/azureml_py36/lib/python3.6/site-packages (from importlib-metadata; python_version < \"3.8\"->jsonpickle<3.0.0->azureml-core~=1.39.0->azureml-sdk) (4.0.1)\n",
      "Requirement already satisfied, skipping upgrade: zipp>=0.5 in /anaconda/envs/azureml_py36/lib/python3.6/site-packages (from importlib-metadata; python_version < \"3.8\"->jsonpickle<3.0.0->azureml-core~=1.39.0->azureml-sdk) (3.6.0)\n",
      "Requirement already satisfied, skipping upgrade: oauthlib>=3.0.0 in /anaconda/envs/azureml_py36/lib/python3.6/site-packages (from requests-oauthlib>=0.5.0->msrest<1.0.0,>=0.5.1->azureml-core~=1.39.0->azureml-sdk) (3.1.1)\n",
      "Requirement already satisfied, skipping upgrade: distro>=1.2.0 in /anaconda/envs/azureml_py36/lib/python3.6/site-packages (from dotnetcore2<3.0.0,>=2.1.14->azureml-dataprep<2.28.0a,>=2.27.1a->azureml-dataset-runtime[fuse]~=1.39.0->azureml-sdk) (1.6.0)\n"
     ]
    }
   ],
   "source": [
    "!pip install --upgrade azureml-sdk"
   ]
  },
  {
   "cell_type": "code",
   "execution_count": 16,
   "metadata": {},
   "outputs": [
    {
     "name": "stdout",
     "output_type": "stream",
     "text": [
      "This notebook was created using version 1.35.0 of the Azure ML SDK.\n",
      "You are currently using version 1.39.0 of the Azure ML SDK.\n"
     ]
    }
   ],
   "source": [
    "import azureml.core\n",
    "\n",
    "print(\"This notebook was created using version 1.35.0 of the Azure ML SDK.\")\n",
    "print(\"You are currently using version\", azureml.core.VERSION, \"of the Azure ML SDK.\")\n",
    "assert (\n",
    "    azureml.core.VERSION >= \"1.35\"\n",
    "), \"Please upgrade the Azure ML SDK by running '!pip install --upgrade azureml-sdk' then restart the kernel.\""
   ]
  },
  {
   "cell_type": "code",
   "execution_count": 17,
   "metadata": {},
   "outputs": [
    {
     "name": "stdout",
     "output_type": "stream",
     "text": [
      "Requirement already satisfied: torchvision==0.9.1 in /anaconda/envs/azureml_py36/lib/python3.6/site-packages (0.9.1)\n",
      "Requirement already satisfied: pillow>=4.1.1 in /anaconda/envs/azureml_py36/lib/python3.6/site-packages (from torchvision==0.9.1) (8.0.0)\n",
      "Requirement already satisfied: numpy in /anaconda/envs/azureml_py36/lib/python3.6/site-packages (from torchvision==0.9.1) (1.18.5)\n",
      "Requirement already satisfied: torch==1.8.1 in /anaconda/envs/azureml_py36/lib/python3.6/site-packages (from torchvision==0.9.1) (1.8.1)\n",
      "Requirement already satisfied: dataclasses; python_version < \"3.7\" in /anaconda/envs/azureml_py36/lib/python3.6/site-packages (from torch==1.8.1->torchvision==0.9.1) (0.6)\n",
      "Requirement already satisfied: typing-extensions in /anaconda/envs/azureml_py36/lib/python3.6/site-packages (from torch==1.8.1->torchvision==0.9.1) (4.0.1)\n",
      "Note: you may need to restart the kernel to use updated packages.\n"
     ]
    }
   ],
   "source": [
    "pip install torchvision==0.9.1"
   ]
  },
  {
   "cell_type": "markdown",
   "metadata": {},
   "source": [
    "## At this point restart the Kernel by going to the menu item Kernel and clicking on the \"Restart\" menu item"
   ]
  },
  {
   "cell_type": "code",
   "execution_count": 18,
   "metadata": {},
   "outputs": [
    {
     "name": "stdout",
     "output_type": "stream",
     "text": [
      "absl-py==0.15.0\r\n",
      "adal==1.2.7\r\n",
      "alembic==1.7.6\r\n",
      "ansiwrap==0.8.4\r\n",
      "antlr4-python3-runtime==4.7.2\r\n",
      "applicationinsights==0.11.10\r\n",
      "arch==4.14\r\n",
      "argcomplete==1.12.3\r\n",
      "argon2-cffi==21.3.0\r\n",
      "argon2-cffi-bindings==21.2.0\r\n",
      "astor==0.8.1\r\n",
      "astunparse==1.6.3\r\n",
      "attrs==21.4.0\r\n",
      "autokeras==1.0.16\r\n",
      "azure-appconfiguration==1.1.1\r\n",
      "azure-batch==11.0.0\r\n",
      "azure-cli==2.33.0\r\n",
      "azure-cli-core==2.33.0\r\n",
      "azure-cli-telemetry==1.0.6\r\n",
      "azure-common==1.1.27\r\n",
      "azure-core==1.21.1\r\n",
      "azure-cosmos==3.2.0\r\n",
      "azure-datalake-store==0.0.52\r\n",
      "azure-graphrbac==0.61.1\r\n",
      "azure-identity==1.7.0\r\n",
      "azure-keyvault==1.1.0\r\n",
      "azure-keyvault-administration==4.0.0b3\r\n",
      "azure-keyvault-keys==4.5.0b4\r\n",
      "azure-loganalytics==0.1.1\r\n",
      "azure-mgmt-advisor==9.0.0\r\n",
      "azure-mgmt-apimanagement==0.2.0\r\n",
      "azure-mgmt-appconfiguration==2.0.0\r\n",
      "azure-mgmt-applicationinsights==1.0.0\r\n",
      "azure-mgmt-authorization==0.61.0\r\n",
      "azure-mgmt-batch==16.0.0\r\n",
      "azure-mgmt-batchai==7.0.0b1\r\n",
      "azure-mgmt-billing==6.0.0\r\n",
      "azure-mgmt-botservice==0.3.0\r\n",
      "azure-mgmt-cdn==11.0.0\r\n",
      "azure-mgmt-cognitiveservices==13.0.0\r\n",
      "azure-mgmt-compute==23.1.0\r\n",
      "azure-mgmt-consumption==2.0.0\r\n",
      "azure-mgmt-containerinstance==9.1.0\r\n",
      "azure-mgmt-containerregistry==8.2.0\r\n",
      "azure-mgmt-containerservice==16.4.0\r\n",
      "azure-mgmt-core==1.3.0\r\n",
      "azure-mgmt-cosmosdb==7.0.0b2\r\n",
      "azure-mgmt-databoxedge==1.0.0\r\n",
      "azure-mgmt-datalake-analytics==0.2.1\r\n",
      "azure-mgmt-datalake-nspkg==3.0.1\r\n",
      "azure-mgmt-datalake-store==0.5.0\r\n",
      "azure-mgmt-datamigration==10.0.0\r\n",
      "azure-mgmt-deploymentmanager==0.2.0\r\n",
      "azure-mgmt-devtestlabs==4.0.0\r\n",
      "azure-mgmt-dns==8.0.0\r\n",
      "azure-mgmt-eventgrid==9.0.0\r\n",
      "azure-mgmt-eventhub==9.1.0\r\n",
      "azure-mgmt-extendedlocation==1.0.0\r\n",
      "azure-mgmt-hdinsight==9.0.0\r\n",
      "azure-mgmt-imagebuilder==1.0.0\r\n",
      "azure-mgmt-iotcentral==9.0.0\r\n",
      "azure-mgmt-iothub==2.1.0\r\n",
      "azure-mgmt-iothubprovisioningservices==1.0.0\r\n",
      "azure-mgmt-keyvault==9.3.0\r\n",
      "azure-mgmt-kusto==0.3.0\r\n",
      "azure-mgmt-loganalytics==12.0.0\r\n",
      "azure-mgmt-managedservices==1.0.0\r\n",
      "azure-mgmt-managementgroups==0.2.0\r\n",
      "azure-mgmt-maps==2.0.0\r\n",
      "azure-mgmt-marketplaceordering==1.1.0\r\n",
      "azure-mgmt-media==7.0.0\r\n",
      "azure-mgmt-monitor==3.0.0\r\n",
      "azure-mgmt-msi==0.2.0\r\n",
      "azure-mgmt-netapp==6.0.1\r\n",
      "azure-mgmt-network==19.3.0\r\n",
      "azure-mgmt-nspkg==3.0.2\r\n",
      "azure-mgmt-policyinsights==1.0.0\r\n",
      "azure-mgmt-privatedns==1.0.0\r\n",
      "azure-mgmt-rdbms==10.0.0\r\n",
      "azure-mgmt-recoveryservices==2.0.0\r\n",
      "azure-mgmt-recoveryservicesbackup==4.0.0\r\n",
      "azure-mgmt-redhatopenshift==1.0.0\r\n",
      "azure-mgmt-redis==13.1.0\r\n",
      "azure-mgmt-relay==0.1.0\r\n",
      "azure-mgmt-reservations==0.6.0\r\n",
      "azure-mgmt-resource==20.0.0\r\n",
      "azure-mgmt-search==8.0.0\r\n",
      "azure-mgmt-security==2.0.0b1\r\n",
      "azure-mgmt-servicebus==6.0.0\r\n",
      "azure-mgmt-servicefabric==1.0.0\r\n",
      "azure-mgmt-servicefabricmanagedclusters==1.0.0\r\n",
      "azure-mgmt-servicelinker==1.0.0b1\r\n",
      "azure-mgmt-signalr==1.0.0\r\n",
      "azure-mgmt-sql==3.0.1\r\n",
      "azure-mgmt-sqlvirtualmachine==1.0.0b1\r\n",
      "azure-mgmt-storage==19.0.0\r\n",
      "azure-mgmt-synapse==2.1.0b4\r\n",
      "azure-mgmt-trafficmanager==1.0.0\r\n",
      "azure-mgmt-web==4.0.0\r\n",
      "azure-multiapi-storage==0.7.0\r\n",
      "azure-nspkg==3.0.2\r\n",
      "azure-storage-blob==12.9.0\r\n",
      "azure-storage-common==1.4.2\r\n",
      "azure-storage-queue==12.1.6\r\n",
      "azure-synapse-accesscontrol==0.5.0\r\n",
      "azure-synapse-artifacts==0.10.0\r\n",
      "azure-synapse-managedprivateendpoints==0.3.0\r\n",
      "azure-synapse-spark==0.2.0\r\n",
      "azureml-accel-models==1.38.0\r\n",
      "azureml-automl-core==1.39.1\r\n",
      "azureml-automl-dnn-nlp==1.38.0\r\n",
      "azureml-automl-runtime==1.38.0\r\n",
      "azureml-cli-common==1.38.0\r\n",
      "azureml-contrib-automl-pipeline-steps==1.38.0\r\n",
      "azureml-contrib-dataset==1.38.0\r\n",
      "azureml-contrib-fairness==1.38.0\r\n",
      "azureml-contrib-notebook==1.38.0\r\n",
      "azureml-contrib-pipeline-steps==1.38.0\r\n",
      "azureml-contrib-reinforcementlearning==1.38.0\r\n",
      "azureml-contrib-server==1.38.0\r\n",
      "azureml-contrib-services==1.38.0\r\n",
      "azureml-core==1.39.0\r\n",
      "azureml-datadrift==1.38.0\r\n",
      "azureml-dataprep==2.27.1\r\n",
      "azureml-dataprep-native==38.0.0\r\n",
      "azureml-dataprep-rslex==2.3.1\r\n",
      "azureml-dataset-runtime==1.39.0\r\n",
      "azureml-defaults==1.38.0\r\n",
      "azureml-explain-model==1.38.0\r\n",
      "azureml-inference-server-http==0.4.2\r\n",
      "azureml-interpret==1.38.0\r\n",
      "azureml-mlflow==1.38.0\r\n",
      "azureml-opendatasets==1.38.0\r\n",
      "azureml-pipeline==1.39.0\r\n",
      "azureml-pipeline-core==1.39.0\r\n",
      "azureml-pipeline-steps==1.39.0\r\n",
      "azureml-responsibleai==1.38.0\r\n",
      "azureml-sdk==1.39.0\r\n",
      "azureml-telemetry==1.39.0\r\n",
      "azureml-tensorboard==1.38.0\r\n",
      "azureml-train==1.38.0\r\n",
      "azureml-train-automl==1.38.0\r\n",
      "azureml-train-automl-client==1.39.0\r\n",
      "azureml-train-automl-runtime==1.38.0\r\n",
      "azureml-train-core==1.39.0\r\n",
      "azureml-train-restclients-hyperdrive==1.39.0\r\n",
      "azureml-widgets==1.38.0\r\n",
      "backcall==0.2.0\r\n",
      "backports.tempfile==1.0\r\n",
      "backports.weakref==1.0.post1\r\n",
      "bcrypt==3.2.0\r\n",
      "beautifulsoup4==4.10.0\r\n",
      "bleach==4.1.0\r\n",
      "blis==0.2.4\r\n",
      "bokeh==2.3.3\r\n",
      "Boruta==0.3\r\n",
      "boto==2.49.0\r\n",
      "boto3==1.20.19\r\n",
      "botocore==1.23.19\r\n",
      "Bottleneck==1.3.2\r\n",
      "cached-property==1.5.2\r\n",
      "cachetools==4.2.4\r\n",
      "certifi==2021.10.8\r\n",
      "cffi==1.15.0\r\n",
      "chardet==3.0.4\r\n",
      "charset-normalizer==2.0.10\r\n",
      "click==8.0.3\r\n",
      "cloudpickle==2.0.0\r\n",
      "colorama==0.4.4\r\n",
      "colorlover==0.3.0\r\n",
      "configparser==3.7.4\r\n",
      "contextlib2==21.6.0\r\n",
      "contextvars==2.4\r\n",
      "convertdate @ file:///home/conda/feedstock_root/build_artifacts/convertdate_1642883757836/work\r\n",
      "coremltools @ git+https://github.com/apple/coremltools@13c064ed99ab1da7abea0196e4ddf663ede48aad\r\n",
      "cryptography==36.0.1\r\n",
      "cufflinks==0.17.3\r\n",
      "cycler==0.11.0\r\n",
      "cymem==2.0.6\r\n",
      "Cython==0.29.26\r\n",
      "dask==2.30.0\r\n",
      "databricks-cli==0.16.2\r\n",
      "dataclasses==0.6\r\n",
      "datasets==1.8.0\r\n",
      "decorator==5.1.1\r\n",
      "defusedxml==0.7.1\r\n",
      "Deprecated==1.2.13\r\n",
      "dice-ml==0.7.2\r\n",
      "dill==0.3.4\r\n",
      "distributed==2.30.1\r\n",
      "distro==1.6.0\r\n",
      "docker==5.0.3\r\n",
      "dotnetcore2==2.1.22\r\n",
      "dowhy==0.7\r\n",
      "econml==0.12.0\r\n",
      "en-core-web-sm @ https://aka.ms/automl-resources/packages/en_core_web_sm-2.1.0.tar.gz\r\n",
      "encrypted-inference==0.9\r\n",
      "entrypoints==0.3\r\n",
      "erroranalysis==0.1.29\r\n",
      "fabric==2.6.0\r\n",
      "fairlearn==0.7.0\r\n",
      "fastai==1.0.61\r\n",
      "fastprogress==1.0.0\r\n",
      "fbprophet==0.5\r\n",
      "filelock==3.4.1\r\n",
      "fire==0.4.0\r\n",
      "Flask==1.0.3\r\n",
      "Flask-Cors==3.0.10\r\n",
      "flatbuffers==2.0\r\n",
      "fsspec==2022.1.0\r\n",
      "funcy==1.17\r\n",
      "fusepy==3.0.1\r\n",
      "future==0.18.2\r\n",
      "gast==0.2.2\r\n",
      "gensim==3.8.3\r\n",
      "gevent==1.3.6\r\n",
      "gitdb==4.0.9\r\n",
      "GitPython==3.1.18\r\n",
      "google-auth==1.35.0\r\n",
      "google-auth-oauthlib==0.4.6\r\n",
      "google-pasta==0.2.0\r\n",
      "graphviz @ file:///tmp/build/80754af9/python-graphviz_1602262908037/work\r\n",
      "greenlet==1.1.2\r\n",
      "grpcio==1.43.0\r\n",
      "gunicorn==20.1.0\r\n",
      "h5py==3.1.0\r\n",
      "HeapDict==1.0.1\r\n",
      "holidays==0.9.11\r\n",
      "horovod==0.19.1\r\n",
      "htmlmin==0.1.12\r\n",
      "huggingface-hub==0.0.19\r\n",
      "humanfriendly==10.0\r\n",
      "idna==3.3\r\n",
      "ImageHash==4.2.1\r\n",
      "imageio==2.15.0\r\n",
      "imbalanced-learn==0.7.0\r\n",
      "immutables==0.16\r\n",
      "importlib-metadata==4.8.3\r\n",
      "importlib-resources==5.4.0\r\n",
      "inference-schema==1.3.0\r\n",
      "interpret-community==0.24.1\r\n",
      "interpret-core==0.2.7\r\n",
      "invoke==1.6.0\r\n",
      "ipykernel==5.5.6\r\n",
      "ipython==7.16.3\r\n",
      "ipython-genutils==0.2.0\r\n",
      "ipywidgets==7.6.5\r\n",
      "isodate==0.6.1\r\n",
      "itsdangerous==2.0.1\r\n",
      "javaproperties==0.5.2\r\n",
      "jedi==0.18.0\r\n",
      "jeepney==0.7.1\r\n",
      "Jinja2==2.11.2\r\n",
      "jmespath==0.10.0\r\n",
      "joblib==0.14.1\r\n",
      "json-logging-py==0.2\r\n",
      "jsondiff==1.3.1\r\n",
      "jsonpickle==2.1.0\r\n",
      "jsonschema==3.2.0\r\n",
      "jupyter==1.0.0\r\n",
      "jupyter-client==6.1.12\r\n",
      "jupyter-console==6.4.0\r\n",
      "jupyter-core==4.9.1\r\n",
      "jupyterlab-widgets==1.0.2\r\n",
      "Keras==2.3.1\r\n",
      "Keras-Applications==1.0.8\r\n",
      "keras-nightly==2.5.0.dev2021032900\r\n",
      "Keras-Preprocessing==1.1.2\r\n",
      "keras-tuner==1.1.0\r\n",
      "keras2onnx==1.6.0\r\n",
      "kiwisolver==1.3.1\r\n",
      "kmodes==0.11.1\r\n",
      "knack==0.9.0\r\n",
      "kt-legacy==1.0.4\r\n",
      "liac-arff==2.5.0\r\n",
      "lightgbm==2.3.0\r\n",
      "llvmlite==0.36.0\r\n",
      "locket==0.2.1\r\n",
      "lunardate==0.2.0\r\n",
      "Mako==1.1.6\r\n",
      "Markdown==3.3.6\r\n",
      "MarkupSafe==2.0.1\r\n",
      "matplotlib @ file:///tmp/build/80754af9/matplotlib-base_1592406092619/work\r\n",
      "missingno==0.5.0\r\n",
      "mistune==0.8.4\r\n",
      "mkl-fft==1.2.0\r\n",
      "mkl-random==1.1.0\r\n",
      "mkl-service==2.3.0\r\n",
      "ml-wrappers==0.0.6\r\n",
      "mlflow==1.23.1\r\n",
      "mlflow-skinny==1.23.0\r\n",
      "mlxtend==0.19.0\r\n",
      "mpmath==1.2.1\r\n",
      "msal==1.16.0\r\n",
      "msal-extensions==0.3.1\r\n",
      "msgpack==1.0.3\r\n",
      "msrest==0.6.21\r\n",
      "msrestazure==0.6.4\r\n",
      "multimethod==1.5\r\n",
      "multiprocess==0.70.12.2\r\n",
      "murmurhash==1.0.6\r\n",
      "nbconvert==5.6.1\r\n",
      "nbformat==5.1.3\r\n",
      "ndg-httpsclient==0.5.1\r\n",
      "nest-asyncio==1.5.4\r\n",
      "networkx==2.5\r\n",
      "nimbusml==1.8.0\r\n",
      "nltk==3.6.7\r\n",
      "notebook==6.4.7\r\n",
      "numba==0.53.1\r\n",
      "numexpr==2.8.1\r\n",
      "numpy==1.18.5\r\n",
      "nvidia-ml-py3==7.352.0\r\n",
      "oauthlib==3.1.1\r\n",
      "olefile==0.46\r\n",
      "onnx==1.7.0\r\n",
      "onnxconverter-common==1.6.0\r\n",
      "onnxmltools==1.4.1\r\n",
      "onnxruntime==1.8.0\r\n",
      "opencv-python-headless==4.5.5.62\r\n",
      "opt-einsum==3.3.0\r\n",
      "packaging==21.3\r\n",
      "pandas==0.25.3\r\n",
      "pandas-ml==0.6.1\r\n",
      "pandas-profiling==3.1.0\r\n",
      "pandocfilters==1.5.0\r\n",
      "papermill==1.2.1\r\n",
      "paramiko==2.9.2\r\n",
      "parso==0.7.1\r\n",
      "partd==1.2.0\r\n",
      "pathlib2==2.3.6\r\n",
      "pathspec==0.9.0\r\n",
      "patsy==0.5.2\r\n",
      "pexpect==4.8.0\r\n",
      "phik==0.12.0\r\n",
      "pickleshare==0.7.5\r\n",
      "Pillow @ file:///tmp/build/80754af9/pillow_1602788709045/work\r\n",
      "pkginfo==1.8.2\r\n",
      "plac==0.9.6\r\n",
      "plotly==5.5.0\r\n",
      "pmdarima==1.1.1\r\n",
      "portalocker==2.3.2\r\n",
      "preshed==2.0.1\r\n",
      "prometheus-client==0.12.0\r\n",
      "prometheus-flask-exporter==0.18.7\r\n",
      "prompt-toolkit==3.0.24\r\n",
      "property-cached==1.6.4\r\n",
      "protobuf==3.19.3\r\n",
      "psutil==5.9.0\r\n",
      "psycopg2 @ file:///tmp/build/80754af9/psycopg2_1612298609104/work\r\n",
      "ptyprocess==0.7.0\r\n",
      "py4j==0.10.9.2\r\n",
      "pyarrow==3.0.0\r\n",
      "pyasn1==0.4.8\r\n",
      "pyasn1-modules==0.2.8\r\n",
      "pycaret==2.3.6\r\n",
      "pycocotools==2.0.0\r\n",
      "pycparser==2.21\r\n",
      "pydantic==1.9.0\r\n",
      "pydot==1.4.2\r\n",
      "PyGithub==1.55\r\n",
      "Pygments==2.11.2\r\n",
      "PyJWT==2.3.0\r\n",
      "pyLDAvis==3.3.1\r\n",
      "PyMeeus @ file:///home/conda/feedstock_root/build_artifacts/pymeeus_1615809745702/work\r\n",
      "PyNaCl==1.5.0\r\n",
      "pynndescent==0.5.6\r\n",
      "pyod==0.9.7\r\n",
      "pyodbc===4.0.0-unsupported\r\n",
      "pyOpenSSL==21.0.0\r\n",
      "pyparsing==3.0.6\r\n",
      "pyreadline==2.1\r\n",
      "pyrsistent==0.18.0\r\n",
      "PySocks==1.7.1\r\n",
      "pyspark==3.2.0\r\n",
      "pystan==2.19.0.0\r\n",
      "python-dateutil==2.8.2\r\n",
      "pytorch-transformers==1.0.0\r\n",
      "pytz==2021.3\r\n",
      "PyWavelets==1.1.1\r\n",
      "PyYAML==6.0\r\n",
      "pyzmq==22.3.0\r\n",
      "qtconsole==5.2.2\r\n",
      "QtPy==2.0.1\r\n",
      "querystring-parser==1.2.4\r\n",
      "rai-core-flask==0.2.4\r\n",
      "raiwidgets==0.16.0\r\n",
      "regex==2022.1.18\r\n",
      "requests==2.27.1\r\n",
      "requests-oauthlib==1.3.0\r\n",
      "responsibleai==0.16.0\r\n",
      "rsa==4.8\r\n",
      "s3transfer==0.5.0\r\n",
      "sacremoses==0.0.47\r\n",
      "scikit-image==0.17.2\r\n",
      "scikit-learn==0.22.2.post1\r\n",
      "scikit-plot==0.3.7\r\n",
      "scipy==1.5.2\r\n",
      "scp==0.13.6\r\n",
      "scrapbook==0.5.0\r\n",
      "seaborn==0.11.2\r\n",
      "SecretStorage==3.3.1\r\n",
      "semver==2.13.0\r\n",
      "Send2Trash==1.8.0\r\n",
      "sentencepiece==0.1.96\r\n",
      "seqeval==1.2.2\r\n",
      "setuptools-git==1.2\r\n",
      "shap==0.39.0\r\n",
      "sip==4.19.24\r\n",
      "six==1.16.0\r\n",
      "skl2onnx==1.4.9\r\n",
      "sklearn-pandas==1.7.0\r\n",
      "slicer==0.0.7\r\n",
      "smart-open==1.9.0\r\n",
      "smmap==5.0.0\r\n",
      "sortedcontainers==2.4.0\r\n",
      "soupsieve==2.3.1\r\n",
      "spacy==2.1.8\r\n",
      "sparse==0.13.0\r\n",
      "SQLAlchemy==1.4.31\r\n",
      "sqlparse==0.4.2\r\n",
      "srsly==1.0.5\r\n",
      "sshtunnel==0.1.5\r\n",
      "statsmodels==0.10.2\r\n",
      "sympy==1.9\r\n",
      "tabulate==0.8.9\r\n",
      "tangled-up-in-unicode==0.1.0\r\n",
      "tblib==1.7.0\r\n",
      "tenacity==8.0.1\r\n",
      "tensorboard==2.1.1\r\n",
      "tensorboard-data-server==0.6.1\r\n",
      "tensorboard-plugin-wit==1.8.1\r\n",
      "tensorflow==2.1.0\r\n",
      "tensorflow-estimator==2.1.0\r\n",
      "tensorflow-gpu==2.1.0\r\n",
      "termcolor==1.1.0\r\n",
      "terminado==0.12.1\r\n",
      "testpath==0.5.0\r\n",
      "textblob==0.17.1\r\n",
      "textwrap3==0.9.2\r\n",
      "thinc==7.0.8\r\n",
      "threadpoolctl @ file:///tmp/tmp9twdgx9k/threadpoolctl-2.1.0-py3-none-any.whl\r\n",
      "tifffile==2020.9.3\r\n",
      "tokenizers==0.10.3\r\n",
      "toolz==0.11.2\r\n",
      "torch==1.8.1\r\n",
      "torch-tb-profiler==0.3.1\r\n",
      "torchvision==0.9.1\r\n",
      "tornado==6.1\r\n",
      "tqdm==4.62.3\r\n",
      "traitlets==4.3.3\r\n",
      "transformers==4.5.1\r\n",
      "typing-extensions==4.0.1\r\n",
      "umap-learn==0.5.2\r\n",
      "urllib3==1.26.7\r\n",
      "uuid==1.30\r\n",
      "visions==0.7.4\r\n",
      "waitress==2.0.0\r\n",
      "wasabi==0.9.0\r\n",
      "wcwidth==0.2.5\r\n",
      "webencodings==0.5.1\r\n",
      "websocket-client==1.2.3\r\n",
      "websockets==9.1\r\n",
      "Werkzeug==2.0.2\r\n",
      "widgetsnbextension==3.5.2\r\n",
      "wordcloud==1.8.1\r\n",
      "wrapt==1.12.1\r\n",
      "xgboost==0.90\r\n",
      "xmltodict==0.12.0\r\n",
      "xxhash==2.0.2\r\n",
      "yellowbrick==1.3.post1\r\n",
      "zict==2.0.0\r\n",
      "zipp==3.6.0\r\n",
      "zope.event==4.5.0\r\n",
      "zope.interface==5.4.0\r\n"
     ]
    },
    {
     "name": "stdout",
     "output_type": "stream",
     "text": [
      "Note: you may need to restart the kernel to use updated packages.\n"
     ]
    }
   ],
   "source": [
    "pip freeze"
   ]
  },
  {
   "cell_type": "code",
   "execution_count": 19,
   "metadata": {},
   "outputs": [],
   "source": [
    "import cv2\n",
    "import numpy as np\n",
    "import torch\n",
    "import time\n",
    "import torchvision\n",
    "from PIL import Image\n",
    "from typing import Any, Dict, List"
   ]
  },
  {
   "cell_type": "markdown",
   "metadata": {},
   "source": [
    "## Workspace setup\n",
    "In order to train and deploy models in Azure ML, you will first need to set up a workspace.\n",
    "\n",
    "An [Azure ML Workspace](https://docs.microsoft.com/en-us/azure/machine-learning/concept-azure-machine-learning-architecture#workspace) is an Azure resource that organizes and coordinates the actions of many other Azure resources to assist in executing and sharing machine learning workflows. In particular, an Azure ML Workspace coordinates storage, databases, and compute resources providing added functionality for machine learning experimentation, deployment, inference, and the monitoring of deployed models.\n",
    "\n",
    "Create an Azure ML Workspace within your Azure subscription or load an existing workspace."
   ]
  },
  {
   "cell_type": "code",
   "execution_count": 20,
   "metadata": {},
   "outputs": [
    {
     "data": {
      "text/plain": [
       "{'id': '/subscriptions/83da1f6b-22c0-4300-aa13-bd260eab57e5/resourceGroups/amldatalabeling/providers/Microsoft.MachineLearningServices/workspaces/Computer_Vision_Pipeline',\n",
       " 'name': 'Computer_Vision_Pipeline',\n",
       " 'identity': {'principal_id': '91200a66-f1b4-4077-860a-4d115e873bc5',\n",
       "  'tenant_id': '72f988bf-86f1-41af-91ab-2d7cd011db47',\n",
       "  'type': 'SystemAssigned'},\n",
       " 'location': 'eastus',\n",
       " 'type': 'Microsoft.MachineLearningServices/workspaces',\n",
       " 'tags': {},\n",
       " 'sku': 'Basic',\n",
       " 'workspaceid': 'd869dd80-1333-484d-99ae-5869dc1b041a',\n",
       " 'sdkTelemetryAppInsightsKey': '71fa86c2-fe23-49db-bb2e-8537edfb6ead',\n",
       " 'description': '',\n",
       " 'friendlyName': 'Computer_Vision_Pipeline',\n",
       " 'creationTime': '2021-05-17T20:54:23.0413693+00:00',\n",
       " 'containerRegistry': '/subscriptions/83da1f6b-22c0-4300-aa13-bd260eab57e5/resourceGroups/amldatalabeling/providers/Microsoft.ContainerRegistry/registries/d869dd801333484d99ae5869dc1b041a',\n",
       " 'keyVault': '/subscriptions/83da1f6b-22c0-4300-aa13-bd260eab57e5/resourcegroups/amldatalabeling/providers/microsoft.keyvault/vaults/computervision9754617571',\n",
       " 'applicationInsights': '/subscriptions/83da1f6b-22c0-4300-aa13-bd260eab57e5/resourcegroups/amldatalabeling/providers/microsoft.insights/components/computervision0692631043',\n",
       " 'storageAccount': '/subscriptions/83da1f6b-22c0-4300-aa13-bd260eab57e5/resourcegroups/amldatalabeling/providers/microsoft.storage/storageaccounts/computervision5249774111',\n",
       " 'hbiWorkspace': False,\n",
       " 'allowPublicAccessWhenBehindVnet': False,\n",
       " 'provisioningState': 'Succeeded',\n",
       " 'imageBuildCompute': '',\n",
       " 'discoveryUrl': 'https://eastus.api.azureml.ms/discovery',\n",
       " 'notebookInfo': {'fqdn': 'ml-computervisionpi-eastus-d869dd80-1333-484d-99ae-5869dc1b041a.notebooks.azure.net',\n",
       "  'resource_id': '8e585ea2a73c4154a284b9d7ee472237'}}"
      ]
     },
     "execution_count": 20,
     "metadata": {},
     "output_type": "execute_result"
    }
   ],
   "source": [
    "from azureml.core.workspace import Workspace\n",
    "\n",
    "ws = Workspace.from_config()\n",
    "ws.get_details()\n"
   ]
  },
  {
   "cell_type": "markdown",
   "metadata": {},
   "source": [
    "## Compute target setup\n",
    "You will need to provide a [Compute Target](https://docs.microsoft.com/en-us/azure/machine-learning/concept-azure-machine-learning-architecture#computes) that will be used for your AutoML model training. AutoML models for image tasks require [GPU SKUs](https://docs.microsoft.com/en-us/azure/virtual-machines/sizes-gpu) such as the ones from the NC, NCv2, NCv3, ND, NDv2 and NCasT4 series. We recommend using the NCsv3-series (with v100 GPUs) for faster training. Using a compute target with a multi-GPU VM SKU will leverage the multiple GPUs to speed up training. Additionally, setting up a compute target with multiple nodes will allow for faster model training by leveraging parallelism, when tuning hyperparameters for your model."
   ]
  },
  {
   "cell_type": "code",
   "execution_count": 21,
   "metadata": {},
   "outputs": [
    {
     "name": "stdout",
     "output_type": "stream",
     "text": [
      "Imageprocessing2\n",
      "Found existing instance, use it.\n"
     ]
    }
   ],
   "source": [
    "#Use this code if you are using a trial subscription that only allows for NCsV series to be created in a compute instance\n",
    "import datetime\n",
    "import time\n",
    "\n",
    "from azureml.core.compute import ComputeTarget, ComputeInstance\n",
    "from azureml.core.compute_target import ComputeTargetException\n",
    "\n",
    "# Choose a name for your instance\n",
    "# Compute instance name should be unique across the azure region\n",
    "#compute_name = \"Imageprocessing2\".format(ws._workspace_id)[:10]\n",
    "#compute_name = \"ImageImageprocessing2\".format(ws._workspace_id)[:25]\n",
    "compute_name = \"Imageprocessing\"\n",
    "print(compute_name)\n",
    "\n",
    "# Verify that instance does not exist already\n",
    "try:\n",
    "    instance = ComputeInstance(workspace=ws, name=compute_name)\n",
    "    print('Found existing instance, using it.')\n",
    "except ComputeTargetException:\n",
    "    print('Did not find existing instance, creating it.')\n",
    "    compute_config = ComputeInstance.provisioning_configuration(\n",
    "        vm_size='Standard_NC6',\n",
    "        ssh_public_access=False,\n",
    "        # vnet_resourcegroup_name='<my-resource-group>',\n",
    "        # vnet_name='<my-vnet-name>',\n",
    "        # subnet_name='default',\n",
    "        # admin_user_ssh_public_key='<my-sshkey>'\n",
    "    )\n",
    "    instance = ComputeInstance.create(ws, compute_name, compute_config)\n",
    "    instance.wait_for_completion(show_output=True)"
   ]
  },
  {
   "cell_type": "code",
   "execution_count": null,
   "metadata": {},
   "outputs": [],
   "source": [
    "#Use this code if you are using a \"non\" trial subscription that only allows for NCsV series to be created in a compute instance\n",
    "#from azureml.core.compute import AmlCompute, ComputeTarget\n",
    "\n",
    "#cluster_name = \"Imageprocessing\"\n",
    "\n",
    "#try:\n",
    "#    compute_target = ws.compute_targets[cluster_name]\n",
    "#    print(\"Found existing compute target.\")\n",
    "#except KeyError:\n",
    "#    print(\"Creating a new compute target...\")\n",
    "#    compute_config = AmlCompute.provisioning_configuration(\n",
    "#        vm_size=\"Standard_NC6\",\n",
    "#        idle_seconds_before_scaledown=600,\n",
    "#        min_nodes=0,\n",
    "#        max_nodes=4,\n",
    "#    )\n",
    "#    compute_target = ComputeTarget.create(ws, cluster_name, compute_config)\n",
    "# Can poll for a minimum number of nodes and for a specific timeout.\n",
    "# If no min_node_count is provided, it will use the scale settings for the cluster.\n",
    "#compute_target.wait_for_completion(\n",
    "#    show_output=True, min_node_count=None, timeout_in_minutes=20\n",
    "#)"
   ]
  },
  {
   "cell_type": "markdown",
   "metadata": {},
   "source": [
    "## Experiment Setup\n",
    "Create an [Experiment](https://docs.microsoft.com/en-us/azure/machine-learning/concept-azure-machine-learning-architecture#experiments) in your workspace to track your model training runs"
   ]
  },
  {
   "cell_type": "code",
   "execution_count": 22,
   "metadata": {},
   "outputs": [],
   "source": [
    "from azureml.core import Experiment\n",
    "\n",
    "experiment_name = \"automl-image-object-detection_latest_V3\"\n",
    "experiment = Experiment(ws, name=experiment_name)"
   ]
  },
  {
   "cell_type": "markdown",
   "metadata": {},
   "source": [
    "## Dataset with input Training Data\n",
    "\n",
    "Using the AML Labeling tool you labeled your images and exported the annotations as an AML ML Dataset. Now we need to a training_dataset to associate with that export using its name."
   ]
  },
  {
   "cell_type": "code",
   "execution_count": 24,
   "metadata": {},
   "outputs": [],
   "source": [
    "from azureml.core import Dataset \n",
    "#training_dataset = Dataset.get_by_name(ws, name='alexamltest_20220307_214543')\n",
    "training_dataset = Dataset.get_by_name(ws, name='SodaDemo_20220126_131830')"
   ]
  },
  {
   "cell_type": "markdown",
   "metadata": {},
   "source": [
    "Validation dataset is optional. If no validation dataset is specified, by default 20% of your training data will be used for validation. You can control the percentage using the `split_ratio` argument - please refer to the [documentation](https://docs.microsoft.com/en-us/azure/machine-learning/how-to-auto-train-image-models#model-agnostic-hyperparameters) for more details.\n",
    "\n",
    "This is what the training dataset looks like:"
   ]
  },
  {
   "cell_type": "code",
   "execution_count": 25,
   "metadata": {},
   "outputs": [
    {
     "data": {
      "text/html": [
       "<div>\n",
       "<style scoped>\n",
       "    .dataframe tbody tr th:only-of-type {\n",
       "        vertical-align: middle;\n",
       "    }\n",
       "\n",
       "    .dataframe tbody tr th {\n",
       "        vertical-align: top;\n",
       "    }\n",
       "\n",
       "    .dataframe thead th {\n",
       "        text-align: right;\n",
       "    }\n",
       "</style>\n",
       "<table border=\"1\" class=\"dataframe\">\n",
       "  <thead>\n",
       "    <tr style=\"text-align: right;\">\n",
       "      <th></th>\n",
       "      <th>image_url</th>\n",
       "      <th>label</th>\n",
       "      <th>label_confidence</th>\n",
       "    </tr>\n",
       "  </thead>\n",
       "  <tbody>\n",
       "    <tr>\n",
       "      <th>0</th>\n",
       "      <td>computervisionwimagesraw/fa45f236-b599-11eb-8f...</td>\n",
       "      <td>[{'label': 'sprite', 'topX': 0.320216286945812...</td>\n",
       "      <td>[1.0, 1.0, 1.0, 1.0, 1.0, 1.0]</td>\n",
       "    </tr>\n",
       "    <tr>\n",
       "      <th>1</th>\n",
       "      <td>computervisionwimagesraw/895849dc-b4dd-11eb-a2...</td>\n",
       "      <td>[{'label': 'sprite', 'topX': 0.185364070197044...</td>\n",
       "      <td>[1.0, 1.0, 1.0, 1.0, 1.0, 1.0]</td>\n",
       "    </tr>\n",
       "    <tr>\n",
       "      <th>2</th>\n",
       "      <td>computervisionwimagesraw/45.jpg</td>\n",
       "      <td>[{'label': 'sprite', 'topX': 0.078679938956714...</td>\n",
       "      <td>[1.0, 1.0, 1.0, 1.0, 1.0, 1.0]</td>\n",
       "    </tr>\n",
       "    <tr>\n",
       "      <th>3</th>\n",
       "      <td>computervisionwimagesraw/b34aa738-b598-11eb-8f...</td>\n",
       "      <td>[{'label': 'coke', 'topX': 0.3115955972906404,...</td>\n",
       "      <td>[1.0, 1.0, 1.0, 1.0, 1.0, 1.0]</td>\n",
       "    </tr>\n",
       "    <tr>\n",
       "      <th>4</th>\n",
       "      <td>computervisionwimagesraw/74.jpg</td>\n",
       "      <td>[{'label': 'sprite', 'topX': 0.221694119458128...</td>\n",
       "      <td>[1.0, 1.0, 1.0, 1.0, 1.0, 1.0]</td>\n",
       "    </tr>\n",
       "    <tr>\n",
       "      <th>...</th>\n",
       "      <td>...</td>\n",
       "      <td>...</td>\n",
       "      <td>...</td>\n",
       "    </tr>\n",
       "    <tr>\n",
       "      <th>236</th>\n",
       "      <td>computervisionwimagesraw/a19fb52e-b4f2-11eb-9c...</td>\n",
       "      <td>[{'label': 'diet_coke', 'topX': 0.209645532741...</td>\n",
       "      <td>[1.0, 1.0, 1.0, 1.0, 1.0, 1.0]</td>\n",
       "    </tr>\n",
       "    <tr>\n",
       "      <th>237</th>\n",
       "      <td>computervisionwimagesraw/e45261d0-b599-11eb-8f...</td>\n",
       "      <td>[{'label': 'sprite', 'topX': 0.228467518472906...</td>\n",
       "      <td>[1.0, 1.0, 1.0, 1.0, 1.0, 1.0]</td>\n",
       "    </tr>\n",
       "    <tr>\n",
       "      <th>238</th>\n",
       "      <td>computervisionwimagesraw/80.jpg</td>\n",
       "      <td>[{'label': 'sprite', 'topX': 0.220744311875693...</td>\n",
       "      <td>[1.0, 1.0, 1.0, 1.0, 1.0, 1.0]</td>\n",
       "    </tr>\n",
       "    <tr>\n",
       "      <th>239</th>\n",
       "      <td>computervisionwimagesraw/7170d386-b599-11eb-8f...</td>\n",
       "      <td>[{'label': 'sprite', 'topX': 0.293738454433497...</td>\n",
       "      <td>[1.0, 1.0, 1.0, 1.0, 1.0, 1.0]</td>\n",
       "    </tr>\n",
       "    <tr>\n",
       "      <th>240</th>\n",
       "      <td>computervisionwimagesraw/53.jpg</td>\n",
       "      <td>[{'label': 'diet_coke', 'topX': 0.453836976600...</td>\n",
       "      <td>[1.0, 1.0, 1.0, 1.0, 1.0, 1.0, 1.0, 1.0, 1.0]</td>\n",
       "    </tr>\n",
       "  </tbody>\n",
       "</table>\n",
       "<p>241 rows × 3 columns</p>\n",
       "</div>"
      ],
      "text/plain": [
       "                                             image_url  \\\n",
       "0    computervisionwimagesraw/fa45f236-b599-11eb-8f...   \n",
       "1    computervisionwimagesraw/895849dc-b4dd-11eb-a2...   \n",
       "2                      computervisionwimagesraw/45.jpg   \n",
       "3    computervisionwimagesraw/b34aa738-b598-11eb-8f...   \n",
       "4                      computervisionwimagesraw/74.jpg   \n",
       "..                                                 ...   \n",
       "236  computervisionwimagesraw/a19fb52e-b4f2-11eb-9c...   \n",
       "237  computervisionwimagesraw/e45261d0-b599-11eb-8f...   \n",
       "238                    computervisionwimagesraw/80.jpg   \n",
       "239  computervisionwimagesraw/7170d386-b599-11eb-8f...   \n",
       "240                    computervisionwimagesraw/53.jpg   \n",
       "\n",
       "                                                 label  \\\n",
       "0    [{'label': 'sprite', 'topX': 0.320216286945812...   \n",
       "1    [{'label': 'sprite', 'topX': 0.185364070197044...   \n",
       "2    [{'label': 'sprite', 'topX': 0.078679938956714...   \n",
       "3    [{'label': 'coke', 'topX': 0.3115955972906404,...   \n",
       "4    [{'label': 'sprite', 'topX': 0.221694119458128...   \n",
       "..                                                 ...   \n",
       "236  [{'label': 'diet_coke', 'topX': 0.209645532741...   \n",
       "237  [{'label': 'sprite', 'topX': 0.228467518472906...   \n",
       "238  [{'label': 'sprite', 'topX': 0.220744311875693...   \n",
       "239  [{'label': 'sprite', 'topX': 0.293738454433497...   \n",
       "240  [{'label': 'diet_coke', 'topX': 0.453836976600...   \n",
       "\n",
       "                                  label_confidence  \n",
       "0                   [1.0, 1.0, 1.0, 1.0, 1.0, 1.0]  \n",
       "1                   [1.0, 1.0, 1.0, 1.0, 1.0, 1.0]  \n",
       "2                   [1.0, 1.0, 1.0, 1.0, 1.0, 1.0]  \n",
       "3                   [1.0, 1.0, 1.0, 1.0, 1.0, 1.0]  \n",
       "4                   [1.0, 1.0, 1.0, 1.0, 1.0, 1.0]  \n",
       "..                                             ...  \n",
       "236                 [1.0, 1.0, 1.0, 1.0, 1.0, 1.0]  \n",
       "237                 [1.0, 1.0, 1.0, 1.0, 1.0, 1.0]  \n",
       "238                 [1.0, 1.0, 1.0, 1.0, 1.0, 1.0]  \n",
       "239                 [1.0, 1.0, 1.0, 1.0, 1.0, 1.0]  \n",
       "240  [1.0, 1.0, 1.0, 1.0, 1.0, 1.0, 1.0, 1.0, 1.0]  \n",
       "\n",
       "[241 rows x 3 columns]"
      ]
     },
     "execution_count": 25,
     "metadata": {},
     "output_type": "execute_result"
    }
   ],
   "source": [
    "training_dataset.to_pandas_dataframe()"
   ]
  },
  {
   "cell_type": "markdown",
   "metadata": {},
   "source": [
    "## Configuring your AutoML run for image tasks\n",
    "AutoML allows you to easily train models for Image Classification, Object Detection & Instance Segmentation on your image data. You can control the model algorithm to be used, specify hyperparameter values for your model as well as perform a sweep across the hyperparameter space to generate an optimal model. Parameters for configuring your AutoML Image run are specified using the `AutoMLImageConfig` - please refer to the [documentation](https://docs.microsoft.com/en-us/azure/machine-learning/how-to-auto-train-image-models#configure-your-experiment-settings) for the details on the parameters that can be used and their values."
   ]
  },
  {
   "cell_type": "markdown",
   "metadata": {},
   "source": [
    "When using AutoML for image tasks, you need to specify the model algorithms using the `model_name` parameter. You can either specify a single model or choose to sweep over multiple models. Please refer to the [documentation](https://docs.microsoft.com/en-us/azure/machine-learning/how-to-auto-train-image-models#configure-model-algorithms-and-hyperparameters) for the list of supported model algorithms."
   ]
  },
  {
   "cell_type": "markdown",
   "metadata": {},
   "source": [
    "### Using default hyperparameter values for the specified algorithm\n",
    "Before doing a large sweep to search for the optimal models and hyperparameters, we recommend trying the default values for a given model to get a first baseline. Next, you can explore multiple hyperparameters for the same model before sweeping over multiple models and their parameters. This allows an iterative approach, as with multiple models and multiple hyperparameters for each (as we showcase in the next section), the search space grows exponentially, and  you need more iterations to find optimal configurations.\n",
    "\n",
    "If you wish to use the default hyperparameter values for a given algorithm (say `yolov5`), you can specify the config for your AutoML Image runs as follows:"
   ]
  },
  {
   "cell_type": "code",
   "execution_count": 27,
   "metadata": {},
   "outputs": [],
   "source": [
    "from azureml.automl.core.shared.constants import ImageTask\n",
    "from azureml.train.automl import AutoMLImageConfig\n",
    "from azureml.train.hyperdrive import GridParameterSampling, choice\n",
    "\n",
    "image_config_yolov5 = AutoMLImageConfig(\n",
    "    task=ImageTask.IMAGE_OBJECT_DETECTION,\n",
    "    compute_target=compute_name,\n",
    "    training_data=training_dataset,\n",
    "    #validation_data=validation_dataset,\n",
    "    hyperparameter_sampling=GridParameterSampling({\"model_name\": choice(\"yolov5\"),'model_size': choice('small')}),\n",
    "    iterations=1,\n",
    ")"
   ]
  },
  {
   "cell_type": "markdown",
   "metadata": {},
   "source": [
    "## Submitting an AutoML run for Computer Vision tasks\n",
    "Once you've created the config settings for your run, you can submit an AutoML run using the config in order to train a vision model using your training dataset."
   ]
  },
  {
   "cell_type": "code",
   "execution_count": 28,
   "metadata": {},
   "outputs": [
    {
     "name": "stdout",
     "output_type": "stream",
     "text": [
      "Submitting remote run.\n"
     ]
    },
    {
     "data": {
      "text/html": [
       "<table style=\"width:100%\"><tr><th>Experiment</th><th>Id</th><th>Type</th><th>Status</th><th>Details Page</th><th>Docs Page</th></tr><tr><td>automl-image-object-detection_latest_V3</td><td>AutoML_5fbb72c4-af92-4308-879d-f23f23317f6b</td><td>automl</td><td>NotStarted</td><td><a href=\"https://ml.azure.com/runs/AutoML_5fbb72c4-af92-4308-879d-f23f23317f6b?wsid=/subscriptions/83da1f6b-22c0-4300-aa13-bd260eab57e5/resourcegroups/amldatalabeling/workspaces/Computer_Vision_Pipeline&amp;tid=72f988bf-86f1-41af-91ab-2d7cd011db47\" target=\"_blank\" rel=\"noopener\">Link to Azure Machine Learning studio</a></td><td><a href=\"https://docs.microsoft.com/en-us/python/api/overview/azure/ml/intro?view=azure-ml-py\" target=\"_blank\" rel=\"noopener\">Link to Documentation</a></td></tr></table>"
      ],
      "text/plain": [
       "<IPython.core.display.HTML object>"
      ]
     },
     "metadata": {},
     "output_type": "display_data"
    }
   ],
   "source": [
    "automl_image_run = experiment.submit(image_config_yolov5)"
   ]
  },
  {
   "cell_type": "code",
   "execution_count": 29,
   "metadata": {},
   "outputs": [
    {
     "data": {
      "text/plain": [
       "{'runId': 'AutoML_5fbb72c4-af92-4308-879d-f23f23317f6b',\n",
       " 'target': 'Imageprocessing2',\n",
       " 'status': 'Completed',\n",
       " 'startTimeUtc': '2022-03-11T16:24:33.354166Z',\n",
       " 'endTimeUtc': '2022-03-11T16:34:46.087336Z',\n",
       " 'services': {},\n",
       " 'properties': {'num_iterations': '1',\n",
       "  'training_type': 'TrainFull',\n",
       "  'acquisition_function': 'EI',\n",
       "  'primary_metric': 'mean_average_precision',\n",
       "  'train_split': '0',\n",
       "  'acquisition_parameter': '0',\n",
       "  'num_cross_validation': None,\n",
       "  'target': 'Imageprocessing2',\n",
       "  'AMLSettingsJsonString': '{\"path\":null,\"name\":\"automl-image-object-detection_latest_V3\",\"subscription_id\":\"83da1f6b-22c0-4300-aa13-bd260eab57e5\",\"resource_group\":\"amldatalabeling\",\"workspace_name\":\"Computer_Vision_Pipeline\",\"region\":\"eastus\",\"compute_target\":\"Imageprocessing2\",\"spark_service\":null,\"azure_service\":\"remote\",\"many_models\":false,\"pipeline_fetch_max_batch_size\":1,\"enable_batch_run\":true,\"enable_run_restructure\":false,\"start_auxiliary_runs_before_parent_complete\":false,\"enable_code_generation\":false,\"iterations\":1,\"primary_metric\":\"mean_average_precision\",\"task_type\":\"image-object-detection\",\"positive_label\":null,\"data_script\":null,\"test_size\":0.0,\"test_include_predictions_only\":false,\"validation_size\":0.0,\"n_cross_validations\":null,\"y_min\":null,\"y_max\":null,\"num_classes\":null,\"featurization\":\"off\",\"_ignore_package_version_incompatibilities\":false,\"is_timeseries\":false,\"max_cores_per_iteration\":1,\"max_concurrent_iterations\":1,\"iteration_timeout_minutes\":null,\"mem_in_mb\":null,\"enforce_time_on_windows\":false,\"experiment_timeout_minutes\":8640,\"experiment_exit_score\":null,\"partition_column_names\":null,\"whitelist_models\":null,\"blacklist_algos\":[\"TensorFlowDNN\",\"TensorFlowLinearRegressor\"],\"supported_models\":[],\"private_models\":[],\"auto_blacklist\":true,\"blacklist_samples_reached\":false,\"exclude_nan_labels\":true,\"verbosity\":20,\"_debug_log\":\"azureml_automl.log\",\"show_warnings\":false,\"model_explainability\":true,\"service_url\":null,\"sdk_url\":null,\"sdk_packages\":null,\"enable_onnx_compatible_models\":false,\"enable_split_onnx_featurizer_estimator_models\":false,\"vm_type\":\"STANDARD_NC6\",\"telemetry_verbosity\":20,\"send_telemetry\":true,\"enable_dnn\":true,\"scenario\":\"Vision\",\"environment_label\":null,\"save_mlflow\":false,\"enable_categorical_indicators\":false,\"force_text_dnn\":false,\"enable_feature_sweeping\":true,\"enable_early_stopping\":true,\"early_stopping_n_iters\":10,\"arguments\":null,\"dataset_id\":\"f3e64977-52b9-4075-84f7-af59ce7d4dcc\",\"hyperdrive_config\":{\"max_total_jobs\":1,\"max_concurrent_jobs\":1,\"generator_config\":{\"name\":\"GRID\",\"parameter_space\":\"{\\\\\"model_name\\\\\": [\\\\\"choice\\\\\", [[\\\\\"yolov5\\\\\"]]], \\\\\"model_size\\\\\": [\\\\\"choice\\\\\", [[\\\\\"small\\\\\"]]]}\",\"properties\":null},\"policy_config\":null},\"validation_dataset_id\":null,\"run_source\":\"AutoMLImageSDK\",\"metrics\":null,\"enable_metric_confidence\":false,\"enable_ensembling\":false,\"enable_stack_ensembling\":false,\"ensemble_iterations\":null,\"enable_tf\":false,\"enable_subsampling\":false,\"subsample_seed\":null,\"enable_nimbusml\":false,\"enable_streaming\":false,\"force_streaming\":false,\"track_child_runs\":true,\"allowed_private_models\":[],\"label_column_name\":\"label\",\"weight_column_name\":null,\"cv_split_column_names\":null,\"enable_local_managed\":false,\"_local_managed_run_id\":null,\"cost_mode\":1,\"lag_length\":0,\"metric_operation\":\"maximize\",\"preprocess\":false}',\n",
       "  'DataPrepJsonString': '{\\\\\"training_data\\\\\": {\\\\\"datasetId\\\\\": \\\\\"f3e64977-52b9-4075-84f7-af59ce7d4dcc\\\\\"}, \\\\\"datasets\\\\\": 0}',\n",
       "  'EnableSubsampling': 'False',\n",
       "  'runTemplate': 'AutoML',\n",
       "  'azureml.runsource': 'AutoMLImageSDK',\n",
       "  'display_task_type': 'image-object-detection',\n",
       "  'dependencies_versions': '{\"azureml-widgets\": \"1.38.0\", \"azureml-train\": \"1.38.0\", \"azureml-train-restclients-hyperdrive\": \"1.39.0\", \"azureml-train-core\": \"1.39.0\", \"azureml-train-automl\": \"1.38.0\", \"azureml-train-automl-runtime\": \"1.38.0\", \"azureml-train-automl-client\": \"1.39.0\", \"azureml-tensorboard\": \"1.38.0\", \"azureml-telemetry\": \"1.39.0\", \"azureml-sdk\": \"1.39.0\", \"azureml-responsibleai\": \"1.38.0\", \"azureml-pipeline\": \"1.39.0\", \"azureml-pipeline-steps\": \"1.39.0\", \"azureml-pipeline-core\": \"1.39.0\", \"azureml-opendatasets\": \"1.38.0\", \"azureml-mlflow\": \"1.38.0\", \"azureml-interpret\": \"1.38.0\", \"azureml-inference-server-http\": \"0.4.2\", \"azureml-explain-model\": \"1.38.0\", \"azureml-defaults\": \"1.38.0\", \"azureml-dataset-runtime\": \"1.39.0\", \"azureml-dataprep\": \"2.27.1\", \"azureml-dataprep-rslex\": \"2.3.1\", \"azureml-dataprep-native\": \"38.0.0\", \"azureml-datadrift\": \"1.38.0\", \"azureml-core\": \"1.39.0\", \"azureml-contrib-services\": \"1.38.0\", \"azureml-contrib-server\": \"1.38.0\", \"azureml-contrib-reinforcementlearning\": \"1.38.0\", \"azureml-contrib-pipeline-steps\": \"1.38.0\", \"azureml-contrib-notebook\": \"1.38.0\", \"azureml-contrib-fairness\": \"1.38.0\", \"azureml-contrib-dataset\": \"1.38.0\", \"azureml-contrib-automl-pipeline-steps\": \"1.38.0\", \"azureml-cli-common\": \"1.38.0\", \"azureml-automl-runtime\": \"1.38.0\", \"azureml-automl-dnn-nlp\": \"1.38.0\", \"azureml-automl-core\": \"1.39.1\", \"azureml-accel-models\": \"1.38.0\"}',\n",
       "  '_aml_system_scenario_identification': 'Remote.Parent',\n",
       "  'ClientType': 'SDK',\n",
       "  'environment_cpu_name': 'AzureML-AutoML-DNN-Vision-GPU',\n",
       "  'environment_cpu_label': 'Latest',\n",
       "  'environment_gpu_name': 'AzureML-AutoML-DNN-Vision-GPU',\n",
       "  'environment_gpu_label': 'Latest',\n",
       "  'root_attribution': 'AutoMLImageSDK',\n",
       "  'attribution': 'AutoML',\n",
       "  'Orchestrator': 'AutoML',\n",
       "  'CancelUri': 'https://eastus.api.azureml.ms/jasmine/v1.0/subscriptions/83da1f6b-22c0-4300-aa13-bd260eab57e5/resourceGroups/amldatalabeling/providers/Microsoft.MachineLearningServices/workspaces/Computer_Vision_Pipeline/experimentids/e7de3111-5e52-40a9-a0c2-7808320abd68/cancel/AutoML_5fbb72c4-af92-4308-879d-f23f23317f6b',\n",
       "  'ClientSdkVersion': '1.39.1',\n",
       "  'snapshotId': '00000000-0000-0000-0000-000000000000'},\n",
       " 'inputDatasets': [{'dataset': {'id': 'f3e64977-52b9-4075-84f7-af59ce7d4dcc'}, 'consumptionDetails': {'type': 'RunInput', 'inputName': 'training_data', 'mechanism': 'Direct'}}],\n",
       " 'outputDatasets': [],\n",
       " 'logFiles': {},\n",
       " 'submittedBy': 'Rick Durham'}"
      ]
     },
     "execution_count": 29,
     "metadata": {},
     "output_type": "execute_result"
    }
   ],
   "source": [
    "automl_image_run.wait_for_completion(wait_post_processing=True)"
   ]
  },
  {
   "cell_type": "markdown",
   "metadata": {},
   "source": [
    "When doing a hyperparameter sweep, it can be useful to visualize the different configurations that were tried using the HyperDrive UI. You can navigate to this UI by going to the 'Child runs' tab in the UI of the main `automl_image_run` from above, which is the HyperDrive parent run. Then you can go into the 'Child runs' tab of this HyperDrive parent run. Alternatively, here below you can see directly the HyperDrive parent run and navigate to its 'Child runs' tab:"
   ]
  },
  {
   "cell_type": "markdown",
   "metadata": {},
   "source": [
    "## Register the optimal vision model from the AutoML run\n",
    "Once the run completes, we can register the model that was created from the best run (configuration that resulted in the best primary metric)"
   ]
  },
  {
   "cell_type": "code",
   "execution_count": 30,
   "metadata": {},
   "outputs": [],
   "source": [
    "# Register the model from the best run\n",
    "\n",
    "best_child_run = automl_image_run.get_best_child()\n",
    "model_name = best_child_run.properties[\"model_name\"]\n",
    "model = best_child_run.register_model(\n",
    "    model_name=model_name, model_path=\"outputs/model.pt\"\n",
    ")"
   ]
  },
  {
   "cell_type": "markdown",
   "metadata": {},
   "source": [
    "## Download the model and other associated files e.g. labels"
   ]
  },
  {
   "cell_type": "code",
   "execution_count": 31,
   "metadata": {},
   "outputs": [],
   "source": [
    "#https://github.com/MicrosoftDocs/azure-docs/blob/master/articles/machine-learning/how-to-inference-onnx-automl-image-models.md\n",
    "# Create a model folder in the current directory\n",
    "os.makedirs('./model', exist_ok=True)\n",
    "\n",
    "# Download the model from run history\n",
    "best_child_run.download_file(name='train_artifacts/model.onnx',\n",
    "output_file_path='./model/model.onnx')\n",
    "\n",
    "best_child_run.download_file(name='train_artifacts/labels.json',\n",
    "output_file_path='./model/labels.json')\n"
   ]
  },
  {
   "cell_type": "markdown",
   "metadata": {},
   "source": [
    "###  ***Optional: if you trained the model earlier you can still down load the model and label  using Run id. This will be the highest level run id from a child run perspective"
   ]
  },
  {
   "cell_type": "code",
   "execution_count": null,
   "metadata": {},
   "outputs": [],
   "source": [
    "# Select the best child run\n",
    "from azureml.train.automl.run import AutoMLRun\n",
    "import json\n",
    "\n",
    "run_id = \"AutoML_0ce91e3f-1742-43a0-8b56-a6b5db5fbb42\" # Specify the run ID\n",
    "automl_image_run = AutoMLRun(experiment=experiment, run_id=run_id)\n",
    "best_child_run = automl_image_run.get_best_child()\n",
    "\n",
    "labels_file = \"./model/labels.json\"\n",
    "best_child_run.download_file(name=\"train_artifacts/labels.json\", output_file_path=labels_file)\n",
    "\n",
    "onnx_model_path = \"./model/model.onnx\"\n",
    "best_child_run.download_file(name=\"train_artifacts/model.onnx\", output_file_path=onnx_model_path)"
   ]
  },
  {
   "cell_type": "markdown",
   "metadata": {},
   "source": [
    "## Load the labels and ONNX model files"
   ]
  },
  {
   "cell_type": "code",
   "execution_count": 32,
   "metadata": {},
   "outputs": [
    {
     "name": "stdout",
     "output_type": "stream",
     "text": [
      "['coke', 'diet_coke', 'sprite']\n",
      "ONNX model loaded...\n"
     ]
    }
   ],
   "source": [
    "import onnxruntime\n",
    "import json\n",
    "\n",
    "labels_file = \"./model/labels.json\"\n",
    "onnx_model_path = \"./model/model.onnx\"\n",
    "\n",
    "\n",
    "with open(labels_file) as f:\n",
    "    classes = json.load(f)\n",
    "print(classes)\n",
    "try:\n",
    "    session = onnxruntime.InferenceSession(onnx_model_path)\n",
    "    print(\"ONNX model loaded...\")\n",
    "except Exception as e: \n",
    "    print(\"Error loading ONNX file: \",str(e))"
   ]
  },
  {
   "cell_type": "markdown",
   "metadata": {},
   "source": [
    "## Get expected input and output details for an ONNX model"
   ]
  },
  {
   "cell_type": "code",
   "execution_count": 33,
   "metadata": {},
   "outputs": [
    {
     "name": "stdout",
     "output_type": "stream",
     "text": [
      "No. of inputs : 1, No. of outputs : 4\n",
      "0 Input name : input, Input shape : ['batch', 3, 640, 640],     Input type  : tensor(float)\n",
      " 0 Output name : output, Output shape : ['batch', 25200, 8],     Output type  : tensor(float)\n",
      " 1 Output name : 1006, Output shape : [1, 3, 80, 80, 8],     Output type  : tensor(float)\n",
      " 2 Output name : 1354, Output shape : [1, 3, 40, 40, 8],     Output type  : tensor(float)\n",
      " 3 Output name : 1702, Output shape : [1, 3, 20, 20, 8],     Output type  : tensor(float)\n"
     ]
    }
   ],
   "source": [
    "sess_input = session.get_inputs()\n",
    "sess_output = session.get_outputs()\n",
    "print(f\"No. of inputs : {len(sess_input)}, No. of outputs : {len(sess_output)}\")\n",
    "\n",
    "for idx, input_ in enumerate(range(len(sess_input))):\n",
    "    input_name = sess_input[input_].name\n",
    "    input_shape = sess_input[input_].shape\n",
    "    input_type = sess_input[input_].type\n",
    "    print(f\"{idx} Input name : { input_name }, Input shape : {input_shape}, \\\n",
    "    Input type  : {input_type}\")  \n",
    "\n",
    "for idx, output in enumerate(range(len(sess_output))):\n",
    "    output_name = sess_output[output].name\n",
    "    output_shape = sess_output[output].shape\n",
    "    output_type = sess_output[output].type\n",
    "    print(f\" {idx} Output name : {output_name}, Output shape : {output_shape}, \\\n",
    "    Output type  : {output_type}\") "
   ]
  },
  {
   "cell_type": "markdown",
   "metadata": {},
   "source": [
    "## Image Inferencing Preprocessing"
   ]
  },
  {
   "cell_type": "code",
   "execution_count": 34,
   "metadata": {},
   "outputs": [],
   "source": [
    "#Determine the working directory for where the help module yolo_onnx_preprocessing_utils.py is stored\n",
    "MODULE_FULL_PATH = !pwd"
   ]
  },
  {
   "cell_type": "code",
   "execution_count": 35,
   "metadata": {},
   "outputs": [
    {
     "name": "stdout",
     "output_type": "stream",
     "text": [
      "/mnt/batch/tasks/shared/LS_root/mounts/clusters/imageprocessing2/code/Users/rdurham/GTC\r\n"
     ]
    }
   ],
   "source": [
    "!pwd"
   ]
  },
  {
   "cell_type": "code",
   "execution_count": 36,
   "metadata": {},
   "outputs": [
    {
     "data": {
      "text/plain": [
       "('batch', 3, 640, 640)"
      ]
     },
     "execution_count": 36,
     "metadata": {},
     "output_type": "execute_result"
    }
   ],
   "source": [
    "batch, channel, height_onnx, width_onnx = session.get_inputs()[0].shape\n",
    "batch, channel, height_onnx, width_onnx"
   ]
  },
  {
   "cell_type": "code",
   "execution_count": 37,
   "metadata": {},
   "outputs": [],
   "source": [
    "#Add the helper module yolo_onnx_preprocessing_utils to the system path where python looks for modules\n",
    "import sys\n",
    "sys.path.insert(1, MODULE_FULL_PATH)\n",
    "import yolo_onnx_preprocessing_utils\n",
    "from yolo_onnx_preprocessing_utils import preprocess\n",
    "\n",
    "test_image_path = \"test_image1.jpg\"\n",
    "img_data, pad = preprocess(test_image_path)"
   ]
  },
  {
   "cell_type": "code",
   "execution_count": 38,
   "metadata": {},
   "outputs": [],
   "source": [
    "def get_predictions_from_ONNX(onnx_session,img_data):\n",
    "    \"\"\"perform predictions with ONNX Runtime\n",
    "    \n",
    "    :param onnx_session: onnx model session\n",
    "    :type onnx_session: class InferenceSession\n",
    "    :param img_data: pre-processed numpy image\n",
    "    :type img_data: ndarray with shape 1xCxHxW\n",
    "    :return: boxes, labels , scores \n",
    "    :rtype: list\n",
    "    \"\"\"\n",
    "    sess_input = onnx_session.get_inputs()\n",
    "    sess_output = onnx_session.get_outputs()\n",
    "    # predict with ONNX Runtime\n",
    "    output_names = [ output.name for output in sess_output]\n",
    "    pred = onnx_session.run(output_names=output_names,\\\n",
    "                                               input_feed={sess_input[0].name: img_data})\n",
    "    return pred[0]\n",
    "\n",
    "result = get_predictions_from_ONNX(session, img_data)"
   ]
  },
  {
   "cell_type": "markdown",
   "metadata": {},
   "source": [
    "## Object detection with YOLO"
   ]
  },
  {
   "cell_type": "code",
   "execution_count": 39,
   "metadata": {},
   "outputs": [
    {
     "name": "stdout",
     "output_type": "stream",
     "text": [
      "[[[4.2774744e+00 5.5005941e+00 1.9845858e+01 ... 3.9523542e-02\n",
      "   1.6055465e-02 1.6915256e-01]\n",
      "  [1.1440496e+01 5.7325211e+00 2.9350723e+01 ... 2.5400490e-02\n",
      "   3.0630350e-02 3.2139054e-01]\n",
      "  [1.6931047e+01 5.4052038e+00 3.4524540e+01 ... 3.8967639e-02\n",
      "   3.3082724e-02 4.4068259e-01]\n",
      "  ...\n",
      "  [5.5809924e+02 6.3234149e+02 2.7686578e+02 ... 4.1146129e-02\n",
      "   4.3188512e-02 4.5593277e-01]\n",
      "  [5.8875940e+02 6.3231311e+02 2.5874753e+02 ... 4.6435684e-02\n",
      "   4.4431090e-02 5.0632012e-01]\n",
      "  [6.1518256e+02 6.3266022e+02 2.5044695e+02 ... 4.1857779e-02\n",
      "   5.9921652e-02 3.1840980e-01]]]\n"
     ]
    }
   ],
   "source": [
    "print(result)"
   ]
  },
  {
   "cell_type": "code",
   "execution_count": 40,
   "metadata": {},
   "outputs": [
    {
     "data": {
      "text/plain": [
       "(array([[ 72.23576 , 337.7364  , 226.24287 , 483.      ],\n",
       "        [ 38.275406,   4.632599, 203.78868 , 326.54446 ],\n",
       "        [213.50325 , 332.0423  , 379.50623 , 483.      ],\n",
       "        [380.3884  , 299.76483 , 544.1224  , 483.      ],\n",
       "        [202.35272 ,  20.118835, 362.77155 , 304.4082  ],\n",
       "        [360.56702 ,  14.973358, 543.02594 , 295.23505 ],\n",
       "        [ 97.33424 , 309.63834 , 187.12184 , 483.      ],\n",
       "        [418.41144 , 296.4729  , 500.1087  , 483.      ],\n",
       "        [251.80829 , 304.6262  , 338.93182 , 483.      ]], dtype=float32),\n",
       " [1, 1, 1, 1, 1, 1, 1, 1, 1],\n",
       " [0.91246396,\n",
       "  0.90518725,\n",
       "  0.900867,\n",
       "  0.8934648,\n",
       "  0.8322985,\n",
       "  0.8222588,\n",
       "  0.4425179,\n",
       "  0.30126727,\n",
       "  0.29514992])"
      ]
     },
     "execution_count": 40,
     "metadata": {},
     "output_type": "execute_result"
    }
   ],
   "source": [
    "from yolo_onnx_preprocessing_utils import non_max_suppression, _convert_to_rcnn_output\n",
    "import torch\n",
    "\n",
    "result = non_max_suppression(\n",
    "    torch.from_numpy(result),\n",
    "    conf_thres=.1,\n",
    "    iou_thres=.5)\n",
    "label, image_shape = _convert_to_rcnn_output(result[0], height_onnx, width_onnx, pad)\n",
    "boxes = np.array(label[\"boxes\"])\n",
    "labels = np.array(label[\"labels\"])\n",
    "labels = [label[0] for label in labels]\n",
    "scores = np.array(label[\"scores\"])\n",
    "scores = [score[0] for score in scores]\n",
    "boxes, labels, scores"
   ]
  },
  {
   "cell_type": "code",
   "execution_count": 41,
   "metadata": {},
   "outputs": [
    {
     "name": "stdout",
     "output_type": "stream",
     "text": [
      "[\n",
      " {\n",
      "  \"box\": {\n",
      "   \"topX\": 0.11286838054656982,\n",
      "   \"topY\": 0.5277131080627442,\n",
      "   \"bottomX\": 0.35350449085235597,\n",
      "   \"bottomY\": 0.7546875\n",
      "  },\n",
      "  \"label\": \"diet_coke\",\n",
      "  \"score\": 0.9124639630317688\n",
      " },\n",
      " {\n",
      "  \"box\": {\n",
      "   \"topX\": 0.05980532169342041,\n",
      "   \"topY\": 0.007238435745239258,\n",
      "   \"bottomX\": 0.31841981410980225,\n",
      "   \"bottomY\": 0.5102257251739502\n",
      "  },\n",
      "  \"label\": \"diet_coke\",\n",
      "  \"score\": 0.9051872491836548\n",
      " },\n",
      " {\n",
      "  \"box\": {\n",
      "   \"topX\": 0.33359882831573484,\n",
      "   \"topY\": 0.5188160896301269,\n",
      "   \"bottomX\": 0.5929784774780273,\n",
      "   \"bottomY\": 0.7546875\n",
      "  },\n",
      "  \"label\": \"diet_coke\",\n",
      "  \"score\": 0.9008669853210449\n",
      " },\n",
      " {\n",
      "  \"box\": {\n",
      "   \"topX\": 0.5943568706512451,\n",
      "   \"topY\": 0.4683825492858887,\n",
      "   \"bottomX\": 0.8501912117004394,\n",
      "   \"bottomY\": 0.7546875\n",
      "  },\n",
      "  \"label\": \"diet_coke\",\n",
      "  \"score\": 0.8934648036956787\n",
      " },\n",
      " {\n",
      "  \"box\": {\n",
      "   \"topX\": 0.3161761283874512,\n",
      "   \"topY\": 0.031435680389404294,\n",
      "   \"bottomX\": 0.5668305397033692,\n",
      "   \"bottomY\": 0.4756378173828125\n",
      "  },\n",
      "  \"label\": \"diet_coke\",\n",
      "  \"score\": 0.8322985172271729\n",
      " },\n",
      " {\n",
      "  \"box\": {\n",
      "   \"topX\": 0.5633859634399414,\n",
      "   \"topY\": 0.023395872116088866,\n",
      "   \"bottomX\": 0.8484780311584472,\n",
      "   \"bottomY\": 0.461304759979248\n",
      "  },\n",
      "  \"label\": \"diet_coke\",\n",
      "  \"score\": 0.8222587704658508\n",
      " },\n",
      " {\n",
      "  \"box\": {\n",
      "   \"topX\": 0.15208475589752196,\n",
      "   \"topY\": 0.4838099002838135,\n",
      "   \"bottomX\": 0.2923778772354126,\n",
      "   \"bottomY\": 0.7546875\n",
      "  },\n",
      "  \"label\": \"diet_coke\",\n",
      "  \"score\": 0.4425179064273834\n",
      " },\n",
      " {\n",
      "  \"box\": {\n",
      "   \"topX\": 0.6537678718566895,\n",
      "   \"topY\": 0.4632389068603516,\n",
      "   \"bottomX\": 0.7814198493957519,\n",
      "   \"bottomY\": 0.7546875\n",
      "  },\n",
      "  \"label\": \"diet_coke\",\n",
      "  \"score\": 0.30126726627349854\n",
      " },\n",
      " {\n",
      "  \"box\": {\n",
      "   \"topX\": 0.3934504508972168,\n",
      "   \"topY\": 0.475978422164917,\n",
      "   \"bottomX\": 0.5295809745788574,\n",
      "   \"bottomY\": 0.7546875\n",
      "  },\n",
      "  \"label\": \"diet_coke\",\n",
      "  \"score\": 0.29514992237091064\n",
      " }\n",
      "]\n"
     ]
    }
   ],
   "source": [
    "def _get_box_dims(image_shape, box):\n",
    "    box_keys = ['topX', 'topY', 'bottomX', 'bottomY']\n",
    "    height, width = image_shape[0], image_shape[1]\n",
    "\n",
    "    box_dims = dict(zip(box_keys, [coordinate.item() for coordinate in box]))\n",
    "\n",
    "    box_dims['topX'] = box_dims['topX'] * 1.0 / width\n",
    "    box_dims['bottomX'] = box_dims['bottomX'] * 1.0 / width\n",
    "    box_dims['topY'] = box_dims['topY'] * 1.0 / height\n",
    "    box_dims['bottomY'] = box_dims['bottomY'] * 1.0 / height\n",
    "\n",
    "    return box_dims\n",
    "\n",
    "def _get_prediction(boxes, labels, scores, image_shape, classes):\n",
    "    bounding_boxes = []\n",
    "    for box, label_index, score in zip(boxes, labels, scores):\n",
    "        box_dims = _get_box_dims(image_shape, box)\n",
    "\n",
    "        box_record = {'box': box_dims,\n",
    "                      'label': classes[label_index],\n",
    "                      'score': score.item()}\n",
    "\n",
    "        bounding_boxes.append(box_record)\n",
    "\n",
    "    return bounding_boxes\n",
    "\n",
    "bounding_boxes = _get_prediction(boxes, labels, scores, (height_onnx,width_onnx), classes)\n",
    "print(json.dumps(bounding_boxes, indent=1))\n",
    "\n",
    "# Filter the results with a threshold.\n",
    "# Replace the threshold for your test scenario.\n",
    "score_threshold = 0.6\n",
    "filtered_bounding_boxes = []\n",
    "for box in bounding_boxes:\n",
    "    if box['score'] >= score_threshold:\n",
    "       filtered_bounding_boxes.append(box)"
   ]
  },
  {
   "cell_type": "code",
   "execution_count": 42,
   "metadata": {},
   "outputs": [
    {
     "name": "stdout",
     "output_type": "stream",
     "text": [
      "(816, 616)\n",
      "diet_coke: 92.10059852600098, 438.8462206649781, 196.35906600952148, 139.81622543334956\n",
      "diet_coke: 48.80114250183106, 6.019483165740967, 211.0294258117676, 309.84017028808586\n",
      "diet_coke: 272.2166439056396, 431.44746013641355, 211.65379371643067, 145.2967887878418\n",
      "diet_coke: 484.995206451416, 389.50692798614506, 208.76082229614258, 176.36384963989255\n",
      "diet_coke: 257.99972076416014, 26.14191181182861, 204.53399963378908, 273.62851638793944\n",
      "diet_coke: 459.7229461669922, 19.4560072517395, 232.63512725830074, 269.75187492370605\n"
     ]
    },
    {
     "data": {
      "text/plain": [
       "<Figure size 1296x864 with 0 Axes>"
      ]
     },
     "metadata": {},
     "output_type": "display_data"
    },
    {
     "data": {
      "image/png": "[encoded data removed]",
      "text/plain": [
       "<Figure size 432x288 with 1 Axes>"
      ]
     },
     "metadata": {
      "needs_background": "light"
     },
     "output_type": "display_data"
    }
   ],
   "source": [
    "import matplotlib.pyplot as plt\n",
    "import matplotlib.image as mpimg\n",
    "import matplotlib.patches as patches\n",
    "from PIL import Image\n",
    "%matplotlib inline\n",
    "\n",
    "IMAGE_SIZE = (18,12)\n",
    "plt.figure(figsize=IMAGE_SIZE)\n",
    "img_np = mpimg.imread(test_image_path)\n",
    "img = Image.fromarray(img_np.astype('uint8'),'RGB')\n",
    "x, y = img.size\n",
    "print(img.size)\n",
    "\n",
    "fig,ax = plt.subplots(1)\n",
    "# Display the image\n",
    "ax.imshow(img_np)\n",
    "\n",
    "# Draw a box and label for each detection \n",
    "for detect in filtered_bounding_boxes:\n",
    "    label = detect['label']\n",
    "    box = detect['box']\n",
    "    ymin, xmin, ymax, xmax =  box['topY'],box['topX'], box['bottomY'],box['bottomX']\n",
    "    topleft_x, topleft_y = x  * xmin, y *  1.35 *ymin\n",
    "    width, height = x *  (xmax - xmin), y * (ymax - ymin)\n",
    "    print('{}: {}, {}, {}, {}'.format(detect['label'], topleft_x, topleft_y, width, height))\n",
    "    rect = patches.Rectangle((topleft_x, topleft_y), width, height, \n",
    "                             linewidth=1, edgecolor='green',facecolor='none')\n",
    "\n",
    "    ax.add_patch(rect)\n",
    "    color = 'green'\n",
    "    plt.text(topleft_x, topleft_y, label, color=color)\n",
    "\n",
    "plt.show()"
   ]
  },
  {
   "cell_type": "code",
   "execution_count": null,
   "metadata": {},
   "outputs": [],
   "source": []
  }
 ],
 "metadata": {
  "kernelspec": {
   "display_name": "Python 3.6 - AzureML",
   "language": "python",
   "name": "python3-azureml"
  },
  "language_info": {
   "codemirror_mode": {
    "name": "ipython",
    "version": 3
   },
   "file_extension": ".py",
   "mimetype": "text/x-python",
   "name": "python",
   "nbconvert_exporter": "python",
   "pygments_lexer": "ipython3",
   "version": "3.6.9"
  },
  "nteract": {
   "version": "nteract-front-end@1.0.0"
  }
 },
 "nbformat": 4,
 "nbformat_minor": 2
}
